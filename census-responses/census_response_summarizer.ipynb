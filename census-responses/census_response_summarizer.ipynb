{
  "nbformat": 4,
  "nbformat_minor": 0,
  "metadata": {
    "kernelspec": {
      "display_name": "Python 3",
      "language": "python",
      "name": "python3"
    },
    "language_info": {
      "codemirror_mode": {
        "name": "ipython",
        "version": 3
      },
      "file_extension": ".py",
      "mimetype": "text/x-python",
      "name": "python",
      "nbconvert_exporter": "python",
      "pygments_lexer": "ipython3",
      "version": "3.7.2"
    },
    "colab": {
      "name": "census-response-summarizer.ipynb",
      "provenance": [],
      "include_colab_link": true
    }
  },
  "cells": [
    {
      "cell_type": "markdown",
      "metadata": {
        "id": "view-in-github",
        "colab_type": "text"
      },
      "source": [
        "<a href=\"https://colab.research.google.com/github/tdiffendal/USAT/blob/master/census-responses/census_response_summarizer.ipynb\" target=\"_parent\"><img src=\"https://colab.research.google.com/assets/colab-badge.svg\" alt=\"Open In Colab\"/></a>"
      ]
    },
    {
      "cell_type": "code",
      "metadata": {
        "id": "fj2FJGaK4nju",
        "colab_type": "code",
        "colab": {}
      },
      "source": [
        "import csv\n",
        "from collections import OrderedDict"
      ],
      "execution_count": null,
      "outputs": []
    },
    {
      "cell_type": "code",
      "metadata": {
        "id": "IVfhcp_j4njx",
        "colab_type": "code",
        "colab": {}
      },
      "source": [
        "numbersasnumbers = [\n",
        "    \"CR20\",\n",
        "    \"CR10\",\n",
        "    \"CDIFF\",\n",
        "    \"internet\",\n",
        "    \"population\",\n",
        "    \"households\",\n",
        "    \"white\"\n",
        "]"
      ],
      "execution_count": null,
      "outputs": []
    },
    {
      "cell_type": "code",
      "metadata": {
        "id": "5O5PY20T4nj0",
        "colab_type": "code",
        "colab": {}
      },
      "source": [
        "highlightfields = [\n",
        "    \"county_name\",\n",
        "    \"CR20\",\n",
        "    \"CDIFF\",\n",
        "    \"minoritypct\",\n",
        "    \"internetpct\"\n",
        "]"
      ],
      "execution_count": null,
      "outputs": []
    },
    {
      "cell_type": "code",
      "metadata": {
        "id": "lAib0MEv4nj4",
        "colab_type": "code",
        "colab": {}
      },
      "source": [
        "fieldsets = [\n",
        "# human name, field name, sortorder reversed?\n",
        "    (\"high return rate\", \"CR20\", True),\n",
        "    (\"low return rate\", \"CR20\", False),\n",
        "    (\"high population\", \"population\", True)\n",
        "]"
      ],
      "execution_count": null,
      "outputs": []
    },
    {
      "cell_type": "code",
      "metadata": {
        "id": "pni46H-K4nj6",
        "colab_type": "code",
        "colab": {}
      },
      "source": [
        "countydict = {}\n",
        "with open(\"counties.csv\", \"r\") as infile:\n",
        "    reader = csv.DictReader(infile)\n",
        "    for row in reader:\n",
        "        state = row['State']\n",
        "        if state not in countydict:\n",
        "            countydict[state] = []\n",
        "        fips = row['FIPS20']\n",
        "        del row['']    # Lose pandas row number\n",
        "        for thingy in numbersasnumbers:\n",
        "            if row[thingy] != '':\n",
        "                row[thingy] = float(row[thingy])\n",
        "        row['minority'] = ''\n",
        "        row['minoritypct'] = ''\n",
        "        row['internetpct'] = ''\n",
        "        if row['white'] != '':\n",
        "            if row['population'] != '' and row['population'] != 0:\n",
        "                row['minoritypct'] = 100 * (row['population'] - row['white'])/row['population']\n",
        "            if row['households'] != '' and row['households'] != 0:\n",
        "                row['internetpct'] = 100 * row['internet'] / row['households']\n",
        "        countydict[state].append(row)"
      ],
      "execution_count": null,
      "outputs": []
    },
    {
      "cell_type": "code",
      "metadata": {
        "id": "fH1f8iJb4nj9",
        "colab_type": "code",
        "colab": {}
      },
      "source": [
        "#"
      ],
      "execution_count": null,
      "outputs": []
    },
    {
      "cell_type": "code",
      "metadata": {
        "id": "FEdOsbkn4nj_",
        "colab_type": "code",
        "colab": {}
      },
      "source": [
        "statedict = {}\n",
        "with open(\"states.csv\", \"r\") as infile:\n",
        "    reader = csv.DictReader(infile)\n",
        "    for row in reader:\n",
        "        del row['']    # Lose pandas row number\n",
        "        state = row['State']\n",
        "        statedict[state] = row"
      ],
      "execution_count": null,
      "outputs": []
    },
    {
      "cell_type": "code",
      "metadata": {
        "id": "qKmYJyEm4nkC",
        "colab_type": "code",
        "colab": {}
      },
      "source": [
        "for state in statedict:\n",
        "    if state not in countydict:\n",
        "        print(state)\n",
        "for state in countydict:\n",
        "    if state not in statedict:\n",
        "        print(state)\n",
        "# OK, nothing extra, nothing missing"
      ],
      "execution_count": null,
      "outputs": []
    },
    {
      "cell_type": "code",
      "metadata": {
        "id": "H9GKvsmE4nkE",
        "colab_type": "code",
        "colab": {}
      },
      "source": [
        "# statedict.keys()"
      ],
      "execution_count": null,
      "outputs": []
    },
    {
      "cell_type": "code",
      "metadata": {
        "id": "z-V2SHh64nkG",
        "colab_type": "code",
        "colab": {}
      },
      "source": [
        "# PR and DC! Yay!"
      ],
      "execution_count": null,
      "outputs": []
    },
    {
      "cell_type": "code",
      "metadata": {
        "id": "bhhTPjQr4nkI",
        "colab_type": "code",
        "colab": {},
        "outputId": "676a104e-9453-4d18-b5b0-cca4275be36b"
      },
      "source": [
        "# https://stackoverflow.com/questions/13573123/sort-dictionary-of-dictionaries-by-value\n",
        "sr20ranklist = sorted(statedict,key=lambda state:statedict[state]['SR20'], reverse=True)\n",
        "len(sr20ranklist)"
      ],
      "execution_count": null,
      "outputs": [
        {
          "output_type": "execute_result",
          "data": {
            "text/plain": [
              "52"
            ]
          },
          "metadata": {
            "tags": []
          },
          "execution_count": 30
        }
      ]
    },
    {
      "cell_type": "code",
      "metadata": {
        "id": "Ilmk00IE4nkL",
        "colab_type": "code",
        "colab": {}
      },
      "source": [
        "for state in statedict:\n",
        "    statedict[state][\"sr20rank\"] = sr20ranklist.index(state) + 1    \n",
        "    for fieldset in fieldsets:   #         # human name, field name, sortorder reversed?\n",
        "        humanname, fieldname, sortorder = fieldset\n",
        "        locallist = [d for d in countydict[state] if d[fieldname] != '']   # Filter out empty entries\n",
        "        templist = sorted(locallist, key = lambda i: i[fieldname], reverse=sortorder)   # Sort\n",
        "        # OK, DC trips us up by not having more than one county.\n",
        "        for i in range(1, 3 + 1):\n",
        "            for highlightfield in highlightfields:\n",
        "                statedict[state][f\"{humanname}{i} {highlightfield}\"] = \"\"   # Store a blank entry for each\n",
        "                if len(templist) >= i:\n",
        "                    statedict[state][f\"{humanname}{i} {highlightfield}\"] = templist[i-1][highlightfield]"
      ],
      "execution_count": null,
      "outputs": []
    },
    {
      "cell_type": "code",
      "metadata": {
        "id": "n9OKng9z4nkN",
        "colab_type": "code",
        "colab": {}
      },
      "source": [
        "headers = list(statedict['Florida'].keys())\n",
        "with open(\"census-response-wide.csv\", \"w\", newline='') as outfile:\n",
        "    writer = csv.writer(outfile)\n",
        "    writer.writerow(headers)\n",
        "    for state in sorted(statedict):\n",
        "        writer.writerow(list(statedict[state].values()))"
      ],
      "execution_count": null,
      "outputs": []
    },
    {
      "cell_type": "code",
      "metadata": {
        "id": "KKRLGW6J4nkP",
        "colab_type": "code",
        "colab": {}
      },
      "source": [
        ""
      ],
      "execution_count": null,
      "outputs": []
    },
    {
      "cell_type": "code",
      "metadata": {
        "id": "xGLtCk2j4nkS",
        "colab_type": "code",
        "colab": {}
      },
      "source": [
        ""
      ],
      "execution_count": null,
      "outputs": []
    }
  ]
}