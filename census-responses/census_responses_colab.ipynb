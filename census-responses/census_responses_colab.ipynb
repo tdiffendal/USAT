{
  "nbformat": 4,
  "nbformat_minor": 0,
  "metadata": {
    "kernelspec": {
      "display_name": "Python 3",
      "language": "python",
      "name": "python3"
    },
    "language_info": {
      "codemirror_mode": {
        "name": "ipython",
        "version": 3
      },
      "file_extension": ".py",
      "mimetype": "text/x-python",
      "name": "python",
      "nbconvert_exporter": "python",
      "pygments_lexer": "ipython3",
      "version": "3.7.4"
    },
    "colab": {
      "name": "census-responses-colab.ipynb",
      "provenance": [],
      "collapsed_sections": [
        "ppli4PGC4oZd",
        "QutNTWkb4oZN",
        "ftKA9hxg4oaM",
        "LHhffDBjJmEC",
        "2tN9xyjpHg9t",
        "kmLScMTr4oZQ",
        "WAjhY7qa-UCO",
        "yuG9IMvlwcHv",
        "KsqdFNHru1zN"
      ],
      "toc_visible": true,
      "include_colab_link": true
    }
  },
  "cells": [
    {
      "cell_type": "markdown",
      "metadata": {
        "id": "view-in-github",
        "colab_type": "text"
      },
      "source": [
        "<a href=\"https://colab.research.google.com/github/tdiffendal/USAT/blob/master/census-responses/census_responses_colab.ipynb\" target=\"_parent\"><img src=\"https://colab.research.google.com/assets/colab-badge.svg\" alt=\"Open In Colab\"/></a>"
      ]
    },
    {
      "cell_type": "markdown",
      "metadata": {
        "id": "XbXbhig24oZG",
        "colab_type": "text"
      },
      "source": [
        "# 2020 Census Response Rate Analysis\n",
        "\n",
        "### Theresa Diffendal, USA Today data intern, 06/2020\n",
        "\n",
        "#### 2020 response rates from: https://2020census.gov/en/response-rates.html\n",
        "#### 2010 response rates from: https://api.census.gov/data/2010/dec/responserate/variables.html\n",
        "#### Demographic information in 2014-2018 ACS 5-year-estimate from: https://data2.nhgis.org/main"
      ]
    },
    {
      "cell_type": "markdown",
      "metadata": {
        "id": "Sxd7lfhbqD3W",
        "colab_type": "text"
      },
      "source": [
        "## Read, Merge, Clean Data"
      ]
    },
    {
      "cell_type": "markdown",
      "metadata": {
        "id": "WDwZx7aHAWpf",
        "colab_type": "text"
      },
      "source": [
        "### Initial Load and Merge"
      ]
    },
    {
      "cell_type": "code",
      "metadata": {
        "id": "JJLUt_iT7F2F",
        "colab_type": "code",
        "colab": {}
      },
      "source": [
        "import pandas as pd\n",
        "import numpy as np"
      ],
      "execution_count": 594,
      "outputs": []
    },
    {
      "cell_type": "code",
      "metadata": {
        "id": "JzhO6z06yH99",
        "colab_type": "code",
        "colab": {
          "base_uri": "https://localhost:8080/",
          "height": 35
        },
        "outputId": "28ca7fb7-738a-4997-9c42-6665b36275a0"
      },
      "source": [
        "#mount drive\n",
        "from google.colab import drive\n",
        "drive.mount('/content/drive',force_remount=True)"
      ],
      "execution_count": 595,
      "outputs": [
        {
          "output_type": "stream",
          "text": [
            "Mounted at /content/drive\n"
          ],
          "name": "stdout"
        }
      ]
    },
    {
      "cell_type": "code",
      "metadata": {
        "id": "Ip_J3r424oZH",
        "colab_type": "code",
        "colab": {}
      },
      "source": [
        "# merge responses, crosswalk and region\n",
        "# states paired with region as defined by census map at https://www2.census.gov/geo/pdfs/maps-data/maps/reference/us_regdiv.pdf\n",
        "\n",
        "merged = pd.merge(pd.read_csv('https://www2.census.gov/programs-surveys/decennial/2020/data/2020map/2020/decennialrr2020.csv',\n",
        "                         dtype={'CRRINT':np.float,\n",
        "                                'CRRALL':np.float}),\n",
        "                  pd.read_csv('https://www2.census.gov/programs-surveys/decennial/2020/data/2020map/2020/decennialrr2020_crosswalkfile.csv', encoding='ISO-8859-1'),\n",
        "                  on='GEO_ID').merge(\n",
        "                      pd.read_csv('https://raw.githubusercontent.com/tdiffendal/USAT/master/census-responses/data/state_region.csv'),\n",
        "                          on='State')\n",
        "\n",
        "# create column showing responses not from internet\n",
        "merged['not_int'] = merged.CRRALL - merged.CRRINT\n",
        "merged['not_int_pct'] = (merged.not_int) * 100 / merged.CRRALL\n",
        "\n",
        "#reorder columns to move State, Geo_Name and Geo_Type to front; also going to drop some values\n",
        "merged = merged[['GEO_ID','RESP_DATE','State','Geo_Name','Region', \n",
        "                 'Geo_Type','CRRINT','not_int','not_int_pct','CRRALL']].rename(\n",
        "            columns={'CRRINT':'internet', 'CRRALL':'2020_rate'})"
      ],
      "execution_count": 596,
      "outputs": []
    },
    {
      "cell_type": "code",
      "metadata": {
        "id": "kn3SrzIi3nUn",
        "colab_type": "code",
        "colab": {
          "base_uri": "https://localhost:8080/",
          "height": 643
        },
        "outputId": "02791912-9dbb-438c-e84a-895f9b8f1b17"
      },
      "source": [
        "merged"
      ],
      "execution_count": 597,
      "outputs": [
        {
          "output_type": "execute_result",
          "data": {
            "text/html": [
              "<div>\n",
              "<style scoped>\n",
              "    .dataframe tbody tr th:only-of-type {\n",
              "        vertical-align: middle;\n",
              "    }\n",
              "\n",
              "    .dataframe tbody tr th {\n",
              "        vertical-align: top;\n",
              "    }\n",
              "\n",
              "    .dataframe thead th {\n",
              "        text-align: right;\n",
              "    }\n",
              "</style>\n",
              "<table border=\"1\" class=\"dataframe\">\n",
              "  <thead>\n",
              "    <tr style=\"text-align: right;\">\n",
              "      <th></th>\n",
              "      <th>GEO_ID</th>\n",
              "      <th>RESP_DATE</th>\n",
              "      <th>State</th>\n",
              "      <th>Geo_Name</th>\n",
              "      <th>Region</th>\n",
              "      <th>Geo_Type</th>\n",
              "      <th>internet</th>\n",
              "      <th>not_int</th>\n",
              "      <th>not_int_pct</th>\n",
              "      <th>2020_rate</th>\n",
              "    </tr>\n",
              "  </thead>\n",
              "  <tbody>\n",
              "    <tr>\n",
              "      <th>0</th>\n",
              "      <td>0100000US</td>\n",
              "      <td>2020-08-10</td>\n",
              "      <td>NaN</td>\n",
              "      <td>United States</td>\n",
              "      <td>na</td>\n",
              "      <td>Country</td>\n",
              "      <td>50.6</td>\n",
              "      <td>12.7</td>\n",
              "      <td>20.063191</td>\n",
              "      <td>63.3</td>\n",
              "    </tr>\n",
              "    <tr>\n",
              "      <th>1</th>\n",
              "      <td>0200000US1</td>\n",
              "      <td>2020-08-10</td>\n",
              "      <td>NaN</td>\n",
              "      <td>Northeast</td>\n",
              "      <td>na</td>\n",
              "      <td>Region</td>\n",
              "      <td>50.8</td>\n",
              "      <td>12.2</td>\n",
              "      <td>19.365079</td>\n",
              "      <td>63.0</td>\n",
              "    </tr>\n",
              "    <tr>\n",
              "      <th>2</th>\n",
              "      <td>0200000US2</td>\n",
              "      <td>2020-08-10</td>\n",
              "      <td>NaN</td>\n",
              "      <td>Midwest</td>\n",
              "      <td>na</td>\n",
              "      <td>Region</td>\n",
              "      <td>54.0</td>\n",
              "      <td>14.1</td>\n",
              "      <td>20.704846</td>\n",
              "      <td>68.1</td>\n",
              "    </tr>\n",
              "    <tr>\n",
              "      <th>3</th>\n",
              "      <td>0200000US3</td>\n",
              "      <td>2020-08-10</td>\n",
              "      <td>NaN</td>\n",
              "      <td>South</td>\n",
              "      <td>na</td>\n",
              "      <td>Region</td>\n",
              "      <td>46.8</td>\n",
              "      <td>13.5</td>\n",
              "      <td>22.388060</td>\n",
              "      <td>60.3</td>\n",
              "    </tr>\n",
              "    <tr>\n",
              "      <th>4</th>\n",
              "      <td>0200000US4</td>\n",
              "      <td>2020-08-10</td>\n",
              "      <td>NaN</td>\n",
              "      <td>West</td>\n",
              "      <td>na</td>\n",
              "      <td>Region</td>\n",
              "      <td>53.7</td>\n",
              "      <td>10.5</td>\n",
              "      <td>16.355140</td>\n",
              "      <td>64.2</td>\n",
              "    </tr>\n",
              "    <tr>\n",
              "      <th>...</th>\n",
              "      <td>...</td>\n",
              "      <td>...</td>\n",
              "      <td>...</td>\n",
              "      <td>...</td>\n",
              "      <td>...</td>\n",
              "      <td>...</td>\n",
              "      <td>...</td>\n",
              "      <td>...</td>\n",
              "      <td>...</td>\n",
              "      <td>...</td>\n",
              "    </tr>\n",
              "    <tr>\n",
              "      <th>123245</th>\n",
              "      <td>1400000US72153750502</td>\n",
              "      <td>2020-08-10</td>\n",
              "      <td>Puerto Rico</td>\n",
              "      <td>Tract 7505.02, Yauco</td>\n",
              "      <td>Puerto Rico</td>\n",
              "      <td>Census Tract</td>\n",
              "      <td>27.5</td>\n",
              "      <td>20.2</td>\n",
              "      <td>42.348008</td>\n",
              "      <td>47.7</td>\n",
              "    </tr>\n",
              "    <tr>\n",
              "      <th>123246</th>\n",
              "      <td>1400000US72153750503</td>\n",
              "      <td>2020-08-10</td>\n",
              "      <td>Puerto Rico</td>\n",
              "      <td>Tract 7505.03, Yauco</td>\n",
              "      <td>Puerto Rico</td>\n",
              "      <td>Census Tract</td>\n",
              "      <td>15.7</td>\n",
              "      <td>16.9</td>\n",
              "      <td>51.840491</td>\n",
              "      <td>32.6</td>\n",
              "    </tr>\n",
              "    <tr>\n",
              "      <th>123247</th>\n",
              "      <td>1400000US72153750601</td>\n",
              "      <td>2020-08-10</td>\n",
              "      <td>Puerto Rico</td>\n",
              "      <td>Tract 7506.01, Yauco</td>\n",
              "      <td>Puerto Rico</td>\n",
              "      <td>Census Tract</td>\n",
              "      <td>18.5</td>\n",
              "      <td>16.2</td>\n",
              "      <td>46.685879</td>\n",
              "      <td>34.7</td>\n",
              "    </tr>\n",
              "    <tr>\n",
              "      <th>123248</th>\n",
              "      <td>1400000US72153750602</td>\n",
              "      <td>2020-08-10</td>\n",
              "      <td>Puerto Rico</td>\n",
              "      <td>Tract 7506.02, Yauco</td>\n",
              "      <td>Puerto Rico</td>\n",
              "      <td>Census Tract</td>\n",
              "      <td>9.7</td>\n",
              "      <td>15.0</td>\n",
              "      <td>60.728745</td>\n",
              "      <td>24.7</td>\n",
              "    </tr>\n",
              "    <tr>\n",
              "      <th>123249</th>\n",
              "      <td>5001600US7298</td>\n",
              "      <td>2020-08-10</td>\n",
              "      <td>Puerto Rico</td>\n",
              "      <td>Resident Commissioner District (at Large)</td>\n",
              "      <td>Puerto Rico</td>\n",
              "      <td>Congressional District</td>\n",
              "      <td>14.8</td>\n",
              "      <td>14.0</td>\n",
              "      <td>48.611111</td>\n",
              "      <td>28.8</td>\n",
              "    </tr>\n",
              "  </tbody>\n",
              "</table>\n",
              "<p>123250 rows × 10 columns</p>\n",
              "</div>"
            ],
            "text/plain": [
              "                      GEO_ID   RESP_DATE        State  \\\n",
              "0                  0100000US  2020-08-10          NaN   \n",
              "1                 0200000US1  2020-08-10          NaN   \n",
              "2                 0200000US2  2020-08-10          NaN   \n",
              "3                 0200000US3  2020-08-10          NaN   \n",
              "4                 0200000US4  2020-08-10          NaN   \n",
              "...                      ...         ...          ...   \n",
              "123245  1400000US72153750502  2020-08-10  Puerto Rico   \n",
              "123246  1400000US72153750503  2020-08-10  Puerto Rico   \n",
              "123247  1400000US72153750601  2020-08-10  Puerto Rico   \n",
              "123248  1400000US72153750602  2020-08-10  Puerto Rico   \n",
              "123249         5001600US7298  2020-08-10  Puerto Rico   \n",
              "\n",
              "                                         Geo_Name       Region  \\\n",
              "0                                   United States           na   \n",
              "1                                       Northeast           na   \n",
              "2                                         Midwest           na   \n",
              "3                                           South           na   \n",
              "4                                            West           na   \n",
              "...                                           ...          ...   \n",
              "123245                       Tract 7505.02, Yauco  Puerto Rico   \n",
              "123246                       Tract 7505.03, Yauco  Puerto Rico   \n",
              "123247                       Tract 7506.01, Yauco  Puerto Rico   \n",
              "123248                       Tract 7506.02, Yauco  Puerto Rico   \n",
              "123249  Resident Commissioner District (at Large)  Puerto Rico   \n",
              "\n",
              "                      Geo_Type  internet  not_int  not_int_pct  2020_rate  \n",
              "0                      Country      50.6     12.7    20.063191       63.3  \n",
              "1                       Region      50.8     12.2    19.365079       63.0  \n",
              "2                       Region      54.0     14.1    20.704846       68.1  \n",
              "3                       Region      46.8     13.5    22.388060       60.3  \n",
              "4                       Region      53.7     10.5    16.355140       64.2  \n",
              "...                        ...       ...      ...          ...        ...  \n",
              "123245            Census Tract      27.5     20.2    42.348008       47.7  \n",
              "123246            Census Tract      15.7     16.9    51.840491       32.6  \n",
              "123247            Census Tract      18.5     16.2    46.685879       34.7  \n",
              "123248            Census Tract       9.7     15.0    60.728745       24.7  \n",
              "123249  Congressional District      14.8     14.0    48.611111       28.8  \n",
              "\n",
              "[123250 rows x 10 columns]"
            ]
          },
          "metadata": {
            "tags": []
          },
          "execution_count": 597
        }
      ]
    },
    {
      "cell_type": "markdown",
      "metadata": {
        "id": "ppli4PGC4oZd",
        "colab_type": "text"
      },
      "source": [
        "### States"
      ]
    },
    {
      "cell_type": "code",
      "metadata": {
        "id": "pxRHegvy4oZe",
        "colab_type": "code",
        "colab": {
          "base_uri": "https://localhost:8080/",
          "height": 1000
        },
        "outputId": "d6d1e1e4-f3bf-4fb3-9872-a7bdd9532261"
      },
      "source": [
        "# create df with response rate by state\n",
        "states2020 = merged[merged['Geo_Type'] == 'State'].rename(\n",
        "    columns={\"internet\": \"state_internet\",\n",
        "             \"not_int\" : \"state_not_int\",\n",
        "             'not_int_pct' : 'state_not_int_pct',\n",
        "             \"2020_rate\" : \"2020_state_rate\"})\n",
        "\n",
        "# read in csvs with 2010 response data for states\n",
        "states2010 = pd.read_csv('https://raw.githubusercontent.com/tdiffendal/USAT/master/census-responses/data/states2010.csv',\n",
        "                         dtype={'2010_rate':np.float,\n",
        "                                '2000_rate':np.float})\n",
        "\n",
        "# merge with 2020 states\n",
        "states = pd.merge(states2020, states2010, on='State')\n",
        "#only select columns we want\n",
        "states = states[['GEO_ID', 'State', 'Region','2020_state_rate', \n",
        "                 '2010_rate', '2000_rate']].rename(\n",
        "                     columns={'2000_rate':'2000_state_rate', \n",
        "                              '2010_rate':'2010_state_rate'})\n",
        "\n",
        "#create column with difference in 2010 vs 2020 response rate\n",
        "states['10_20_state_difference'] = (states['2020_state_rate'] - states['2010_state_rate']\n",
        "    ) / states['2010_state_rate'] * 100\n",
        "\n",
        "#print table sorted by 10-20 difference largest ---> smallest\n",
        "states.sort_values(by=['10_20_state_difference'], ascending=True)"
      ],
      "execution_count": 598,
      "outputs": [
        {
          "output_type": "execute_result",
          "data": {
            "text/html": [
              "<div>\n",
              "<style scoped>\n",
              "    .dataframe tbody tr th:only-of-type {\n",
              "        vertical-align: middle;\n",
              "    }\n",
              "\n",
              "    .dataframe tbody tr th {\n",
              "        vertical-align: top;\n",
              "    }\n",
              "\n",
              "    .dataframe thead th {\n",
              "        text-align: right;\n",
              "    }\n",
              "</style>\n",
              "<table border=\"1\" class=\"dataframe\">\n",
              "  <thead>\n",
              "    <tr style=\"text-align: right;\">\n",
              "      <th></th>\n",
              "      <th>GEO_ID</th>\n",
              "      <th>State</th>\n",
              "      <th>Region</th>\n",
              "      <th>2020_state_rate</th>\n",
              "      <th>2010_state_rate</th>\n",
              "      <th>2000_state_rate</th>\n",
              "      <th>10_20_state_difference</th>\n",
              "    </tr>\n",
              "  </thead>\n",
              "  <tbody>\n",
              "    <tr>\n",
              "      <th>51</th>\n",
              "      <td>0400000US72</td>\n",
              "      <td>Puerto Rico</td>\n",
              "      <td>Puerto Rico</td>\n",
              "      <td>28.8</td>\n",
              "      <td>54.0</td>\n",
              "      <td>54.0</td>\n",
              "      <td>-46.666667</td>\n",
              "    </tr>\n",
              "    <tr>\n",
              "      <th>40</th>\n",
              "      <td>0400000US45</td>\n",
              "      <td>South Carolina</td>\n",
              "      <td>South</td>\n",
              "      <td>57.5</td>\n",
              "      <td>75.0</td>\n",
              "      <td>68.0</td>\n",
              "      <td>-23.333333</td>\n",
              "    </tr>\n",
              "    <tr>\n",
              "      <th>1</th>\n",
              "      <td>0400000US02</td>\n",
              "      <td>Alaska</td>\n",
              "      <td>West</td>\n",
              "      <td>50.0</td>\n",
              "      <td>64.0</td>\n",
              "      <td>67.0</td>\n",
              "      <td>-21.875000</td>\n",
              "    </tr>\n",
              "    <tr>\n",
              "      <th>33</th>\n",
              "      <td>0400000US37</td>\n",
              "      <td>North Carolina</td>\n",
              "      <td>South</td>\n",
              "      <td>59.4</td>\n",
              "      <td>76.0</td>\n",
              "      <td>69.0</td>\n",
              "      <td>-21.842105</td>\n",
              "    </tr>\n",
              "    <tr>\n",
              "      <th>9</th>\n",
              "      <td>0400000US12</td>\n",
              "      <td>Florida</td>\n",
              "      <td>South</td>\n",
              "      <td>60.2</td>\n",
              "      <td>74.0</td>\n",
              "      <td>71.0</td>\n",
              "      <td>-18.648649</td>\n",
              "    </tr>\n",
              "    <tr>\n",
              "      <th>19</th>\n",
              "      <td>0400000US23</td>\n",
              "      <td>Maine</td>\n",
              "      <td>Northeast</td>\n",
              "      <td>55.6</td>\n",
              "      <td>68.0</td>\n",
              "      <td>67.0</td>\n",
              "      <td>-18.235294</td>\n",
              "    </tr>\n",
              "    <tr>\n",
              "      <th>10</th>\n",
              "      <td>0400000US13</td>\n",
              "      <td>Georgia</td>\n",
              "      <td>South</td>\n",
              "      <td>59.0</td>\n",
              "      <td>72.0</td>\n",
              "      <td>72.0</td>\n",
              "      <td>-18.055556</td>\n",
              "    </tr>\n",
              "    <tr>\n",
              "      <th>43</th>\n",
              "      <td>0400000US48</td>\n",
              "      <td>Texas</td>\n",
              "      <td>South</td>\n",
              "      <td>58.3</td>\n",
              "      <td>71.0</td>\n",
              "      <td>70.0</td>\n",
              "      <td>-17.887324</td>\n",
              "    </tr>\n",
              "    <tr>\n",
              "      <th>31</th>\n",
              "      <td>0400000US35</td>\n",
              "      <td>New Mexico</td>\n",
              "      <td>West</td>\n",
              "      <td>53.5</td>\n",
              "      <td>65.0</td>\n",
              "      <td>68.0</td>\n",
              "      <td>-17.692308</td>\n",
              "    </tr>\n",
              "    <tr>\n",
              "      <th>42</th>\n",
              "      <td>0400000US47</td>\n",
              "      <td>Tennessee</td>\n",
              "      <td>South</td>\n",
              "      <td>62.6</td>\n",
              "      <td>76.0</td>\n",
              "      <td>72.0</td>\n",
              "      <td>-17.631579</td>\n",
              "    </tr>\n",
              "    <tr>\n",
              "      <th>45</th>\n",
              "      <td>0400000US50</td>\n",
              "      <td>Vermont</td>\n",
              "      <td>Northeast</td>\n",
              "      <td>56.9</td>\n",
              "      <td>69.0</td>\n",
              "      <td>68.0</td>\n",
              "      <td>-17.536232</td>\n",
              "    </tr>\n",
              "    <tr>\n",
              "      <th>8</th>\n",
              "      <td>0400000US11</td>\n",
              "      <td>District of Columbia</td>\n",
              "      <td>South</td>\n",
              "      <td>59.7</td>\n",
              "      <td>72.0</td>\n",
              "      <td>69.0</td>\n",
              "      <td>-17.083333</td>\n",
              "    </tr>\n",
              "    <tr>\n",
              "      <th>50</th>\n",
              "      <td>0400000US56</td>\n",
              "      <td>Wyoming</td>\n",
              "      <td>West</td>\n",
              "      <td>57.6</td>\n",
              "      <td>69.0</td>\n",
              "      <td>75.0</td>\n",
              "      <td>-16.521739</td>\n",
              "    </tr>\n",
              "    <tr>\n",
              "      <th>39</th>\n",
              "      <td>0400000US44</td>\n",
              "      <td>Rhode Island</td>\n",
              "      <td>Northeast</td>\n",
              "      <td>61.0</td>\n",
              "      <td>73.0</td>\n",
              "      <td>73.0</td>\n",
              "      <td>-16.438356</td>\n",
              "    </tr>\n",
              "    <tr>\n",
              "      <th>26</th>\n",
              "      <td>0400000US30</td>\n",
              "      <td>Montana</td>\n",
              "      <td>West</td>\n",
              "      <td>56.9</td>\n",
              "      <td>68.0</td>\n",
              "      <td>72.0</td>\n",
              "      <td>-16.323529</td>\n",
              "    </tr>\n",
              "    <tr>\n",
              "      <th>3</th>\n",
              "      <td>0400000US05</td>\n",
              "      <td>Arkansas</td>\n",
              "      <td>South</td>\n",
              "      <td>57.9</td>\n",
              "      <td>69.0</td>\n",
              "      <td>70.0</td>\n",
              "      <td>-16.086957</td>\n",
              "    </tr>\n",
              "    <tr>\n",
              "      <th>24</th>\n",
              "      <td>0400000US28</td>\n",
              "      <td>Mississippi</td>\n",
              "      <td>South</td>\n",
              "      <td>58.0</td>\n",
              "      <td>69.0</td>\n",
              "      <td>70.0</td>\n",
              "      <td>-15.942029</td>\n",
              "    </tr>\n",
              "    <tr>\n",
              "      <th>0</th>\n",
              "      <td>0400000US01</td>\n",
              "      <td>Alabama</td>\n",
              "      <td>South</td>\n",
              "      <td>60.8</td>\n",
              "      <td>72.0</td>\n",
              "      <td>68.0</td>\n",
              "      <td>-15.555556</td>\n",
              "    </tr>\n",
              "    <tr>\n",
              "      <th>48</th>\n",
              "      <td>0400000US54</td>\n",
              "      <td>West Virginia</td>\n",
              "      <td>South</td>\n",
              "      <td>54.9</td>\n",
              "      <td>65.0</td>\n",
              "      <td>68.0</td>\n",
              "      <td>-15.538462</td>\n",
              "    </tr>\n",
              "    <tr>\n",
              "      <th>7</th>\n",
              "      <td>0400000US10</td>\n",
              "      <td>Delaware</td>\n",
              "      <td>South</td>\n",
              "      <td>60.9</td>\n",
              "      <td>72.0</td>\n",
              "      <td>71.0</td>\n",
              "      <td>-15.416667</td>\n",
              "    </tr>\n",
              "    <tr>\n",
              "      <th>41</th>\n",
              "      <td>0400000US46</td>\n",
              "      <td>South Dakota</td>\n",
              "      <td>Midwest</td>\n",
              "      <td>64.4</td>\n",
              "      <td>76.0</td>\n",
              "      <td>80.0</td>\n",
              "      <td>-15.263158</td>\n",
              "    </tr>\n",
              "    <tr>\n",
              "      <th>34</th>\n",
              "      <td>0400000US38</td>\n",
              "      <td>North Dakota</td>\n",
              "      <td>Midwest</td>\n",
              "      <td>62.8</td>\n",
              "      <td>74.0</td>\n",
              "      <td>78.0</td>\n",
              "      <td>-15.135135</td>\n",
              "    </tr>\n",
              "    <tr>\n",
              "      <th>49</th>\n",
              "      <td>0400000US55</td>\n",
              "      <td>Wisconsin</td>\n",
              "      <td>Midwest</td>\n",
              "      <td>69.8</td>\n",
              "      <td>82.0</td>\n",
              "      <td>85.0</td>\n",
              "      <td>-14.878049</td>\n",
              "    </tr>\n",
              "    <tr>\n",
              "      <th>36</th>\n",
              "      <td>0400000US40</td>\n",
              "      <td>Oklahoma</td>\n",
              "      <td>South</td>\n",
              "      <td>57.9</td>\n",
              "      <td>68.0</td>\n",
              "      <td>71.0</td>\n",
              "      <td>-14.852941</td>\n",
              "    </tr>\n",
              "    <tr>\n",
              "      <th>14</th>\n",
              "      <td>0400000US18</td>\n",
              "      <td>Indiana</td>\n",
              "      <td>Midwest</td>\n",
              "      <td>67.6</td>\n",
              "      <td>79.0</td>\n",
              "      <td>79.0</td>\n",
              "      <td>-14.430380</td>\n",
              "    </tr>\n",
              "    <tr>\n",
              "      <th>32</th>\n",
              "      <td>0400000US36</td>\n",
              "      <td>New York</td>\n",
              "      <td>Northeast</td>\n",
              "      <td>59.1</td>\n",
              "      <td>69.0</td>\n",
              "      <td>69.0</td>\n",
              "      <td>-14.347826</td>\n",
              "    </tr>\n",
              "    <tr>\n",
              "      <th>25</th>\n",
              "      <td>0400000US29</td>\n",
              "      <td>Missouri</td>\n",
              "      <td>Midwest</td>\n",
              "      <td>63.4</td>\n",
              "      <td>74.0</td>\n",
              "      <td>76.0</td>\n",
              "      <td>-14.324324</td>\n",
              "    </tr>\n",
              "    <tr>\n",
              "      <th>17</th>\n",
              "      <td>0400000US21</td>\n",
              "      <td>Kentucky</td>\n",
              "      <td>South</td>\n",
              "      <td>66.1</td>\n",
              "      <td>77.0</td>\n",
              "      <td>72.0</td>\n",
              "      <td>-14.155844</td>\n",
              "    </tr>\n",
              "    <tr>\n",
              "      <th>38</th>\n",
              "      <td>0400000US42</td>\n",
              "      <td>Pennsylvania</td>\n",
              "      <td>Northeast</td>\n",
              "      <td>66.3</td>\n",
              "      <td>77.0</td>\n",
              "      <td>78.0</td>\n",
              "      <td>-13.896104</td>\n",
              "    </tr>\n",
              "    <tr>\n",
              "      <th>29</th>\n",
              "      <td>0400000US33</td>\n",
              "      <td>New Hampshire</td>\n",
              "      <td>Northeast</td>\n",
              "      <td>63.2</td>\n",
              "      <td>73.0</td>\n",
              "      <td>74.0</td>\n",
              "      <td>-13.424658</td>\n",
              "    </tr>\n",
              "    <tr>\n",
              "      <th>37</th>\n",
              "      <td>0400000US41</td>\n",
              "      <td>Oregon</td>\n",
              "      <td>West</td>\n",
              "      <td>65.8</td>\n",
              "      <td>76.0</td>\n",
              "      <td>77.0</td>\n",
              "      <td>-13.421053</td>\n",
              "    </tr>\n",
              "    <tr>\n",
              "      <th>35</th>\n",
              "      <td>0400000US39</td>\n",
              "      <td>Ohio</td>\n",
              "      <td>Midwest</td>\n",
              "      <td>67.6</td>\n",
              "      <td>78.0</td>\n",
              "      <td>79.0</td>\n",
              "      <td>-13.333333</td>\n",
              "    </tr>\n",
              "    <tr>\n",
              "      <th>2</th>\n",
              "      <td>0400000US04</td>\n",
              "      <td>Arizona</td>\n",
              "      <td>West</td>\n",
              "      <td>60.0</td>\n",
              "      <td>69.0</td>\n",
              "      <td>70.0</td>\n",
              "      <td>-13.043478</td>\n",
              "    </tr>\n",
              "    <tr>\n",
              "      <th>46</th>\n",
              "      <td>0400000US51</td>\n",
              "      <td>Virginia</td>\n",
              "      <td>South</td>\n",
              "      <td>68.0</td>\n",
              "      <td>78.0</td>\n",
              "      <td>76.0</td>\n",
              "      <td>-12.820513</td>\n",
              "    </tr>\n",
              "    <tr>\n",
              "      <th>21</th>\n",
              "      <td>0400000US25</td>\n",
              "      <td>Massachusetts</td>\n",
              "      <td>Northeast</td>\n",
              "      <td>65.5</td>\n",
              "      <td>75.0</td>\n",
              "      <td>76.0</td>\n",
              "      <td>-12.666667</td>\n",
              "    </tr>\n",
              "    <tr>\n",
              "      <th>15</th>\n",
              "      <td>0400000US19</td>\n",
              "      <td>Iowa</td>\n",
              "      <td>Midwest</td>\n",
              "      <td>69.0</td>\n",
              "      <td>79.0</td>\n",
              "      <td>82.0</td>\n",
              "      <td>-12.658228</td>\n",
              "    </tr>\n",
              "    <tr>\n",
              "      <th>28</th>\n",
              "      <td>0400000US32</td>\n",
              "      <td>Nevada</td>\n",
              "      <td>West</td>\n",
              "      <td>62.4</td>\n",
              "      <td>71.0</td>\n",
              "      <td>71.0</td>\n",
              "      <td>-12.112676</td>\n",
              "    </tr>\n",
              "    <tr>\n",
              "      <th>30</th>\n",
              "      <td>0400000US34</td>\n",
              "      <td>New Jersey</td>\n",
              "      <td>Northeast</td>\n",
              "      <td>65.2</td>\n",
              "      <td>74.0</td>\n",
              "      <td>76.0</td>\n",
              "      <td>-11.891892</td>\n",
              "    </tr>\n",
              "    <tr>\n",
              "      <th>11</th>\n",
              "      <td>0400000US15</td>\n",
              "      <td>Hawaii</td>\n",
              "      <td>West</td>\n",
              "      <td>60.0</td>\n",
              "      <td>68.0</td>\n",
              "      <td>66.0</td>\n",
              "      <td>-11.764706</td>\n",
              "    </tr>\n",
              "    <tr>\n",
              "      <th>18</th>\n",
              "      <td>0400000US22</td>\n",
              "      <td>Louisiana</td>\n",
              "      <td>South</td>\n",
              "      <td>57.4</td>\n",
              "      <td>65.0</td>\n",
              "      <td>68.0</td>\n",
              "      <td>-11.692308</td>\n",
              "    </tr>\n",
              "    <tr>\n",
              "      <th>6</th>\n",
              "      <td>0400000US09</td>\n",
              "      <td>Connecticut</td>\n",
              "      <td>Northeast</td>\n",
              "      <td>67.2</td>\n",
              "      <td>76.0</td>\n",
              "      <td>78.0</td>\n",
              "      <td>-11.578947</td>\n",
              "    </tr>\n",
              "    <tr>\n",
              "      <th>22</th>\n",
              "      <td>0400000US26</td>\n",
              "      <td>Michigan</td>\n",
              "      <td>Midwest</td>\n",
              "      <td>69.0</td>\n",
              "      <td>78.0</td>\n",
              "      <td>79.0</td>\n",
              "      <td>-11.538462</td>\n",
              "    </tr>\n",
              "    <tr>\n",
              "      <th>16</th>\n",
              "      <td>0400000US20</td>\n",
              "      <td>Kansas</td>\n",
              "      <td>Midwest</td>\n",
              "      <td>67.3</td>\n",
              "      <td>76.0</td>\n",
              "      <td>78.0</td>\n",
              "      <td>-11.447368</td>\n",
              "    </tr>\n",
              "    <tr>\n",
              "      <th>4</th>\n",
              "      <td>0400000US06</td>\n",
              "      <td>California</td>\n",
              "      <td>West</td>\n",
              "      <td>64.7</td>\n",
              "      <td>73.0</td>\n",
              "      <td>76.0</td>\n",
              "      <td>-11.369863</td>\n",
              "    </tr>\n",
              "    <tr>\n",
              "      <th>20</th>\n",
              "      <td>0400000US24</td>\n",
              "      <td>Maryland</td>\n",
              "      <td>South</td>\n",
              "      <td>67.5</td>\n",
              "      <td>76.0</td>\n",
              "      <td>76.0</td>\n",
              "      <td>-11.184211</td>\n",
              "    </tr>\n",
              "    <tr>\n",
              "      <th>12</th>\n",
              "      <td>0400000US16</td>\n",
              "      <td>Idaho</td>\n",
              "      <td>West</td>\n",
              "      <td>67.8</td>\n",
              "      <td>76.0</td>\n",
              "      <td>77.0</td>\n",
              "      <td>-10.789474</td>\n",
              "    </tr>\n",
              "    <tr>\n",
              "      <th>23</th>\n",
              "      <td>0400000US27</td>\n",
              "      <td>Minnesota</td>\n",
              "      <td>Midwest</td>\n",
              "      <td>72.5</td>\n",
              "      <td>81.0</td>\n",
              "      <td>81.0</td>\n",
              "      <td>-10.493827</td>\n",
              "    </tr>\n",
              "    <tr>\n",
              "      <th>27</th>\n",
              "      <td>0400000US31</td>\n",
              "      <td>Nebraska</td>\n",
              "      <td>Midwest</td>\n",
              "      <td>69.0</td>\n",
              "      <td>77.0</td>\n",
              "      <td>81.0</td>\n",
              "      <td>-10.389610</td>\n",
              "    </tr>\n",
              "    <tr>\n",
              "      <th>13</th>\n",
              "      <td>0400000US17</td>\n",
              "      <td>Illinois</td>\n",
              "      <td>Midwest</td>\n",
              "      <td>68.2</td>\n",
              "      <td>76.0</td>\n",
              "      <td>76.0</td>\n",
              "      <td>-10.263158</td>\n",
              "    </tr>\n",
              "    <tr>\n",
              "      <th>44</th>\n",
              "      <td>0400000US49</td>\n",
              "      <td>Utah</td>\n",
              "      <td>West</td>\n",
              "      <td>67.5</td>\n",
              "      <td>75.0</td>\n",
              "      <td>74.0</td>\n",
              "      <td>-10.000000</td>\n",
              "    </tr>\n",
              "    <tr>\n",
              "      <th>47</th>\n",
              "      <td>0400000US53</td>\n",
              "      <td>Washington</td>\n",
              "      <td>West</td>\n",
              "      <td>69.2</td>\n",
              "      <td>76.0</td>\n",
              "      <td>75.0</td>\n",
              "      <td>-8.947368</td>\n",
              "    </tr>\n",
              "    <tr>\n",
              "      <th>5</th>\n",
              "      <td>0400000US08</td>\n",
              "      <td>Colorado</td>\n",
              "      <td>West</td>\n",
              "      <td>66.6</td>\n",
              "      <td>72.0</td>\n",
              "      <td>75.0</td>\n",
              "      <td>-7.500000</td>\n",
              "    </tr>\n",
              "  </tbody>\n",
              "</table>\n",
              "</div>"
            ],
            "text/plain": [
              "         GEO_ID                 State       Region  2020_state_rate  \\\n",
              "51  0400000US72           Puerto Rico  Puerto Rico             28.8   \n",
              "40  0400000US45        South Carolina        South             57.5   \n",
              "1   0400000US02                Alaska         West             50.0   \n",
              "33  0400000US37        North Carolina        South             59.4   \n",
              "9   0400000US12               Florida        South             60.2   \n",
              "19  0400000US23                 Maine    Northeast             55.6   \n",
              "10  0400000US13               Georgia        South             59.0   \n",
              "43  0400000US48                 Texas        South             58.3   \n",
              "31  0400000US35            New Mexico         West             53.5   \n",
              "42  0400000US47             Tennessee        South             62.6   \n",
              "45  0400000US50               Vermont    Northeast             56.9   \n",
              "8   0400000US11  District of Columbia        South             59.7   \n",
              "50  0400000US56               Wyoming         West             57.6   \n",
              "39  0400000US44          Rhode Island    Northeast             61.0   \n",
              "26  0400000US30               Montana         West             56.9   \n",
              "3   0400000US05              Arkansas        South             57.9   \n",
              "24  0400000US28           Mississippi        South             58.0   \n",
              "0   0400000US01               Alabama        South             60.8   \n",
              "48  0400000US54         West Virginia        South             54.9   \n",
              "7   0400000US10              Delaware        South             60.9   \n",
              "41  0400000US46          South Dakota      Midwest             64.4   \n",
              "34  0400000US38          North Dakota      Midwest             62.8   \n",
              "49  0400000US55             Wisconsin      Midwest             69.8   \n",
              "36  0400000US40              Oklahoma        South             57.9   \n",
              "14  0400000US18               Indiana      Midwest             67.6   \n",
              "32  0400000US36              New York    Northeast             59.1   \n",
              "25  0400000US29              Missouri      Midwest             63.4   \n",
              "17  0400000US21              Kentucky        South             66.1   \n",
              "38  0400000US42          Pennsylvania    Northeast             66.3   \n",
              "29  0400000US33         New Hampshire    Northeast             63.2   \n",
              "37  0400000US41                Oregon         West             65.8   \n",
              "35  0400000US39                  Ohio      Midwest             67.6   \n",
              "2   0400000US04               Arizona         West             60.0   \n",
              "46  0400000US51              Virginia        South             68.0   \n",
              "21  0400000US25         Massachusetts    Northeast             65.5   \n",
              "15  0400000US19                  Iowa      Midwest             69.0   \n",
              "28  0400000US32                Nevada         West             62.4   \n",
              "30  0400000US34            New Jersey    Northeast             65.2   \n",
              "11  0400000US15                Hawaii         West             60.0   \n",
              "18  0400000US22             Louisiana        South             57.4   \n",
              "6   0400000US09           Connecticut    Northeast             67.2   \n",
              "22  0400000US26              Michigan      Midwest             69.0   \n",
              "16  0400000US20                Kansas      Midwest             67.3   \n",
              "4   0400000US06            California         West             64.7   \n",
              "20  0400000US24              Maryland        South             67.5   \n",
              "12  0400000US16                 Idaho         West             67.8   \n",
              "23  0400000US27             Minnesota      Midwest             72.5   \n",
              "27  0400000US31              Nebraska      Midwest             69.0   \n",
              "13  0400000US17              Illinois      Midwest             68.2   \n",
              "44  0400000US49                  Utah         West             67.5   \n",
              "47  0400000US53            Washington         West             69.2   \n",
              "5   0400000US08              Colorado         West             66.6   \n",
              "\n",
              "    2010_state_rate  2000_state_rate  10_20_state_difference  \n",
              "51             54.0             54.0              -46.666667  \n",
              "40             75.0             68.0              -23.333333  \n",
              "1              64.0             67.0              -21.875000  \n",
              "33             76.0             69.0              -21.842105  \n",
              "9              74.0             71.0              -18.648649  \n",
              "19             68.0             67.0              -18.235294  \n",
              "10             72.0             72.0              -18.055556  \n",
              "43             71.0             70.0              -17.887324  \n",
              "31             65.0             68.0              -17.692308  \n",
              "42             76.0             72.0              -17.631579  \n",
              "45             69.0             68.0              -17.536232  \n",
              "8              72.0             69.0              -17.083333  \n",
              "50             69.0             75.0              -16.521739  \n",
              "39             73.0             73.0              -16.438356  \n",
              "26             68.0             72.0              -16.323529  \n",
              "3              69.0             70.0              -16.086957  \n",
              "24             69.0             70.0              -15.942029  \n",
              "0              72.0             68.0              -15.555556  \n",
              "48             65.0             68.0              -15.538462  \n",
              "7              72.0             71.0              -15.416667  \n",
              "41             76.0             80.0              -15.263158  \n",
              "34             74.0             78.0              -15.135135  \n",
              "49             82.0             85.0              -14.878049  \n",
              "36             68.0             71.0              -14.852941  \n",
              "14             79.0             79.0              -14.430380  \n",
              "32             69.0             69.0              -14.347826  \n",
              "25             74.0             76.0              -14.324324  \n",
              "17             77.0             72.0              -14.155844  \n",
              "38             77.0             78.0              -13.896104  \n",
              "29             73.0             74.0              -13.424658  \n",
              "37             76.0             77.0              -13.421053  \n",
              "35             78.0             79.0              -13.333333  \n",
              "2              69.0             70.0              -13.043478  \n",
              "46             78.0             76.0              -12.820513  \n",
              "21             75.0             76.0              -12.666667  \n",
              "15             79.0             82.0              -12.658228  \n",
              "28             71.0             71.0              -12.112676  \n",
              "30             74.0             76.0              -11.891892  \n",
              "11             68.0             66.0              -11.764706  \n",
              "18             65.0             68.0              -11.692308  \n",
              "6              76.0             78.0              -11.578947  \n",
              "22             78.0             79.0              -11.538462  \n",
              "16             76.0             78.0              -11.447368  \n",
              "4              73.0             76.0              -11.369863  \n",
              "20             76.0             76.0              -11.184211  \n",
              "12             76.0             77.0              -10.789474  \n",
              "23             81.0             81.0              -10.493827  \n",
              "27             77.0             81.0              -10.389610  \n",
              "13             76.0             76.0              -10.263158  \n",
              "44             75.0             74.0              -10.000000  \n",
              "47             76.0             75.0               -8.947368  \n",
              "5              72.0             75.0               -7.500000  "
            ]
          },
          "metadata": {
            "tags": []
          },
          "execution_count": 598
        }
      ]
    },
    {
      "cell_type": "markdown",
      "metadata": {
        "id": "QutNTWkb4oZN",
        "colab_type": "text"
      },
      "source": [
        "### Census Tracts"
      ]
    },
    {
      "cell_type": "code",
      "metadata": {
        "scrolled": true,
        "id": "poLTe8ZR4oZO",
        "colab_type": "code",
        "colab": {}
      },
      "source": [
        "# select just census tract geo types\n",
        "tracts2020 = merged[merged['Geo_Type'].str.contains(\"Tract\")].rename(\n",
        "    columns={\"2020_rate\": \"2020_tract_rate\",'not_int':'tract_not_int',\n",
        "             'not_int_pct':'tract_not_int_pct'}).sort_values(\n",
        "                 by='2020_tract_rate', ascending=False)\n",
        "\n",
        "# give tribal tracts state and regional values \"Tribal Land\"\n",
        "tracts2020.loc[tracts2020['Geo_Type'].str.contains(\"Tribal\")==True, 'Region'] = 'Tribal Land'\n",
        "tracts2020.loc[tracts2020['Geo_Type'].str.contains(\"Tribal\")==True, 'State'] = 'Tribal Land'"
      ],
      "execution_count": 599,
      "outputs": []
    },
    {
      "cell_type": "code",
      "metadata": {
        "id": "FYIcqtXv32C2",
        "colab_type": "code",
        "colab": {
          "base_uri": "https://localhost:8080/",
          "height": 763
        },
        "outputId": "176b7571-b710-4b28-db6d-59f47e1e5c91"
      },
      "source": [
        "tracts2020.sort_values(by=['State', 'GEO_ID'])"
      ],
      "execution_count": 600,
      "outputs": [
        {
          "output_type": "execute_result",
          "data": {
            "text/html": [
              "<div>\n",
              "<style scoped>\n",
              "    .dataframe tbody tr th:only-of-type {\n",
              "        vertical-align: middle;\n",
              "    }\n",
              "\n",
              "    .dataframe tbody tr th {\n",
              "        vertical-align: top;\n",
              "    }\n",
              "\n",
              "    .dataframe thead th {\n",
              "        text-align: right;\n",
              "    }\n",
              "</style>\n",
              "<table border=\"1\" class=\"dataframe\">\n",
              "  <thead>\n",
              "    <tr style=\"text-align: right;\">\n",
              "      <th></th>\n",
              "      <th>GEO_ID</th>\n",
              "      <th>RESP_DATE</th>\n",
              "      <th>State</th>\n",
              "      <th>Geo_Name</th>\n",
              "      <th>Region</th>\n",
              "      <th>Geo_Type</th>\n",
              "      <th>internet</th>\n",
              "      <th>tract_not_int</th>\n",
              "      <th>tract_not_int_pct</th>\n",
              "      <th>2020_tract_rate</th>\n",
              "    </tr>\n",
              "  </thead>\n",
              "  <tbody>\n",
              "    <tr>\n",
              "      <th>814</th>\n",
              "      <td>1400000US01001020100</td>\n",
              "      <td>2020-08-10</td>\n",
              "      <td>Alabama</td>\n",
              "      <td>Tract 201, Autauga</td>\n",
              "      <td>South</td>\n",
              "      <td>Census Tract</td>\n",
              "      <td>59.8</td>\n",
              "      <td>6.8</td>\n",
              "      <td>10.210210</td>\n",
              "      <td>66.6</td>\n",
              "    </tr>\n",
              "    <tr>\n",
              "      <th>815</th>\n",
              "      <td>1400000US01001020200</td>\n",
              "      <td>2020-08-10</td>\n",
              "      <td>Alabama</td>\n",
              "      <td>Tract 202, Autauga</td>\n",
              "      <td>South</td>\n",
              "      <td>Census Tract</td>\n",
              "      <td>36.7</td>\n",
              "      <td>29.9</td>\n",
              "      <td>44.894895</td>\n",
              "      <td>66.6</td>\n",
              "    </tr>\n",
              "    <tr>\n",
              "      <th>816</th>\n",
              "      <td>1400000US01001020300</td>\n",
              "      <td>2020-08-10</td>\n",
              "      <td>Alabama</td>\n",
              "      <td>Tract 203, Autauga</td>\n",
              "      <td>South</td>\n",
              "      <td>Census Tract</td>\n",
              "      <td>65.4</td>\n",
              "      <td>10.2</td>\n",
              "      <td>13.492063</td>\n",
              "      <td>75.6</td>\n",
              "    </tr>\n",
              "    <tr>\n",
              "      <th>817</th>\n",
              "      <td>1400000US01001020400</td>\n",
              "      <td>2020-08-10</td>\n",
              "      <td>Alabama</td>\n",
              "      <td>Tract 204, Autauga</td>\n",
              "      <td>South</td>\n",
              "      <td>Census Tract</td>\n",
              "      <td>68.7</td>\n",
              "      <td>10.2</td>\n",
              "      <td>12.927757</td>\n",
              "      <td>78.9</td>\n",
              "    </tr>\n",
              "    <tr>\n",
              "      <th>818</th>\n",
              "      <td>1400000US01001020501</td>\n",
              "      <td>2020-08-10</td>\n",
              "      <td>Alabama</td>\n",
              "      <td>Tract 205.01, Autauga</td>\n",
              "      <td>South</td>\n",
              "      <td>Census Tract</td>\n",
              "      <td>71.0</td>\n",
              "      <td>8.6</td>\n",
              "      <td>10.804020</td>\n",
              "      <td>79.6</td>\n",
              "    </tr>\n",
              "    <tr>\n",
              "      <th>...</th>\n",
              "      <td>...</td>\n",
              "      <td>...</td>\n",
              "      <td>...</td>\n",
              "      <td>...</td>\n",
              "      <td>...</td>\n",
              "      <td>...</td>\n",
              "      <td>...</td>\n",
              "      <td>...</td>\n",
              "      <td>...</td>\n",
              "      <td>...</td>\n",
              "    </tr>\n",
              "    <tr>\n",
              "      <th>122146</th>\n",
              "      <td>1400000US56043000200</td>\n",
              "      <td>2020-08-10</td>\n",
              "      <td>Wyoming</td>\n",
              "      <td>Tract 2, Washakie</td>\n",
              "      <td>West</td>\n",
              "      <td>Census Tract</td>\n",
              "      <td>21.0</td>\n",
              "      <td>34.0</td>\n",
              "      <td>61.818182</td>\n",
              "      <td>55.0</td>\n",
              "    </tr>\n",
              "    <tr>\n",
              "      <th>122147</th>\n",
              "      <td>1400000US56043000301</td>\n",
              "      <td>2020-08-10</td>\n",
              "      <td>Wyoming</td>\n",
              "      <td>Tract 3.01, Washakie</td>\n",
              "      <td>West</td>\n",
              "      <td>Census Tract</td>\n",
              "      <td>49.4</td>\n",
              "      <td>12.1</td>\n",
              "      <td>19.674797</td>\n",
              "      <td>61.5</td>\n",
              "    </tr>\n",
              "    <tr>\n",
              "      <th>122148</th>\n",
              "      <td>1400000US56043000302</td>\n",
              "      <td>2020-08-10</td>\n",
              "      <td>Wyoming</td>\n",
              "      <td>Tract 3.02, Washakie</td>\n",
              "      <td>West</td>\n",
              "      <td>Census Tract</td>\n",
              "      <td>56.0</td>\n",
              "      <td>11.4</td>\n",
              "      <td>16.913947</td>\n",
              "      <td>67.4</td>\n",
              "    </tr>\n",
              "    <tr>\n",
              "      <th>122149</th>\n",
              "      <td>1400000US56045951100</td>\n",
              "      <td>2020-08-10</td>\n",
              "      <td>Wyoming</td>\n",
              "      <td>Tract 9511, Weston</td>\n",
              "      <td>West</td>\n",
              "      <td>Census Tract</td>\n",
              "      <td>31.7</td>\n",
              "      <td>16.7</td>\n",
              "      <td>34.504132</td>\n",
              "      <td>48.4</td>\n",
              "    </tr>\n",
              "    <tr>\n",
              "      <th>122150</th>\n",
              "      <td>1400000US56045951300</td>\n",
              "      <td>2020-08-10</td>\n",
              "      <td>Wyoming</td>\n",
              "      <td>Tract 9513, Weston</td>\n",
              "      <td>West</td>\n",
              "      <td>Census Tract</td>\n",
              "      <td>41.7</td>\n",
              "      <td>11.0</td>\n",
              "      <td>20.872865</td>\n",
              "      <td>52.7</td>\n",
              "    </tr>\n",
              "  </tbody>\n",
              "</table>\n",
              "<p>84519 rows × 10 columns</p>\n",
              "</div>"
            ],
            "text/plain": [
              "                      GEO_ID   RESP_DATE    State               Geo_Name  \\\n",
              "814     1400000US01001020100  2020-08-10  Alabama     Tract 201, Autauga   \n",
              "815     1400000US01001020200  2020-08-10  Alabama     Tract 202, Autauga   \n",
              "816     1400000US01001020300  2020-08-10  Alabama     Tract 203, Autauga   \n",
              "817     1400000US01001020400  2020-08-10  Alabama     Tract 204, Autauga   \n",
              "818     1400000US01001020501  2020-08-10  Alabama  Tract 205.01, Autauga   \n",
              "...                      ...         ...      ...                    ...   \n",
              "122146  1400000US56043000200  2020-08-10  Wyoming      Tract 2, Washakie   \n",
              "122147  1400000US56043000301  2020-08-10  Wyoming   Tract 3.01, Washakie   \n",
              "122148  1400000US56043000302  2020-08-10  Wyoming   Tract 3.02, Washakie   \n",
              "122149  1400000US56045951100  2020-08-10  Wyoming     Tract 9511, Weston   \n",
              "122150  1400000US56045951300  2020-08-10  Wyoming     Tract 9513, Weston   \n",
              "\n",
              "       Region      Geo_Type  internet  tract_not_int  tract_not_int_pct  \\\n",
              "814     South  Census Tract      59.8            6.8          10.210210   \n",
              "815     South  Census Tract      36.7           29.9          44.894895   \n",
              "816     South  Census Tract      65.4           10.2          13.492063   \n",
              "817     South  Census Tract      68.7           10.2          12.927757   \n",
              "818     South  Census Tract      71.0            8.6          10.804020   \n",
              "...       ...           ...       ...            ...                ...   \n",
              "122146   West  Census Tract      21.0           34.0          61.818182   \n",
              "122147   West  Census Tract      49.4           12.1          19.674797   \n",
              "122148   West  Census Tract      56.0           11.4          16.913947   \n",
              "122149   West  Census Tract      31.7           16.7          34.504132   \n",
              "122150   West  Census Tract      41.7           11.0          20.872865   \n",
              "\n",
              "        2020_tract_rate  \n",
              "814                66.6  \n",
              "815                66.6  \n",
              "816                75.6  \n",
              "817                78.9  \n",
              "818                79.6  \n",
              "...                 ...  \n",
              "122146             55.0  \n",
              "122147             61.5  \n",
              "122148             67.4  \n",
              "122149             48.4  \n",
              "122150             52.7  \n",
              "\n",
              "[84519 rows x 10 columns]"
            ]
          },
          "metadata": {
            "tags": []
          },
          "execution_count": 600
        }
      ]
    },
    {
      "cell_type": "code",
      "metadata": {
        "id": "yHSpstWKIYJJ",
        "colab_type": "code",
        "colab": {
          "base_uri": "https://localhost:8080/",
          "height": 107
        },
        "outputId": "796c08f3-9d9d-488f-8c7f-ed0df7e5e87a"
      },
      "source": [
        "#tract rates compared to state averages\n",
        "all20 = pd.merge(tracts2020, states, on=['State', 'Region'])\n",
        "\n",
        "print(\n",
        "    \"Difference in records:\", len(tracts2020) - len(all20),\n",
        "    \"\\nNumber of tribal tracts:\", len(tracts2020[tracts2020['Geo_Type'].str.contains(\n",
        "        \"Tribal\")]),\n",
        "    \"\\n\\n\", \"merging tracts with states will drop tribal tracts\",\n",
        "    \"\\n(as they have no state), so those are examined separately below\"\n",
        ")\n",
        "\n",
        "all20['2020_tract_st_diff'] = all20['2020_tract_rate'] - all20['2020_state_rate']\n",
        "all20 = all20[['GEO_ID_x', 'State', 'Geo_Name', 'Geo_Type',\n",
        "               'Region','2020_tract_rate', '2020_state_rate',\n",
        "               '2010_state_rate', '10_20_state_difference','2020_tract_st_diff']\n",
        "              ].rename(columns={'GEO_ID_x':'GEO_ID'}).sort_values(by=['2020_tract_st_diff'])"
      ],
      "execution_count": 601,
      "outputs": [
        {
          "output_type": "stream",
          "text": [
            "Difference in records: 426 \n",
            "Number of tribal tracts: 426 \n",
            "\n",
            " merging tracts with states will drop tribal tracts \n",
            "(as they have no state), so those are examined separately below\n"
          ],
          "name": "stdout"
        }
      ]
    },
    {
      "cell_type": "code",
      "metadata": {
        "id": "GJkzjcuo4oZ4",
        "colab_type": "code",
        "colab": {}
      },
      "source": [
        "# read in csvs with 2010 response data for tracts and states\n",
        "tracts2010 = pd.read_csv('https://raw.githubusercontent.com/tdiffendal/USAT/master/census-responses/data/2010responserate.csv',\n",
        "                         dtype={'FSRR2010':np.float}).rename(\n",
        "                             columns={'FSRR2010':'2010_tract_rate'})\n",
        "\n",
        "# merge with 2020 tracts\n",
        "tracts = pd.merge(all20, tracts2010, on='GEO_ID')\n",
        "\n",
        "#create column with difference in 2010 vs 2020 response rate\n",
        "tracts['10_20_tract_difference'] = (tracts['2020_tract_rate'] - tracts['2010_tract_rate']) / tracts['2010_tract_rate'] * 100\n",
        "\n",
        "#select only columns we want\n",
        "tracts = tracts[['Geo_Name','county', 'State_y', 'Region', 'Geo_Type', \n",
        "                 '2020_tract_rate', '2010_tract_rate', '10_20_tract_difference', \n",
        "                 '2020_tract_st_diff', '2020_state_rate','2010_state_rate', \n",
        "                 '10_20_state_difference','GEO_ID']].rename(\n",
        "            columns={'State_y':'State'}).sort_values(by='2010_tract_rate', ascending=False)"
      ],
      "execution_count": 602,
      "outputs": []
    },
    {
      "cell_type": "markdown",
      "metadata": {
        "id": "ftKA9hxg4oaM",
        "colab_type": "text"
      },
      "source": [
        "### Demographic Data"
      ]
    },
    {
      "cell_type": "code",
      "metadata": {
        "id": "-DPPCZkNJTia",
        "colab_type": "code",
        "colab": {}
      },
      "source": [
        "#load census demographic data, join\n",
        "\n",
        "## internet access data\n",
        "temp = pd.read_csv('/content/drive/Shared drives/Shared Items/census-responses/data/acs_internet_access/ACSDT5Y2018.B28002_data_with_overlays_2020-07-02T154751.csv',\n",
        "                    usecols = [0,1,2,26],\n",
        "                    names = ['GEO_ID', 'NAME','total_comp', 'no_int'],\n",
        "                    dtype={'total_comp':np.int, 'no_int':np.int},\n",
        "                    skiprows=2)\n",
        "\n",
        "#create new column to get % without internet instead of whole number\n",
        "temp['no_int_pct'] = temp.no_int * 100 / temp.total_comp \n",
        "temp = temp[['GEO_ID', 'NAME', 'no_int_pct']]\n",
        "\n",
        "## some weirds NAs, so to turn all columns to float:\n",
        "def valid_float(y):\n",
        "  try:\n",
        "    return float(y)\n",
        "  except ValueError:\n",
        "    return np.nan\n",
        "\n",
        "## demographics data\n",
        "frames = [pd.read_csv('/content/drive/Shared drives/Shared Items/census-responses/data/acs_demographics/ACSDP5Y2018.DP05_data_with_overlays_2020-07-02T144029.csv',\n",
        "                    usecols = [0,1,2,70,148,152,156,176,208,228,232,284,304,342],\n",
        "                    names = ['GEO_ID', 'NAME','total_population','median_age', \n",
        "                             'white_pct','black_pct','native_pct','asian_pct',\n",
        "                             'pacific_pct','other_pct','two_pct','latino_pct',\n",
        "                             'notLatino_pct','house_units'], \n",
        "                    skiprows= 1,\n",
        "                    dtype={'total_population':np.int,'house_units':np.int},\n",
        "                    converters={'median_age':valid_float,'white_pct':valid_float,\n",
        "                                'black_pct':valid_float,'native_pct':valid_float,\n",
        "                                'asian_pct':valid_float,'pacific_pct':valid_float,\n",
        "                                'other_pct':valid_float,'two_pct':valid_float,\n",
        "                                'latino_pct':valid_float,'notLatino_pct':valid_float,}),\n",
        "           pd.read_csv('/content/drive/Shared drives/Shared Items/census-responses/data/acs_housing/ACSDP5Y2018.DP04_data_with_overlays_2020-07-02T161352.csv',\n",
        "                    usecols = [0,1,8,12,184,188,300,354,568],\n",
        "                    names = ['GEO_ID', 'NAME','occupied_pct','vacant_pct',\n",
        "                             'owner_pct','renter_pct','no_telephone_pct',\n",
        "                             'median_value','rent_more_35_pct'],\n",
        "                    converters={'occupied_pct':valid_float,\n",
        "                                'vacant_pct':valid_float,\n",
        "                                'owner_pct':valid_float,\n",
        "                                'renter_pct':valid_float,\n",
        "                                'no_telephone_pct':valid_float,\n",
        "                                'median_value':valid_float,\n",
        "                                'rent_more_35_pct':valid_float},\n",
        "                    skiprows=2),\n",
        "          pd.read_csv('/content/drive/Shared drives/Shared Items/census-responses/data/acs_income/ACSST5Y2018.S1901_data_with_overlays_2020-07-02T160659.csv',\n",
        "                    usecols = [0,1,90],\n",
        "                    names = ['GEO_ID', 'NAME','median_income'],\n",
        "                    converters={'median_income':valid_float},\n",
        "                    skiprows=2),\n",
        "          temp]\n",
        "\n",
        "from functools import reduce\n",
        "demo = reduce(lambda  left,right: pd.merge(left,right,on=['GEO_ID', 'NAME'],\n",
        "                                           how='left'), frames)"
      ],
      "execution_count": 603,
      "outputs": []
    },
    {
      "cell_type": "code",
      "metadata": {
        "id": "ITI1KYesFrtS",
        "colab_type": "code",
        "colab": {}
      },
      "source": [
        "## read in 2010-2020 census tract crosswalk info\n",
        "crosswalk = pd.read_csv('https://raw.githubusercontent.com/tdiffendal/USAT/master/census-responses/data/rr_tract_rel.csv',\n",
        "                    usecols = [3,9],\n",
        "                    names = ['GEO10', 'GEO20'],\n",
        "                    skiprows=1,\n",
        "                    dtype={'GEO10':object, 'GEO20':object})\n",
        "\n",
        "#fill out GEO IDs; should be 11 long\n",
        "def fill_zeros(x):\n",
        "    if len(x) < 11:\n",
        "      return x.zfill(11)\n",
        "    elif len(x) >= 11:\n",
        "      return x\n",
        "\n",
        "crosswalk['GEO10'] = crosswalk['GEO10'].apply(fill_zeros) \n",
        "crosswalk['GEO20'] = crosswalk['GEO20'].apply(fill_zeros)\n",
        "\n",
        "#merge with ACS\n",
        "##need to change existing GEO IDs to match crosswalk format\n",
        "demo['GEO10'] = demo['GEO_ID'].str[9:]\n",
        "tracts['GEO20'] = tracts['GEO_ID'].str[9:]\n",
        "df = pd.merge(demo, crosswalk, on=\"GEO10\", how=\"inner\").merge(\n",
        "    tracts, on='GEO20', how=\"inner\").rename(columns={'GEO_ID_x':'GEO_ID'}).drop('GEO_ID_y', axis=1)"
      ],
      "execution_count": 604,
      "outputs": []
    },
    {
      "cell_type": "code",
      "metadata": {
        "id": "Yo_-Pu9E4oaS",
        "colab_type": "code",
        "colab": {}
      },
      "source": [
        "#only select columns we want\n",
        "df = df[['Geo_Name', 'county', 'State', '2020_tract_rate',\n",
        " '2010_tract_rate', '10_20_tract_difference', '2020_tract_st_diff', \n",
        " '2020_state_rate', '2010_state_rate', '10_20_state_difference', \n",
        " 'total_population', 'median_age', 'white_pct', 'black_pct', 'native_pct', \n",
        " 'asian_pct', 'pacific_pct', 'other_pct', 'two_pct', 'latino_pct', 'notLatino_pct',\n",
        " 'house_units', 'occupied_pct', 'vacant_pct','owner_pct', 'renter_pct', \n",
        " 'no_telephone_pct', 'median_value', 'rent_more_35_pct', 'median_income', \n",
        " 'no_int_pct', 'Region', 'GEO_ID']]"
      ],
      "execution_count": 605,
      "outputs": []
    },
    {
      "cell_type": "code",
      "metadata": {
        "id": "8MIzpsFWboYu",
        "colab_type": "code",
        "colab": {}
      },
      "source": [
        "#strip space in front of character columns\n",
        "df.State = df.State.str.lstrip()\n",
        "df.county = df.county.str.lstrip()"
      ],
      "execution_count": 606,
      "outputs": []
    },
    {
      "cell_type": "markdown",
      "metadata": {
        "id": "7iw0o2mgNUsU",
        "colab_type": "text"
      },
      "source": [
        "### COVID 19 IN PROGRESS DOES NOT WORK"
      ]
    },
    {
      "cell_type": "code",
      "metadata": {
        "id": "1mM5x81T6-q9",
        "colab_type": "code",
        "colab": {}
      },
      "source": [
        "# need to create county FIPS for joining\n",
        "df['FIPS'] = df['GEO_ID'].str[9:14]"
      ],
      "execution_count": 621,
      "outputs": []
    },
    {
      "cell_type": "code",
      "metadata": {
        "id": "5C3I5PvyNUE2",
        "colab_type": "code",
        "colab": {
          "base_uri": "https://localhost:8080/",
          "height": 233
        },
        "outputId": "f7d4029c-ce36-45d2-e2c2-0c2fc6c15977"
      },
      "source": [
        "temp = pd.read_csv(\"https://raw.githubusercontent.com/CSSEGISandData/COVID-19/master/csse_covid_19_data/csse_covid_19_time_series/time_series_covid19_confirmed_US.csv\")\n",
        "temp = temp.iloc[:, np.r_[0:11, -1]].rename(columns={temp.columns[-1]: \"case_count\", \"Province_State\":\"State\"})\n",
        "temp['FIPS'] = temp['FIPS'].astype(str).replace('\\.0', '', regex=True)\n",
        "\n",
        "## some fips leading zeros were cut, should be 5 long\n",
        "def fill_zeros(x):\n",
        "    if x == 'nan':\n",
        "      return np.nan\n",
        "    if len(x) < 5:\n",
        "      return x.zfill(5)\n",
        "    elif len(x) >= 5:\n",
        "      return x\n",
        "\n",
        "temp['FIPS'] = temp['FIPS'].apply(fill_zeros)\n",
        "temp.FIPS.value_counts()"
      ],
      "execution_count": 626,
      "outputs": [
        {
          "output_type": "execute_result",
          "data": {
            "text/plain": [
              "48283    1\n",
              "38029    1\n",
              "26097    1\n",
              "02170    1\n",
              "49007    1\n",
              "        ..\n",
              "48255    1\n",
              "27131    1\n",
              "18001    1\n",
              "06049    1\n",
              "08025    1\n",
              "Name: FIPS, Length: 3330, dtype: int64"
            ]
          },
          "metadata": {
            "tags": []
          },
          "execution_count": 626
        }
      ]
    },
    {
      "cell_type": "code",
      "metadata": {
        "id": "1l7459P4DAwC",
        "colab_type": "code",
        "colab": {
          "base_uri": "https://localhost:8080/",
          "height": 786
        },
        "outputId": "363a541c-2f8d-453e-cab9-eef8104ed01a"
      },
      "source": [
        "# difference in covid and df\n",
        "\n",
        "# Identify what values are in df and not in temp\n",
        "key_diff1 = pd.DataFrame(list(set(df.FIPS).difference(temp.FIPS))\n",
        ").rename(columns={0:'FIPS'})\n",
        "\n",
        "# Identify what values are in temp and not in df\n",
        "key_diff2 = pd.DataFrame(list(set(temp.FIPS).difference(df.FIPS))\n",
        ").rename(columns={0:'FIPS'})\n",
        "\n",
        "print(\"There are\", len(df), \"observations in the df and \\n\",\n",
        "    \"There are\", len(temp), \"observations in temp, \\n\",\n",
        "    \"a difference of\", len(df) - len(temp), \"\\n\\n\",\n",
        "    \"There are\", len(key_diff1), \n",
        "    \"counties in df that are not in temp \\n\",\n",
        "    \"And there are\", len(key_diff2), \"counties in temp not in df\\n\")\n",
        "\n",
        "blah = pd.merge(temp, key_diff2, on='FIPS')\n",
        "blah"
      ],
      "execution_count": 630,
      "outputs": [
        {
          "output_type": "stream",
          "text": [
            "There are 103520 observations in the df and \n",
            " There are 3340 observations in temp, \n",
            " a difference of 100180 \n",
            "\n",
            " There are 0 counties in df that are not in temp \n",
            " And there are 115 counties in temp not in df\n",
            "\n"
          ],
          "name": "stdout"
        },
        {
          "output_type": "execute_result",
          "data": {
            "text/html": [
              "<div>\n",
              "<style scoped>\n",
              "    .dataframe tbody tr th:only-of-type {\n",
              "        vertical-align: middle;\n",
              "    }\n",
              "\n",
              "    .dataframe tbody tr th {\n",
              "        vertical-align: top;\n",
              "    }\n",
              "\n",
              "    .dataframe thead th {\n",
              "        text-align: right;\n",
              "    }\n",
              "</style>\n",
              "<table border=\"1\" class=\"dataframe\">\n",
              "  <thead>\n",
              "    <tr style=\"text-align: right;\">\n",
              "      <th></th>\n",
              "      <th>UID</th>\n",
              "      <th>iso2</th>\n",
              "      <th>iso3</th>\n",
              "      <th>code3</th>\n",
              "      <th>FIPS</th>\n",
              "      <th>Admin2</th>\n",
              "      <th>State</th>\n",
              "      <th>Country_Region</th>\n",
              "      <th>Lat</th>\n",
              "      <th>Long_</th>\n",
              "      <th>Combined_Key</th>\n",
              "      <th>case_count</th>\n",
              "    </tr>\n",
              "  </thead>\n",
              "  <tbody>\n",
              "    <tr>\n",
              "      <th>0</th>\n",
              "      <td>16</td>\n",
              "      <td>AS</td>\n",
              "      <td>ASM</td>\n",
              "      <td>16</td>\n",
              "      <td>00060</td>\n",
              "      <td>NaN</td>\n",
              "      <td>American Samoa</td>\n",
              "      <td>US</td>\n",
              "      <td>-14.271000</td>\n",
              "      <td>-170.132000</td>\n",
              "      <td>American Samoa, US</td>\n",
              "      <td>0</td>\n",
              "    </tr>\n",
              "    <tr>\n",
              "      <th>1</th>\n",
              "      <td>316</td>\n",
              "      <td>GU</td>\n",
              "      <td>GUM</td>\n",
              "      <td>316</td>\n",
              "      <td>00066</td>\n",
              "      <td>NaN</td>\n",
              "      <td>Guam</td>\n",
              "      <td>US</td>\n",
              "      <td>13.444300</td>\n",
              "      <td>144.793700</td>\n",
              "      <td>Guam, US</td>\n",
              "      <td>418</td>\n",
              "    </tr>\n",
              "    <tr>\n",
              "      <th>2</th>\n",
              "      <td>580</td>\n",
              "      <td>MP</td>\n",
              "      <td>MNP</td>\n",
              "      <td>580</td>\n",
              "      <td>00069</td>\n",
              "      <td>NaN</td>\n",
              "      <td>Northern Mariana Islands</td>\n",
              "      <td>US</td>\n",
              "      <td>15.097900</td>\n",
              "      <td>145.673900</td>\n",
              "      <td>Northern Mariana Islands, US</td>\n",
              "      <td>49</td>\n",
              "    </tr>\n",
              "    <tr>\n",
              "      <th>3</th>\n",
              "      <td>850</td>\n",
              "      <td>VI</td>\n",
              "      <td>VIR</td>\n",
              "      <td>850</td>\n",
              "      <td>00078</td>\n",
              "      <td>NaN</td>\n",
              "      <td>Virgin Islands</td>\n",
              "      <td>US</td>\n",
              "      <td>18.335800</td>\n",
              "      <td>-64.896300</td>\n",
              "      <td>Virgin Islands, US</td>\n",
              "      <td>547</td>\n",
              "    </tr>\n",
              "    <tr>\n",
              "      <th>4</th>\n",
              "      <td>84002060</td>\n",
              "      <td>US</td>\n",
              "      <td>USA</td>\n",
              "      <td>840</td>\n",
              "      <td>02060</td>\n",
              "      <td>Bristol Bay</td>\n",
              "      <td>Alaska</td>\n",
              "      <td>US</td>\n",
              "      <td>58.745140</td>\n",
              "      <td>-156.701064</td>\n",
              "      <td>Bristol Bay, Alaska, US</td>\n",
              "      <td>10</td>\n",
              "    </tr>\n",
              "    <tr>\n",
              "      <th>...</th>\n",
              "      <td>...</td>\n",
              "      <td>...</td>\n",
              "      <td>...</td>\n",
              "      <td>...</td>\n",
              "      <td>...</td>\n",
              "      <td>...</td>\n",
              "      <td>...</td>\n",
              "      <td>...</td>\n",
              "      <td>...</td>\n",
              "      <td>...</td>\n",
              "      <td>...</td>\n",
              "      <td>...</td>\n",
              "    </tr>\n",
              "    <tr>\n",
              "      <th>119</th>\n",
              "      <td>84070016</td>\n",
              "      <td>US</td>\n",
              "      <td>USA</td>\n",
              "      <td>840</td>\n",
              "      <td>NaN</td>\n",
              "      <td>Central Utah</td>\n",
              "      <td>Utah</td>\n",
              "      <td>US</td>\n",
              "      <td>39.372319</td>\n",
              "      <td>-111.575868</td>\n",
              "      <td>Central Utah, Utah, US</td>\n",
              "      <td>426</td>\n",
              "    </tr>\n",
              "    <tr>\n",
              "      <th>120</th>\n",
              "      <td>84070017</td>\n",
              "      <td>US</td>\n",
              "      <td>USA</td>\n",
              "      <td>840</td>\n",
              "      <td>NaN</td>\n",
              "      <td>Southeast Utah</td>\n",
              "      <td>Utah</td>\n",
              "      <td>US</td>\n",
              "      <td>38.996171</td>\n",
              "      <td>-110.701396</td>\n",
              "      <td>Southeast Utah, Utah, US</td>\n",
              "      <td>113</td>\n",
              "    </tr>\n",
              "    <tr>\n",
              "      <th>121</th>\n",
              "      <td>84070018</td>\n",
              "      <td>US</td>\n",
              "      <td>USA</td>\n",
              "      <td>840</td>\n",
              "      <td>NaN</td>\n",
              "      <td>Southwest Utah</td>\n",
              "      <td>Utah</td>\n",
              "      <td>US</td>\n",
              "      <td>37.854472</td>\n",
              "      <td>-111.441876</td>\n",
              "      <td>Southwest Utah, Utah, US</td>\n",
              "      <td>3223</td>\n",
              "    </tr>\n",
              "    <tr>\n",
              "      <th>122</th>\n",
              "      <td>84070019</td>\n",
              "      <td>US</td>\n",
              "      <td>USA</td>\n",
              "      <td>840</td>\n",
              "      <td>NaN</td>\n",
              "      <td>TriCounty</td>\n",
              "      <td>Utah</td>\n",
              "      <td>US</td>\n",
              "      <td>40.124915</td>\n",
              "      <td>-109.517442</td>\n",
              "      <td>TriCounty, Utah, US</td>\n",
              "      <td>179</td>\n",
              "    </tr>\n",
              "    <tr>\n",
              "      <th>123</th>\n",
              "      <td>84070020</td>\n",
              "      <td>US</td>\n",
              "      <td>USA</td>\n",
              "      <td>840</td>\n",
              "      <td>NaN</td>\n",
              "      <td>Weber-Morgan</td>\n",
              "      <td>Utah</td>\n",
              "      <td>US</td>\n",
              "      <td>41.271160</td>\n",
              "      <td>-111.914512</td>\n",
              "      <td>Weber-Morgan, Utah, US</td>\n",
              "      <td>2845</td>\n",
              "    </tr>\n",
              "  </tbody>\n",
              "</table>\n",
              "<p>124 rows × 12 columns</p>\n",
              "</div>"
            ],
            "text/plain": [
              "          UID iso2 iso3  code3   FIPS          Admin2  \\\n",
              "0          16   AS  ASM     16  00060             NaN   \n",
              "1         316   GU  GUM    316  00066             NaN   \n",
              "2         580   MP  MNP    580  00069             NaN   \n",
              "3         850   VI  VIR    850  00078             NaN   \n",
              "4    84002060   US  USA    840  02060     Bristol Bay   \n",
              "..        ...  ...  ...    ...    ...             ...   \n",
              "119  84070016   US  USA    840    NaN    Central Utah   \n",
              "120  84070017   US  USA    840    NaN  Southeast Utah   \n",
              "121  84070018   US  USA    840    NaN  Southwest Utah   \n",
              "122  84070019   US  USA    840    NaN       TriCounty   \n",
              "123  84070020   US  USA    840    NaN    Weber-Morgan   \n",
              "\n",
              "                        State Country_Region        Lat       Long_  \\\n",
              "0              American Samoa             US -14.271000 -170.132000   \n",
              "1                        Guam             US  13.444300  144.793700   \n",
              "2    Northern Mariana Islands             US  15.097900  145.673900   \n",
              "3              Virgin Islands             US  18.335800  -64.896300   \n",
              "4                      Alaska             US  58.745140 -156.701064   \n",
              "..                        ...            ...        ...         ...   \n",
              "119                      Utah             US  39.372319 -111.575868   \n",
              "120                      Utah             US  38.996171 -110.701396   \n",
              "121                      Utah             US  37.854472 -111.441876   \n",
              "122                      Utah             US  40.124915 -109.517442   \n",
              "123                      Utah             US  41.271160 -111.914512   \n",
              "\n",
              "                     Combined_Key  case_count  \n",
              "0              American Samoa, US           0  \n",
              "1                        Guam, US         418  \n",
              "2    Northern Mariana Islands, US          49  \n",
              "3              Virgin Islands, US         547  \n",
              "4         Bristol Bay, Alaska, US          10  \n",
              "..                            ...         ...  \n",
              "119        Central Utah, Utah, US         426  \n",
              "120      Southeast Utah, Utah, US         113  \n",
              "121      Southwest Utah, Utah, US        3223  \n",
              "122           TriCounty, Utah, US         179  \n",
              "123        Weber-Morgan, Utah, US        2845  \n",
              "\n",
              "[124 rows x 12 columns]"
            ]
          },
          "metadata": {
            "tags": []
          },
          "execution_count": 630
        }
      ]
    },
    {
      "cell_type": "code",
      "metadata": {
        "id": "KfB683kEUy46",
        "colab_type": "code",
        "colab": {
          "base_uri": "https://localhost:8080/",
          "height": 69
        },
        "outputId": "084ef550-3f92-41eb-d545-6472ff9a91e0"
      },
      "source": [
        "ddf = pd.merge(df, temp, how='right', on=['State', 'FIPS'])\n",
        "ddf.loc[(pd.isna(ddf.case_count))]"
      ],
      "execution_count": 623,
      "outputs": [
        {
          "output_type": "execute_result",
          "data": {
            "text/html": [
              "<div>\n",
              "<style scoped>\n",
              "    .dataframe tbody tr th:only-of-type {\n",
              "        vertical-align: middle;\n",
              "    }\n",
              "\n",
              "    .dataframe tbody tr th {\n",
              "        vertical-align: top;\n",
              "    }\n",
              "\n",
              "    .dataframe thead th {\n",
              "        text-align: right;\n",
              "    }\n",
              "</style>\n",
              "<table border=\"1\" class=\"dataframe\">\n",
              "  <thead>\n",
              "    <tr style=\"text-align: right;\">\n",
              "      <th></th>\n",
              "      <th>Geo_Name</th>\n",
              "      <th>county</th>\n",
              "      <th>State</th>\n",
              "      <th>2020_tract_rate</th>\n",
              "      <th>2010_tract_rate</th>\n",
              "      <th>10_20_tract_difference</th>\n",
              "      <th>2020_tract_st_diff</th>\n",
              "      <th>2020_state_rate</th>\n",
              "      <th>2010_state_rate</th>\n",
              "      <th>10_20_state_difference</th>\n",
              "      <th>total_population</th>\n",
              "      <th>median_age</th>\n",
              "      <th>white_pct</th>\n",
              "      <th>black_pct</th>\n",
              "      <th>native_pct</th>\n",
              "      <th>asian_pct</th>\n",
              "      <th>pacific_pct</th>\n",
              "      <th>other_pct</th>\n",
              "      <th>two_pct</th>\n",
              "      <th>latino_pct</th>\n",
              "      <th>notLatino_pct</th>\n",
              "      <th>house_units</th>\n",
              "      <th>occupied_pct</th>\n",
              "      <th>vacant_pct</th>\n",
              "      <th>owner_pct</th>\n",
              "      <th>renter_pct</th>\n",
              "      <th>no_telephone_pct</th>\n",
              "      <th>median_value</th>\n",
              "      <th>rent_more_35_pct</th>\n",
              "      <th>median_income</th>\n",
              "      <th>no_int_pct</th>\n",
              "      <th>Region</th>\n",
              "      <th>GEO_ID</th>\n",
              "      <th>FIPS</th>\n",
              "      <th>UID</th>\n",
              "      <th>iso2</th>\n",
              "      <th>iso3</th>\n",
              "      <th>code3</th>\n",
              "      <th>Admin2</th>\n",
              "      <th>Country_Region</th>\n",
              "      <th>Lat</th>\n",
              "      <th>Long_</th>\n",
              "      <th>Combined_Key</th>\n",
              "      <th>case_count</th>\n",
              "    </tr>\n",
              "  </thead>\n",
              "  <tbody>\n",
              "  </tbody>\n",
              "</table>\n",
              "</div>"
            ],
            "text/plain": [
              "Empty DataFrame\n",
              "Columns: [Geo_Name, county, State, 2020_tract_rate, 2010_tract_rate, 10_20_tract_difference, 2020_tract_st_diff, 2020_state_rate, 2010_state_rate, 10_20_state_difference, total_population, median_age, white_pct, black_pct, native_pct, asian_pct, pacific_pct, other_pct, two_pct, latino_pct, notLatino_pct, house_units, occupied_pct, vacant_pct, owner_pct, renter_pct, no_telephone_pct, median_value, rent_more_35_pct, median_income, no_int_pct, Region, GEO_ID, FIPS, UID, iso2, iso3, code3, Admin2, Country_Region, Lat, Long_, Combined_Key, case_count]\n",
              "Index: []"
            ]
          },
          "metadata": {
            "tags": []
          },
          "execution_count": 623
        }
      ]
    },
    {
      "cell_type": "code",
      "metadata": {
        "id": "SkaP4s-D2ubC",
        "colab_type": "code",
        "colab": {
          "base_uri": "https://localhost:8080/",
          "height": 35
        },
        "outputId": "00399077-6d77-4d39-efee-c77499fb2e42"
      },
      "source": [
        "len(ddf)\n",
        "#len(df)"
      ],
      "execution_count": 617,
      "outputs": [
        {
          "output_type": "execute_result",
          "data": {
            "text/plain": [
              "103444"
            ]
          },
          "metadata": {
            "tags": []
          },
          "execution_count": 617
        }
      ]
    },
    {
      "cell_type": "code",
      "metadata": {
        "id": "S1A7ySQfUXfI",
        "colab_type": "code",
        "colab": {
          "base_uri": "https://localhost:8080/",
          "height": 827
        },
        "outputId": "a620d212-027a-4b52-c1de-3bca6b9e736a"
      },
      "source": [
        "#check if any nas\n",
        "pd.set_option('display.max_rows', 70)\n",
        "print(pd.isna(ddf).sum())"
      ],
      "execution_count": 618,
      "outputs": [
        {
          "output_type": "stream",
          "text": [
            "Geo_Name                     0\n",
            "county                       0\n",
            "State                        0\n",
            "2020_tract_rate              0\n",
            "2010_tract_rate            694\n",
            "10_20_tract_difference     703\n",
            "2020_tract_st_diff           0\n",
            "2020_state_rate              0\n",
            "2010_state_rate              0\n",
            "10_20_state_difference       0\n",
            "total_population             0\n",
            "median_age                 222\n",
            "white_pct                  207\n",
            "black_pct                  207\n",
            "native_pct                 207\n",
            "asian_pct                  207\n",
            "pacific_pct                207\n",
            "other_pct                  207\n",
            "two_pct                    207\n",
            "latino_pct                 207\n",
            "notLatino_pct              207\n",
            "house_units                  0\n",
            "occupied_pct               249\n",
            "vacant_pct                 249\n",
            "owner_pct                  273\n",
            "renter_pct                 273\n",
            "no_telephone_pct          1145\n",
            "median_value              1991\n",
            "rent_more_35_pct           420\n",
            "median_income              580\n",
            "no_int_pct                 273\n",
            "Region                       0\n",
            "GEO_ID                       0\n",
            "FIPS                         0\n",
            "UID                          0\n",
            "iso2                         0\n",
            "iso3                         0\n",
            "code3                        0\n",
            "Admin2                       0\n",
            "Country_Region               0\n",
            "Lat                          0\n",
            "Long_                        0\n",
            "Combined_Key                 0\n",
            "case_count                   0\n",
            "dtype: int64\n"
          ],
          "name": "stdout"
        }
      ]
    },
    {
      "cell_type": "code",
      "metadata": {
        "id": "ol4y1oXeQZs-",
        "colab_type": "code",
        "colab": {
          "base_uri": "https://localhost:8080/",
          "height": 35
        },
        "outputId": "43bdf011-b505-4dc7-edff-bf9f958b4976"
      },
      "source": [
        "#see what percent of state tracts have lower response\n",
        "temp1 = pd.merge(pd.DataFrame(temp['State'].value_counts()).reset_index().rename(columns={'index':'state', 'State':'count_cov'}),\n",
        "    pd.DataFrame(df['State'].value_counts()).reset_index().rename(columns={'index':'state', 'State':'count'}),\n",
        "    on=['state'])\n",
        "\n",
        "temp1['cov_percent'] = (temp1['count_cov']*100) / temp1['count']\n",
        "\n",
        "temp1.count_cov.sum()\n",
        "l"
      ],
      "execution_count": null,
      "outputs": [
        {
          "output_type": "execute_result",
          "data": {
            "text/plain": [
              "3334"
            ]
          },
          "metadata": {
            "tags": []
          },
          "execution_count": 197
        }
      ]
    },
    {
      "cell_type": "markdown",
      "metadata": {
        "id": "LHhffDBjJmEC",
        "colab_type": "text"
      },
      "source": [
        "### County 2016 Presidential Votes"
      ]
    },
    {
      "cell_type": "code",
      "metadata": {
        "id": "U7W_RSF6JswZ",
        "colab_type": "code",
        "colab": {}
      },
      "source": [
        "#read in county-level voting information for the 2016 pres race\n",
        "votes = pd.read_csv('https://raw.githubusercontent.com/tdiffendal/USAT/master/census-responses/data/countypres_2016.csv',\n",
        "                         usecols = [1,3,4,7,8,9],\n",
        "                   skiprows=1,\n",
        "                   names= ['State', 'county', 'FIPS', 'party', \n",
        "                           'candidatevotes', 'totalvotes'],\n",
        "                    dtype={'State':np.str, 'county':np.str, 'FIPS':np.float, \n",
        "                           'party':np.str,'candidatevotes':np.float, \n",
        "                           'totalvotes':np.float})\n"
      ],
      "execution_count": 264,
      "outputs": []
    },
    {
      "cell_type": "code",
      "metadata": {
        "id": "NC8i6ECGWiN5",
        "colab_type": "code",
        "colab": {
          "base_uri": "https://localhost:8080/",
          "height": 1000
        },
        "outputId": "8a6076ac-88dc-4ab6-da76-1e8f032494ab"
      },
      "source": [
        "# difference in voting rows and df\n",
        "\n",
        "# Identify what values are in df and not in votes\n",
        "key_diff1 = pd.DataFrame(list(set(df.county).difference(votes.county))\n",
        ").rename(columns={0:'county'})\n",
        "\n",
        "# Identify what values are in crosswalk and not in demo\n",
        "key_diff2 = pd.DataFrame(list(set(votes.county).difference(df.county))\n",
        ").rename(columns={0:'county'})\n",
        "\n",
        "print(\"There are\", len(df), \"observations in the df and \\n\",\n",
        "    \"There are\", len(votes), \"observations in votes, \\n\",\n",
        "    \"a difference of\", len(df) - len(votes), \"\\n\\n\",\n",
        "    \"There are\", len(key_diff1), \n",
        "    \"counties in df that are not in votes \\n\",\n",
        "    \"And there are\", len(key_diff2), \"counties in votes not in df\\n\")\n",
        "\n",
        "key_diff1"
      ],
      "execution_count": 282,
      "outputs": [
        {
          "output_type": "stream",
          "text": [
            "There are 103520 observations in the df and \n",
            " There are 3157 observations in votes, \n",
            " a difference of 100363 \n",
            "\n",
            " There are 103 counties in df that are not in votes \n",
            " And there are 44 counties in votes not in df\n",
            "\n"
          ],
          "name": "stdout"
        },
        {
          "output_type": "execute_result",
          "data": {
            "text/html": [
              "<div>\n",
              "<style scoped>\n",
              "    .dataframe tbody tr th:only-of-type {\n",
              "        vertical-align: middle;\n",
              "    }\n",
              "\n",
              "    .dataframe tbody tr th {\n",
              "        vertical-align: top;\n",
              "    }\n",
              "\n",
              "    .dataframe thead th {\n",
              "        text-align: right;\n",
              "    }\n",
              "</style>\n",
              "<table border=\"1\" class=\"dataframe\">\n",
              "  <thead>\n",
              "    <tr style=\"text-align: right;\">\n",
              "      <th></th>\n",
              "      <th>county</th>\n",
              "    </tr>\n",
              "  </thead>\n",
              "  <tbody>\n",
              "    <tr>\n",
              "      <th>0</th>\n",
              "      <td>Carolina Municipio</td>\n",
              "    </tr>\n",
              "    <tr>\n",
              "      <th>1</th>\n",
              "      <td>Bethel Census Area</td>\n",
              "    </tr>\n",
              "    <tr>\n",
              "      <th>2</th>\n",
              "      <td>Santa Isabel Municipio</td>\n",
              "    </tr>\n",
              "    <tr>\n",
              "      <th>3</th>\n",
              "      <td>Orocovis Municipio</td>\n",
              "    </tr>\n",
              "    <tr>\n",
              "      <th>4</th>\n",
              "      <td>Guayama Municipio</td>\n",
              "    </tr>\n",
              "    <tr>\n",
              "      <th>5</th>\n",
              "      <td>Southeast Fairbanks Census Area</td>\n",
              "    </tr>\n",
              "    <tr>\n",
              "      <th>6</th>\n",
              "      <td>Añasco Municipio</td>\n",
              "    </tr>\n",
              "    <tr>\n",
              "      <th>7</th>\n",
              "      <td>Peñuelas Municipio</td>\n",
              "    </tr>\n",
              "    <tr>\n",
              "      <th>8</th>\n",
              "      <td>Guánica Municipio</td>\n",
              "    </tr>\n",
              "    <tr>\n",
              "      <th>9</th>\n",
              "      <td>Denali Borough</td>\n",
              "    </tr>\n",
              "    <tr>\n",
              "      <th>10</th>\n",
              "      <td>Juncos Municipio</td>\n",
              "    </tr>\n",
              "    <tr>\n",
              "      <th>11</th>\n",
              "      <td>Bayamón Municipio</td>\n",
              "    </tr>\n",
              "    <tr>\n",
              "      <th>12</th>\n",
              "      <td>Vega Baja Municipio</td>\n",
              "    </tr>\n",
              "    <tr>\n",
              "      <th>13</th>\n",
              "      <td>Rincón Municipio</td>\n",
              "    </tr>\n",
              "    <tr>\n",
              "      <th>14</th>\n",
              "      <td>Juneau City and Borough</td>\n",
              "    </tr>\n",
              "    <tr>\n",
              "      <th>15</th>\n",
              "      <td>Arecibo Municipio</td>\n",
              "    </tr>\n",
              "    <tr>\n",
              "      <th>16</th>\n",
              "      <td>Aguadilla Municipio</td>\n",
              "    </tr>\n",
              "    <tr>\n",
              "      <th>17</th>\n",
              "      <td>Guaynabo Municipio</td>\n",
              "    </tr>\n",
              "    <tr>\n",
              "      <th>18</th>\n",
              "      <td>Camuy Municipio</td>\n",
              "    </tr>\n",
              "    <tr>\n",
              "      <th>19</th>\n",
              "      <td>Villalba Municipio</td>\n",
              "    </tr>\n",
              "    <tr>\n",
              "      <th>20</th>\n",
              "      <td>Wrangell City and Borough</td>\n",
              "    </tr>\n",
              "    <tr>\n",
              "      <th>21</th>\n",
              "      <td>Ceiba Municipio</td>\n",
              "    </tr>\n",
              "    <tr>\n",
              "      <th>22</th>\n",
              "      <td>Haines Borough</td>\n",
              "    </tr>\n",
              "    <tr>\n",
              "      <th>23</th>\n",
              "      <td>Manatí Municipio</td>\n",
              "    </tr>\n",
              "    <tr>\n",
              "      <th>24</th>\n",
              "      <td>Cataño Municipio</td>\n",
              "    </tr>\n",
              "    <tr>\n",
              "      <th>25</th>\n",
              "      <td>Comerío Municipio</td>\n",
              "    </tr>\n",
              "    <tr>\n",
              "      <th>26</th>\n",
              "      <td>Yabucoa Municipio</td>\n",
              "    </tr>\n",
              "    <tr>\n",
              "      <th>27</th>\n",
              "      <td>Ketchikan Gateway Borough</td>\n",
              "    </tr>\n",
              "    <tr>\n",
              "      <th>28</th>\n",
              "      <td>Las Marías Municipio</td>\n",
              "    </tr>\n",
              "    <tr>\n",
              "      <th>29</th>\n",
              "      <td>Jayuya Municipio</td>\n",
              "    </tr>\n",
              "    <tr>\n",
              "      <th>30</th>\n",
              "      <td>Aibonito Municipio</td>\n",
              "    </tr>\n",
              "    <tr>\n",
              "      <th>31</th>\n",
              "      <td>Naranjito Municipio</td>\n",
              "    </tr>\n",
              "    <tr>\n",
              "      <th>32</th>\n",
              "      <td>Yauco Municipio</td>\n",
              "    </tr>\n",
              "    <tr>\n",
              "      <th>33</th>\n",
              "      <td>Dorado Municipio</td>\n",
              "    </tr>\n",
              "    <tr>\n",
              "      <th>34</th>\n",
              "      <td>Yakutat City and Borough</td>\n",
              "    </tr>\n",
              "    <tr>\n",
              "      <th>35</th>\n",
              "      <td>Humacao Municipio</td>\n",
              "    </tr>\n",
              "    <tr>\n",
              "      <th>36</th>\n",
              "      <td>Las Piedras Municipio</td>\n",
              "    </tr>\n",
              "    <tr>\n",
              "      <th>37</th>\n",
              "      <td>Fairbanks North Star Borough</td>\n",
              "    </tr>\n",
              "    <tr>\n",
              "      <th>38</th>\n",
              "      <td>Kodiak Island Borough</td>\n",
              "    </tr>\n",
              "    <tr>\n",
              "      <th>39</th>\n",
              "      <td>Guayanilla Municipio</td>\n",
              "    </tr>\n",
              "    <tr>\n",
              "      <th>40</th>\n",
              "      <td>Prince of Wales-Hyder Census Area</td>\n",
              "    </tr>\n",
              "    <tr>\n",
              "      <th>41</th>\n",
              "      <td>Dillingham Census Area</td>\n",
              "    </tr>\n",
              "    <tr>\n",
              "      <th>42</th>\n",
              "      <td>Fajardo Municipio</td>\n",
              "    </tr>\n",
              "    <tr>\n",
              "      <th>43</th>\n",
              "      <td>Luquillo Municipio</td>\n",
              "    </tr>\n",
              "    <tr>\n",
              "      <th>44</th>\n",
              "      <td>Trujillo Alto Municipio</td>\n",
              "    </tr>\n",
              "    <tr>\n",
              "      <th>45</th>\n",
              "      <td>Roanoke city</td>\n",
              "    </tr>\n",
              "    <tr>\n",
              "      <th>46</th>\n",
              "      <td>Hormigueros Municipio</td>\n",
              "    </tr>\n",
              "    <tr>\n",
              "      <th>47</th>\n",
              "      <td>San Lorenzo Municipio</td>\n",
              "    </tr>\n",
              "    <tr>\n",
              "      <th>48</th>\n",
              "      <td>Kenai Peninsula Borough</td>\n",
              "    </tr>\n",
              "    <tr>\n",
              "      <th>49</th>\n",
              "      <td>Morovis Municipio</td>\n",
              "    </tr>\n",
              "    <tr>\n",
              "      <th>50</th>\n",
              "      <td>Gurabo Municipio</td>\n",
              "    </tr>\n",
              "    <tr>\n",
              "      <th>51</th>\n",
              "      <td>Matanuska-Susitna Borough</td>\n",
              "    </tr>\n",
              "    <tr>\n",
              "      <th>52</th>\n",
              "      <td>Juana Díaz Municipio</td>\n",
              "    </tr>\n",
              "    <tr>\n",
              "      <th>53</th>\n",
              "      <td>Naguabo Municipio</td>\n",
              "    </tr>\n",
              "    <tr>\n",
              "      <th>54</th>\n",
              "      <td>San Juan Municipio</td>\n",
              "    </tr>\n",
              "    <tr>\n",
              "      <th>55</th>\n",
              "      <td>Sabana Grande Municipio</td>\n",
              "    </tr>\n",
              "    <tr>\n",
              "      <th>56</th>\n",
              "      <td>Vieques Municipio</td>\n",
              "    </tr>\n",
              "    <tr>\n",
              "      <th>57</th>\n",
              "      <td>Coamo Municipio</td>\n",
              "    </tr>\n",
              "    <tr>\n",
              "      <th>58</th>\n",
              "      <td>Nome Census Area</td>\n",
              "    </tr>\n",
              "    <tr>\n",
              "      <th>59</th>\n",
              "      <td>Doña Ana County</td>\n",
              "    </tr>\n",
              "    <tr>\n",
              "      <th>60</th>\n",
              "      <td>Northwest Arctic Borough</td>\n",
              "    </tr>\n",
              "    <tr>\n",
              "      <th>61</th>\n",
              "      <td>Maricao Municipio</td>\n",
              "    </tr>\n",
              "    <tr>\n",
              "      <th>62</th>\n",
              "      <td>Culebra Municipio</td>\n",
              "    </tr>\n",
              "    <tr>\n",
              "      <th>63</th>\n",
              "      <td>San Germán Municipio</td>\n",
              "    </tr>\n",
              "    <tr>\n",
              "      <th>64</th>\n",
              "      <td>Canóvanas Municipio</td>\n",
              "    </tr>\n",
              "    <tr>\n",
              "      <th>65</th>\n",
              "      <td>Chugach Census Area</td>\n",
              "    </tr>\n",
              "    <tr>\n",
              "      <th>66</th>\n",
              "      <td>Skagway Municipality</td>\n",
              "    </tr>\n",
              "    <tr>\n",
              "      <th>67</th>\n",
              "      <td>Toa Alta Municipio</td>\n",
              "    </tr>\n",
              "    <tr>\n",
              "      <th>68</th>\n",
              "      <td>Cayey Municipio</td>\n",
              "    </tr>\n",
              "    <tr>\n",
              "      <th>69</th>\n",
              "      <td>Arroyo Municipio</td>\n",
              "    </tr>\n",
              "    <tr>\n",
              "      <th>70</th>\n",
              "      <td>Ponce Municipio</td>\n",
              "    </tr>\n",
              "    <tr>\n",
              "      <th>71</th>\n",
              "      <td>Petersburg Borough</td>\n",
              "    </tr>\n",
              "    <tr>\n",
              "      <th>72</th>\n",
              "      <td>Adjuntas Municipio</td>\n",
              "    </tr>\n",
              "    <tr>\n",
              "      <th>73</th>\n",
              "      <td>Barceloneta Municipio</td>\n",
              "    </tr>\n",
              "    <tr>\n",
              "      <th>74</th>\n",
              "      <td>Hoonah-Angoon Census Area</td>\n",
              "    </tr>\n",
              "    <tr>\n",
              "      <th>75</th>\n",
              "      <td>Aguada Municipio</td>\n",
              "    </tr>\n",
              "    <tr>\n",
              "      <th>76</th>\n",
              "      <td>Quebradillas Municipio</td>\n",
              "    </tr>\n",
              "    <tr>\n",
              "      <th>77</th>\n",
              "      <td>Vega Alta Municipio</td>\n",
              "    </tr>\n",
              "    <tr>\n",
              "      <th>78</th>\n",
              "      <td>Lajas Municipio</td>\n",
              "    </tr>\n",
              "    <tr>\n",
              "      <th>79</th>\n",
              "      <td>Toa Baja Municipio</td>\n",
              "    </tr>\n",
              "    <tr>\n",
              "      <th>80</th>\n",
              "      <td>Isabela Municipio</td>\n",
              "    </tr>\n",
              "    <tr>\n",
              "      <th>81</th>\n",
              "      <td>Moca Municipio</td>\n",
              "    </tr>\n",
              "    <tr>\n",
              "      <th>82</th>\n",
              "      <td>Ciales Municipio</td>\n",
              "    </tr>\n",
              "    <tr>\n",
              "      <th>83</th>\n",
              "      <td>North Slope Borough</td>\n",
              "    </tr>\n",
              "    <tr>\n",
              "      <th>84</th>\n",
              "      <td>Lares Municipio</td>\n",
              "    </tr>\n",
              "    <tr>\n",
              "      <th>85</th>\n",
              "      <td>Florida Municipio</td>\n",
              "    </tr>\n",
              "    <tr>\n",
              "      <th>86</th>\n",
              "      <td>Barranquitas Municipio</td>\n",
              "    </tr>\n",
              "    <tr>\n",
              "      <th>87</th>\n",
              "      <td>Mayagüez Municipio</td>\n",
              "    </tr>\n",
              "    <tr>\n",
              "      <th>88</th>\n",
              "      <td>Hatillo Municipio</td>\n",
              "    </tr>\n",
              "    <tr>\n",
              "      <th>89</th>\n",
              "      <td>Maunabo Municipio</td>\n",
              "    </tr>\n",
              "    <tr>\n",
              "      <th>90</th>\n",
              "      <td>Kalawao County</td>\n",
              "    </tr>\n",
              "    <tr>\n",
              "      <th>91</th>\n",
              "      <td>San Sebastián Municipio</td>\n",
              "    </tr>\n",
              "    <tr>\n",
              "      <th>92</th>\n",
              "      <td>Sitka City and Borough</td>\n",
              "    </tr>\n",
              "    <tr>\n",
              "      <th>93</th>\n",
              "      <td>Cabo Rojo Municipio</td>\n",
              "    </tr>\n",
              "    <tr>\n",
              "      <th>94</th>\n",
              "      <td>Corozal Municipio</td>\n",
              "    </tr>\n",
              "    <tr>\n",
              "      <th>95</th>\n",
              "      <td>Salinas Municipio</td>\n",
              "    </tr>\n",
              "    <tr>\n",
              "      <th>96</th>\n",
              "      <td>Loíza Municipio</td>\n",
              "    </tr>\n",
              "    <tr>\n",
              "      <th>97</th>\n",
              "      <td>Caguas Municipio</td>\n",
              "    </tr>\n",
              "    <tr>\n",
              "      <th>98</th>\n",
              "      <td>Utuado Municipio</td>\n",
              "    </tr>\n",
              "    <tr>\n",
              "      <th>99</th>\n",
              "      <td>Cidra Municipio</td>\n",
              "    </tr>\n",
              "    <tr>\n",
              "      <th>100</th>\n",
              "      <td>Patillas Municipio</td>\n",
              "    </tr>\n",
              "    <tr>\n",
              "      <th>101</th>\n",
              "      <td>Río Grande Municipio</td>\n",
              "    </tr>\n",
              "    <tr>\n",
              "      <th>102</th>\n",
              "      <td>Aguas Buenas Municipio</td>\n",
              "    </tr>\n",
              "  </tbody>\n",
              "</table>\n",
              "</div>"
            ],
            "text/plain": [
              "                                county\n",
              "0                   Carolina Municipio\n",
              "1                   Bethel Census Area\n",
              "2               Santa Isabel Municipio\n",
              "3                   Orocovis Municipio\n",
              "4                    Guayama Municipio\n",
              "5      Southeast Fairbanks Census Area\n",
              "6                     Añasco Municipio\n",
              "7                   Peñuelas Municipio\n",
              "8                    Guánica Municipio\n",
              "9                       Denali Borough\n",
              "10                    Juncos Municipio\n",
              "11                   Bayamón Municipio\n",
              "12                 Vega Baja Municipio\n",
              "13                    Rincón Municipio\n",
              "14             Juneau City and Borough\n",
              "15                   Arecibo Municipio\n",
              "16                 Aguadilla Municipio\n",
              "17                  Guaynabo Municipio\n",
              "18                     Camuy Municipio\n",
              "19                  Villalba Municipio\n",
              "20           Wrangell City and Borough\n",
              "21                     Ceiba Municipio\n",
              "22                      Haines Borough\n",
              "23                    Manatí Municipio\n",
              "24                    Cataño Municipio\n",
              "25                   Comerío Municipio\n",
              "26                   Yabucoa Municipio\n",
              "27           Ketchikan Gateway Borough\n",
              "28                Las Marías Municipio\n",
              "29                    Jayuya Municipio\n",
              "30                  Aibonito Municipio\n",
              "31                 Naranjito Municipio\n",
              "32                     Yauco Municipio\n",
              "33                    Dorado Municipio\n",
              "34            Yakutat City and Borough\n",
              "35                   Humacao Municipio\n",
              "36               Las Piedras Municipio\n",
              "37        Fairbanks North Star Borough\n",
              "38               Kodiak Island Borough\n",
              "39                Guayanilla Municipio\n",
              "40   Prince of Wales-Hyder Census Area\n",
              "41              Dillingham Census Area\n",
              "42                   Fajardo Municipio\n",
              "43                  Luquillo Municipio\n",
              "44             Trujillo Alto Municipio\n",
              "45                        Roanoke city\n",
              "46               Hormigueros Municipio\n",
              "47               San Lorenzo Municipio\n",
              "48             Kenai Peninsula Borough\n",
              "49                   Morovis Municipio\n",
              "50                    Gurabo Municipio\n",
              "51           Matanuska-Susitna Borough\n",
              "52                Juana Díaz Municipio\n",
              "53                   Naguabo Municipio\n",
              "54                  San Juan Municipio\n",
              "55             Sabana Grande Municipio\n",
              "56                   Vieques Municipio\n",
              "57                     Coamo Municipio\n",
              "58                    Nome Census Area\n",
              "59                     Doña Ana County\n",
              "60            Northwest Arctic Borough\n",
              "61                   Maricao Municipio\n",
              "62                   Culebra Municipio\n",
              "63                San Germán Municipio\n",
              "64                 Canóvanas Municipio\n",
              "65                 Chugach Census Area\n",
              "66                Skagway Municipality\n",
              "67                  Toa Alta Municipio\n",
              "68                     Cayey Municipio\n",
              "69                    Arroyo Municipio\n",
              "70                     Ponce Municipio\n",
              "71                  Petersburg Borough\n",
              "72                  Adjuntas Municipio\n",
              "73               Barceloneta Municipio\n",
              "74           Hoonah-Angoon Census Area\n",
              "75                    Aguada Municipio\n",
              "76              Quebradillas Municipio\n",
              "77                 Vega Alta Municipio\n",
              "78                     Lajas Municipio\n",
              "79                  Toa Baja Municipio\n",
              "80                   Isabela Municipio\n",
              "81                      Moca Municipio\n",
              "82                    Ciales Municipio\n",
              "83                 North Slope Borough\n",
              "84                     Lares Municipio\n",
              "85                   Florida Municipio\n",
              "86              Barranquitas Municipio\n",
              "87                  Mayagüez Municipio\n",
              "88                   Hatillo Municipio\n",
              "89                   Maunabo Municipio\n",
              "90                      Kalawao County\n",
              "91             San Sebastián Municipio\n",
              "92              Sitka City and Borough\n",
              "93                 Cabo Rojo Municipio\n",
              "94                   Corozal Municipio\n",
              "95                   Salinas Municipio\n",
              "96                     Loíza Municipio\n",
              "97                    Caguas Municipio\n",
              "98                    Utuado Municipio\n",
              "99                     Cidra Municipio\n",
              "100                 Patillas Municipio\n",
              "101               Río Grande Municipio\n",
              "102             Aguas Buenas Municipio"
            ]
          },
          "metadata": {
            "tags": []
          },
          "execution_count": 282
        }
      ]
    },
    {
      "cell_type": "code",
      "metadata": {
        "id": "hRsRTC1JX9KC",
        "colab_type": "code",
        "colab": {}
      },
      "source": [
        "vote_merge = pd.merge(df, votes, on=(['county', 'State']), how='inner')"
      ],
      "execution_count": null,
      "outputs": []
    },
    {
      "cell_type": "code",
      "metadata": {
        "id": "ee_ou-HqLIvj",
        "colab_type": "code",
        "colab": {
          "base_uri": "https://localhost:8080/",
          "height": 251
        },
        "outputId": "2a02fe28-2a7b-4594-f22e-f2816a255178"
      },
      "source": [
        "## get data on counties by political party\n",
        "\n",
        "print(\"\\npercent tracts voted republican:\",\n",
        "    len(df[df.party=='republican']) * 100 / len(df),\n",
        "    \"\\n\\n500 tracts with the greatest response rate % change:\\n\",\n",
        "    df.sort_values(by=\"10_20_tract_difference\", ascending=False).head(500).party.value_counts(),\n",
        "    \"\\n\\n500 tracts with the lowest response rate % change:\\n\",\n",
        "    df.sort_values(by=\"10_20_tract_difference\", ascending=True).head(500).party.value_counts(),\n",
        "    \"\\n won't exactly=500 as there are some counties for which we dont have pres data\"\n",
        "    )\n",
        "\n",
        "    ## only 6 tracts with 0 2020 response rate\n",
        "    ## 86 tracts with 0 2010 response rate "
      ],
      "execution_count": 242,
      "outputs": [
        {
          "output_type": "stream",
          "text": [
            "\n",
            "percent tracts voted republican: 47.57931334202521 \n",
            "\n",
            "500 tracts with the greatest response rate % change:\n",
            " democrat      268\n",
            "republican    228\n",
            "Name: party, dtype: int64 \n",
            "\n",
            "500 tracts with the lowest response rate % change:\n",
            " democrat      161\n",
            "republican    120\n",
            "Name: party, dtype: int64 \n",
            " won't exactly=500 as there are some counties for which we dont have pres data\n"
          ],
          "name": "stdout"
        }
      ]
    },
    {
      "cell_type": "code",
      "metadata": {
        "id": "-IITkbJqQMcN",
        "colab_type": "code",
        "colab": {
          "base_uri": "https://localhost:8080/",
          "height": 899
        },
        "outputId": "9e164547-5c8f-4514-a856-4f1d3d565b23"
      },
      "source": [
        "#check if any nas\n",
        "print(pd.isnull(df).sum())"
      ],
      "execution_count": 252,
      "outputs": [
        {
          "output_type": "stream",
          "text": [
            "Geo_Name                    44\n",
            "county                       0\n",
            "State                        0\n",
            "2020_tract_rate             44\n",
            "2010_tract_rate            736\n",
            "10_20_tract_difference     745\n",
            "2020_tract_st_diff          44\n",
            "2020_state_rate             44\n",
            "2010_state_rate             44\n",
            "10_20_state_difference      44\n",
            "total_population            44\n",
            "median_age                 265\n",
            "white_pct                  251\n",
            "black_pct                  251\n",
            "native_pct                 251\n",
            "asian_pct                  251\n",
            "pacific_pct                251\n",
            "other_pct                  251\n",
            "two_pct                    251\n",
            "latino_pct                 251\n",
            "notLatino_pct              251\n",
            "house_units                 44\n",
            "occupied_pct               293\n",
            "vacant_pct                 293\n",
            "owner_pct                  316\n",
            "renter_pct                 316\n",
            "no_telephone_pct          1188\n",
            "median_value              2014\n",
            "rent_more_35_pct           459\n",
            "median_income              614\n",
            "no_int_pct                 316\n",
            "Region                      44\n",
            "FIPS_x                      44\n",
            "party_x                     44\n",
            "candidatevotes_x           244\n",
            "totalvotes_x                44\n",
            "FIPS_y                       3\n",
            "party_y                      0\n",
            "candidatevotes_y           201\n",
            "totalvotes_y                 0\n",
            "FIPS_x                       3\n",
            "party_x                      0\n",
            "candidatevotes_x           201\n",
            "totalvotes_x                 0\n",
            "FIPS_y                       3\n",
            "party_y                      0\n",
            "candidatevotes_y           201\n",
            "totalvotes_y                 0\n",
            "dtype: int64\n"
          ],
          "name": "stdout"
        }
      ]
    },
    {
      "cell_type": "code",
      "metadata": {
        "id": "CcO1o0WvVwqz",
        "colab_type": "code",
        "colab": {
          "base_uri": "https://localhost:8080/",
          "height": 143
        },
        "outputId": "577ee1c1-b67e-4fc6-d2b1-d48ac285addf"
      },
      "source": [
        "df.loc[(pd.isna(df.candidatevotes))].State.value_counts()"
      ],
      "execution_count": 246,
      "outputs": [
        {
          "output_type": "execute_result",
          "data": {
            "text/plain": [
              "Puerto Rico    1227\n",
              "Alaska          130\n",
              "New Mexico       94\n",
              "Virginia         53\n",
              "Florida          12\n",
              "Hawaii            1\n",
              "Name: State, dtype: int64"
            ]
          },
          "metadata": {
            "tags": []
          },
          "execution_count": 246
        }
      ]
    },
    {
      "cell_type": "markdown",
      "metadata": {
        "id": "oXDKEcREPtvw",
        "colab_type": "text"
      },
      "source": [
        "### Check Data"
      ]
    },
    {
      "cell_type": "code",
      "metadata": {
        "id": "u19V3l294oZ6",
        "colab_type": "code",
        "colab": {
          "base_uri": "https://localhost:8080/",
          "height": 773
        },
        "outputId": "37acfb7b-fc1b-46df-d049-88322fb47531"
      },
      "source": [
        "#how many null 2010 response values are there\n",
        "no_2010 = tracts[tracts.isnull().any(axis=1)].sort_values(by=\"2010_tract_rate\")\n",
        "\n",
        "print(\n",
        "    \"There are\", len(no_2010), \"null 2010 response rate values out of\", \n",
        "    len(tracts2010), \"total 2010 observations, \\n or\",\n",
        "    len(no_2010) * 100 / len(tracts2010) , \"% \\n\",\n",
        "    \"and\", len(no_2010) * 100 / len(tracts), \"% of the\", len(tracts),\n",
        "    \"total of 2020 and 2010 tracts \\n\\n\",\n",
        "    \"Null response rate tracts in each state:\\n\",\n",
        "    no_2010['State'].value_counts())"
      ],
      "execution_count": 136,
      "outputs": [
        {
          "output_type": "stream",
          "text": [
            "There are 536 null 2010 response rate values out of 84519 total 2010 observations, \n",
            " or 0.6341769306309823 % \n",
            " and 0.6373895568002093 % of the 84093 total of 2020 and 2010 tracts \n",
            "\n",
            " Null response rate tracts in each state:\n",
            "  Wisconsin               92\n",
            " Florida                 56\n",
            " Texas                   54\n",
            " California              54\n",
            " New York                51\n",
            " Arizona                 51\n",
            " New Mexico              30\n",
            " Massachusetts           21\n",
            " Washington              17\n",
            " Montana                 14\n",
            " South Dakota            13\n",
            " North Carolina           8\n",
            " Minnesota                7\n",
            " Alabama                  7\n",
            " North Dakota             6\n",
            " Colorado                 6\n",
            " Utah                     6\n",
            " Idaho                    6\n",
            " Wyoming                  6\n",
            " New Hampshire            3\n",
            " Vermont                  3\n",
            " Maine                    3\n",
            " Nevada                   3\n",
            " Virginia                 3\n",
            " Michigan                 2\n",
            " Oklahoma                 2\n",
            " New Jersey               2\n",
            " Nebraska                 2\n",
            " District of Columbia     1\n",
            " Pennsylvania             1\n",
            " Tennessee                1\n",
            " Louisiana                1\n",
            " Delaware                 1\n",
            " Rhode Island             1\n",
            " South Carolina           1\n",
            " Alaska                   1\n",
            "Name: State, dtype: int64\n"
          ],
          "name": "stdout"
        }
      ]
    },
    {
      "cell_type": "code",
      "metadata": {
        "id": "W8wlaOo84oZ2",
        "colab_type": "code",
        "colab": {}
      },
      "source": [
        "# Identify what values are in tracts2010 and not in tracts2020\n",
        "key_diff1 = pd.merge(\n",
        "    pd.DataFrame(list(set(tracts2010.GEO_ID).difference(tracts2020.GEO_ID))\n",
        "    ).rename(columns={0:'GEO_ID'}), \n",
        "    tracts2010, on='GEO_ID', how='left')\n",
        "\n",
        "# Identify what values are in tracts2020 and not in tracts2010\n",
        "key_diff2 = pd.merge(\n",
        "    pd.DataFrame(list(set(tracts2020.GEO_ID).difference(tracts2010.GEO_ID))\n",
        "    ).rename(columns={0:'GEO_ID'}), \n",
        "    tracts2020, on='GEO_ID', how='left')\n",
        "\n",
        "print(\"merged tracts length:\", len(tracts), \n",
        "      \"\\n tracts10:\", len(tracts2010),\n",
        "      \"\\n tracts20:\", len(tracts2020),\n",
        "      \"\\n number tracts10 missing from tracts20:\", len(key_diff1),\n",
        "      \"\\n number tracts20 missing from tracts10:\", len(key_diff2),\n",
        "      \"\\ntotal missing:\", (len(tracts2010)-len(tracts)) + (len(tracts2020) - len(tracts)),\n",
        "      \"\\n2010 rates do not include the\", len(key_diff2), \"tribal tracts \\nwhich is\",\n",
        "      len(key_diff2)/len(tracts2010)*100, '% of the original', len(tracts2010), \n",
        "      'tracts. \\nThese tracts are dropped in the comparative analyses and are analyzed separately')"
      ],
      "execution_count": null,
      "outputs": []
    },
    {
      "cell_type": "code",
      "metadata": {
        "id": "tXS97Nh90ei-",
        "colab_type": "code",
        "colab": {}
      },
      "source": [
        "# #Obs in each df\n",
        "print(\n",
        "    \"crosswalk records:\",len(crosswalk),\n",
        "    \"\\ndemographic records:\",len(demo),\n",
        "    \"\\ntracts:\", len(tracts),\n",
        "    \"\\nACS:\", len(demo),\n",
        "    \"\\ncrosswalk:\", len(crosswalk),\n",
        "    \"\\nall:\", len(df)\n",
        ")"
      ],
      "execution_count": null,
      "outputs": []
    },
    {
      "cell_type": "code",
      "metadata": {
        "id": "y0moCGWg3-Mz",
        "colab_type": "code",
        "colab": {}
      },
      "source": [
        "## difference in 2020 row numbers\n",
        "# Identify what values are in tracts and not in crosswalk\n",
        "key_diff1 = pd.DataFrame(list(set(tracts.GEO20).difference(crosswalk.GEO20))\n",
        ").rename(columns={0:'GEO_ID'})\n",
        "\n",
        "# Identify what values are in crosswalk and not in tracts\n",
        "key_diff2 = pd.DataFrame(list(set(crosswalk.GEO20).difference(tracts.GEO20))\n",
        ").rename(columns={0:'GEO_ID'})\n",
        "\n",
        "print(\"There are\", len(tracts), \"observations in the tracts df and \\n\",\n",
        "    \"There are\", len(crosswalk), \"observations in the crosswalk df, \\n\",\n",
        "    \"a difference of\", len(crosswalk) - len(tracts), \"\\n\\n\",\n",
        "    \"There are\", len(key_diff1), \n",
        "    \"tracts in the tracts df that are not in the crosswalk df \\n\",\n",
        "    \"And there are\", len(key_diff2), \"tracts in the crosswalk df not in the tracts df\")"
      ],
      "execution_count": null,
      "outputs": []
    },
    {
      "cell_type": "code",
      "metadata": {
        "id": "QapgMX_MmHHn",
        "colab_type": "code",
        "colab": {}
      },
      "source": [
        "## difference in 2010 row numbers\n",
        "# Identify what values are in demo and not in crosswalk\n",
        "key_diff1 = pd.DataFrame(list(set(demo.GEO10).difference(crosswalk.GEO10))\n",
        ").rename(columns={0:'GEO_ID'})\n",
        "\n",
        "# Identify what values are in crosswalk and not in demo\n",
        "key_diff2 = pd.DataFrame(list(set(crosswalk.GEO10).difference(demo.GEO10))\n",
        ").rename(columns={0:'GEO_ID'})\n",
        "\n",
        "print(\"There are\", len(demo), \"observations in the demo df and \\n\",\n",
        "    \"There are\", len(crosswalk), \"observations in the crosswalk df, \\n\",\n",
        "    \"a difference of\", len(crosswalk) - len(demo), \"\\n\\n\",\n",
        "    \"There are\", len(key_diff1), \n",
        "    \"tracts in the demo df that are not in the crosswalk df \\n\",\n",
        "    \"And there are\", len(key_diff2), \"tracts in the crosswalk df not in the demo df\\n\")"
      ],
      "execution_count": null,
      "outputs": []
    },
    {
      "cell_type": "code",
      "metadata": {
        "id": "RT5U56lKX-zi",
        "colab_type": "code",
        "colab": {}
      },
      "source": [
        "#check for duplicate rows\n",
        "df[df.duplicated(keep='first')]\n",
        "print(len(df[df.duplicated(keep='first')]), \"duplicate rows\")\n",
        "\n",
        "#drop duplicate rows\n",
        "df=df.drop_duplicates(keep=\"first\")"
      ],
      "execution_count": null,
      "outputs": []
    },
    {
      "cell_type": "code",
      "metadata": {
        "id": "YwhUhH9X5Qej",
        "colab_type": "code",
        "colab": {}
      },
      "source": [
        "#check if any nas\n",
        "print(pd.isnull(df).sum())"
      ],
      "execution_count": null,
      "outputs": []
    },
    {
      "cell_type": "code",
      "metadata": {
        "id": "sp4VrACeQTt5",
        "colab_type": "code",
        "colab": {}
      },
      "source": [
        "# make a dataframe of all rows with na value\n",
        "temp1 = df[df.isna().any(axis=1)]\n",
        "\n",
        "#see what percent of state values of na\n",
        "temp2 = pd.merge(pd.DataFrame(temp1['State'].value_counts()).reset_index().rename(columns={'index':'state', 'State':'count_na'}),\n",
        "                 pd.DataFrame(df['State'].value_counts()).reset_index().rename(columns={'index':'state', 'State':'count'}),\n",
        "                 on=['state'])\n",
        "\n",
        "temp2['na_percent'] = (temp2['count_na']*100) / temp2['count']\n",
        "\n",
        "print(\n",
        "    \"Total na tracts:\", sum(temp2['count_na']),\n",
        "    '\\nNAs as % of all tracts:', (sum(temp2['count_na'])*100) / sum(temp2['count']),\n",
        "    \"\\n\",temp2)"
      ],
      "execution_count": null,
      "outputs": []
    },
    {
      "cell_type": "code",
      "metadata": {
        "id": "a0Y0LpTiRc0B",
        "colab_type": "code",
        "colab": {}
      },
      "source": [
        "#how many inf tract difference values are there\n",
        "temp = df.loc[(df['10_20_tract_difference'] == np.inf) | (df['10_20_tract_difference'] == -np.inf)].sort_values(by=\"2010_tract_rate\")\n",
        "\n",
        "print(\n",
        "    \"There are\", len(temp), \"inf response rate values out of\", len(df), \n",
        "    \"total  observations, \\n or\", len(temp) * 100 / len(df) , \n",
        "    \"% \\n\\nInf response rate tracts in each state:\\n\",\n",
        "    temp['State'].value_counts())"
      ],
      "execution_count": null,
      "outputs": []
    },
    {
      "cell_type": "markdown",
      "metadata": {
        "id": "xdZ0zN4nA1ek",
        "colab_type": "text"
      },
      "source": [
        "## Analysis without Puerto Rico"
      ]
    },
    {
      "cell_type": "code",
      "metadata": {
        "id": "RAjKrWdeyR9E",
        "colab_type": "code",
        "colab": {}
      },
      "source": [
        "##see all dfs in memory\n",
        "%whos DataFrame\n",
        "\n",
        "#### Existing DFs:\n",
        "\n",
        "# df: dataframe with all years, states, tracts, demographics\n",
        "\n",
        "# states: 2010 and 2020 state rates\n",
        "# states2010: 2010 State rates\n",
        "# states2020: 2020 State rates\n",
        "\n",
        "# tracts: 2010 and 2020 tract and state rates\n",
        "# tracts2010: 2010 tract rates\n",
        "# tracts2020: 2020 tract rates\n",
        "\n",
        "# all20: 2020 tracts paired with states, includes internet data\n",
        "\n",
        "# merged: all 2020 rates by multiple geo types\n",
        "# no_2010: tracts with a null 2010 response rate value\n",
        "# demo: 2014-2018 ACS information for 2010 census tract boundaries\n",
        "\n",
        "# ignore all dfs with \"temp\" in name "
      ],
      "execution_count": null,
      "outputs": []
    },
    {
      "cell_type": "code",
      "metadata": {
        "id": "dL4LdnDQG33h",
        "colab_type": "code",
        "colab": {}
      },
      "source": [
        "### Without Puerto Rico\n",
        "# get rid of inf and nan values to calculate averages\n",
        "\n",
        "#make non-pr df\n",
        "npr = df[df.State != 'Puerto Rico'].replace([np.inf, -np.inf], np.nan).dropna()"
      ],
      "execution_count": null,
      "outputs": []
    },
    {
      "cell_type": "code",
      "metadata": {
        "id": "RZUrmR-IrfcK",
        "colab_type": "code",
        "colab": {}
      },
      "source": [
        "# get average state rate and see how many are above average\n",
        "temp = (states['2020_state_rate'] >= states['2010_state_rate'])\n",
        "\n",
        "print(\n",
        "    \"63.3% is the current nationwide response rate \\n\\n\",\n",
        "    np.sum(temp),\"states have reached or exceeded their 2010 response rate:\\n\\n\",\n",
        "    states[temp].State, \"\\n\\n\",\n",
        "        states[temp].Region.value_counts())"
      ],
      "execution_count": null,
      "outputs": []
    },
    {
      "cell_type": "markdown",
      "metadata": {
        "id": "IIqn3vAaTQY6",
        "colab_type": "text"
      },
      "source": [
        "### 2010-2020 Changes"
      ]
    },
    {
      "cell_type": "code",
      "metadata": {
        "id": "4E0UdTCzBeHL",
        "colab_type": "code",
        "colab": {}
      },
      "source": [
        "#how many tracts have lower response rate than in 2010\n",
        "lower = npr.loc[(npr['2020_tract_rate'] < npr['2010_tract_rate']\n",
        "            )].sort_values(\n",
        "        by='10_20_tract_difference', ascending=True)\n",
        "            \n",
        "#see what percent of state tracts have lower response\n",
        "temp = pd.merge(pd.DataFrame(lower['State'].value_counts()).reset_index().rename(columns={'index':'state', 'State':'count_lower'}),\n",
        "    pd.DataFrame(npr['State'].value_counts()).reset_index().rename(columns={'index':'state', 'State':'count'}),\n",
        "    on=['state'])\n",
        "\n",
        "temp['lower_percent'] = (temp['count_lower']*100) / temp['count']\n",
        "\n",
        "print(\n",
        "    \"Total lower tracts:\", sum(temp['count_lower']),\n",
        "    '\\nLowers as % of all tracts:', \n",
        "    (sum(temp['count_lower'])*100) / sum(temp['count']), \"\\n\",\n",
        "    len(lower), \"of\", len(npr), \"total tracts, or\", len(lower)*100/len(npr), \"% have lower \\nresponse rates in 2020 than 2010\\n\",\n",
        "    \"\\n\",temp.sort_values(by=\"lower_percent\"), \"\\n\\n\")"
      ],
      "execution_count": null,
      "outputs": []
    },
    {
      "cell_type": "code",
      "metadata": {
        "id": "QSy9IkABqH9y",
        "colab_type": "code",
        "colab": {}
      },
      "source": [
        "#lower by region\n",
        "temp = pd.merge(pd.DataFrame(lower['Region'].value_counts()).reset_index().rename(columns={'index':'Region', 'Region':'count_lower'}),\n",
        "    pd.DataFrame(npr['Region'].value_counts()).reset_index().rename(columns={'index':'Region', 'Region':'count'}),\n",
        "    on=['Region'])\n",
        "\n",
        "temp['lower_percent'] = (temp['count_lower']*100) / temp['count']\n",
        "\n",
        "print(\n",
        "    \"Total lower tracts:\", sum(temp['count_lower']),\n",
        "    '\\nLowers as % of all tracts:', \n",
        "    (sum(temp['count_lower'])*100) / sum(temp['count']), \"\\n\",\n",
        "    len(lower), \"of\", len(npr), \"total tracts, or\", len(lower)*100/len(npr), \"% have lower \\nresponse rates in 2020 than 2010\\n\",\n",
        "    \"\\n\",temp.sort_values(by=\"lower_percent\"), \"\\n\\n\",)"
      ],
      "execution_count": null,
      "outputs": []
    },
    {
      "cell_type": "code",
      "metadata": {
        "id": "f6Wp9zn8Qx4n",
        "colab_type": "code",
        "colab": {}
      },
      "source": [
        "#tracts with 2020 response rate > 2010\n",
        "higher = npr.loc[(npr['2020_tract_rate'] > npr['2010_tract_rate']\n",
        "            )].sort_values(\n",
        "        by='10_20_tract_difference', ascending=True)\n",
        "            \n",
        "temp = pd.merge(pd.DataFrame(higher['State'].value_counts()).reset_index().rename(columns={'index':'state', 'State':'count_higher'}),\n",
        "                pd.DataFrame(npr['State'].value_counts()).reset_index().rename(columns={'index':'state', 'State':'count'}),\n",
        "                on=['state'])\n",
        "\n",
        "temp['higher_percent'] = (temp['count_higher']*100) / temp['count']\n",
        "\n",
        "print(\n",
        "    \"Total higher tracts:\", sum(temp['count_higher']),\n",
        "    '\\nHighers as % of all tracts:', \n",
        "    (sum(temp['count_higher'])*100) / sum(temp['count']), \"\\n\",\n",
        "    len(higher), \"of\", len(npr), \"total tracts, or\", len(higher)*100/len(npr), \"% have higher \\nresponse rates in 2020 than 2010\\n\",\n",
        "    \"\\n\",temp.sort_values(by=\"higher_percent\"), \"\\n\\n\")"
      ],
      "execution_count": null,
      "outputs": []
    },
    {
      "cell_type": "code",
      "metadata": {
        "id": "GVpyaBsGVVfu",
        "colab_type": "code",
        "colab": {}
      },
      "source": [
        "# some stats on tracts with lower and higher rates\n",
        "display(\"higher\",higher.describe(),\n",
        "        \"reg\",npr.describe(),\n",
        "        \"Lower\", lower.describe())\n",
        "print('Higher rates vote:\\n', higher.party.value_counts(),\n",
        "      '\\n\\nnpr rates vote:\\n', npr.party.value_counts(),\n",
        "      '\\n\\nLower rates vote:\\n', lower.party.value_counts())"
      ],
      "execution_count": null,
      "outputs": []
    },
    {
      "cell_type": "code",
      "metadata": {
        "id": "dw0UAsUeC_us",
        "colab_type": "code",
        "colab": {}
      },
      "source": [
        "# get info on 1000 tracks with greatest drop in response rate\n",
        "big_drop = npr.loc[(\n",
        "    npr['10_20_tract_difference'] > -100) & (\n",
        "    npr['10_20_tract_difference'] < 0)].sort_values(\n",
        "                  by='10_20_tract_difference', ascending=True).head(1000)\n",
        "  \n",
        "#big_drop by region\n",
        "temp = pd.merge(pd.DataFrame(big_drop['Region'].value_counts()).reset_index().rename(columns={'index':'Region', 'Region':'count_drop'}),\n",
        "    pd.DataFrame(npr['Region'].value_counts()).reset_index().rename(columns={'index':'Region', 'Region':'count'}),\n",
        "    on=['Region'])\n",
        "\n",
        "temp['drop_percent'] = (temp['count_drop']*100) / temp['count']\n",
        "\n",
        "print(\n",
        "    \"Total big drop tracts:\", sum(temp['count_drop']),\n",
        "    '\\nBig drops as % of all tracts:', \n",
        "    (sum(temp['count_drop'])*100) / sum(temp['count']),\n",
        "    \"\\n\\n\", temp)"
      ],
      "execution_count": null,
      "outputs": []
    },
    {
      "cell_type": "code",
      "metadata": {
        "id": "dbIrHu11uYbC",
        "colab_type": "code",
        "colab": {}
      },
      "source": [
        "# temp with tracts less than half 2010 rate\n",
        "\n",
        "temp = npr.loc[(npr['10_20_tract_difference'] > -100) & (npr['10_20_tract_difference'] <= -50)]\n",
        "temp1 = pd.merge(pd.DataFrame(temp['Region'].value_counts()).reset_index().rename(columns={'index':'Region', 'Region':'count_half'}),\n",
        "    pd.DataFrame(npr['Region'].value_counts()).reset_index().rename(columns={'index':'Region', 'Region':'count_all'}),\n",
        "    on=['Region'])\n",
        "\n",
        "temp1['pct_half']= temp1.count_half * 100 / temp1.count_all\n",
        "\n",
        "print(len(temp), \"or\", len(temp) / len(npr) * 100,\n",
        "      \"% of tracts have a 2020 response rate \\n half or less than half their 2010 rate\\n\\n\",\n",
        "      \"By region:\\n\", temp1,\n",
        "      \"\\n\\nBy state:\\n\", temp.State.value_counts())"
      ],
      "execution_count": null,
      "outputs": []
    },
    {
      "cell_type": "code",
      "metadata": {
        "id": "gCZQCOzs3wf7",
        "colab_type": "code",
        "colab": {}
      },
      "source": [
        "# biggest increases in response rates\n",
        "# get info on 1000 tracks with greatest gain in response rate\n",
        "big_gain = npr.loc[(npr['10_20_tract_difference'] > 0) & (\n",
        "    npr['2010_tract_rate'] != 0)].sort_values(\n",
        "                  by='10_20_tract_difference', ascending=False).head(1000)\n",
        "print(\"By region:\\n\", big_gain.Region.value_counts(),\n",
        "      \"\\n\\nBy state:\\n\", big_gain.State.value_counts())"
      ],
      "execution_count": null,
      "outputs": []
    },
    {
      "cell_type": "code",
      "metadata": {
        "id": "BGgEQ2m4laUz",
        "colab_type": "code",
        "colab": {}
      },
      "source": [
        "# some stats on biggest gains and drops\n",
        "display(\"biggest gains:\",big_gain.describe().round(1),\n",
        "\"average:\",npr.describe().round(1),\n",
        "\"biggest drops:\",big_drop.head(1000).describe().round(1))"
      ],
      "execution_count": null,
      "outputs": []
    },
    {
      "cell_type": "code",
      "metadata": {
        "id": "awnXhBbXOjDD",
        "colab_type": "code",
        "colab": {}
      },
      "source": [
        "#info on drops and gains by party\n",
        "print('Gains vote:\\n', big_gain.party.value_counts(),\n",
        "      '\\n\\nnpr vote:\\n', npr.party.value_counts(),\n",
        "      '\\n\\nDrops vote:\\n', big_drop.party.value_counts(), \"\\n\\n\")\n",
        "display(big_gain.groupby('party').describe())\n",
        "display(npr.groupby('party').describe())\n",
        "display(big_drop.groupby('party').describe())"
      ],
      "execution_count": null,
      "outputs": []
    },
    {
      "cell_type": "code",
      "metadata": {
        "id": "WgEtW3MmUBR6",
        "colab_type": "code",
        "colab": {}
      },
      "source": [
        "# how many tracts have 2020 rate double their 2010 rate\n",
        "print(len(big_gain[big_gain['10_20_tract_difference'] >= 1]) * 100 / len(npr),\n",
        "      \"% of tracts have a 2020 response rate at least double their 2010 rate\")"
      ],
      "execution_count": null,
      "outputs": []
    },
    {
      "cell_type": "markdown",
      "metadata": {
        "id": "SFGvS_ydskWI",
        "colab_type": "text"
      },
      "source": [
        "### Race / Ethnicity"
      ]
    },
    {
      "cell_type": "code",
      "metadata": {
        "id": "_sggM9MsWbfy",
        "colab_type": "code",
        "colab": {}
      },
      "source": [
        "npr['latinoBins'] = pd.cut(npr['latino_pct'], bins=[0, 10, 25, 33, 50, 75, 90, 100],\n",
        "                           labels=['0_10', '10_25', '25_33', '33_50', '50_75', '75_90', '90_100'],\n",
        "                           precision=0)\n",
        "npr.groupby('latinoBins').describe()"
      ],
      "execution_count": null,
      "outputs": []
    },
    {
      "cell_type": "code",
      "metadata": {
        "id": "vyURshO5S75O",
        "colab_type": "code",
        "colab": {}
      },
      "source": [
        "# compare Texas high percentage Latino tracts to total # tracts in county\n",
        "\n",
        "temp = pd.merge(pd.DataFrame(npr.loc[(npr.State == 'Texas') & (npr.latinoBins == '90_100')].county.value_counts()).reset_index().rename(columns={'index':'county', 'county':'maj_Latino'}),\n",
        "                 pd.DataFrame(npr.loc[(npr.State == 'Texas')].county.value_counts()).reset_index().rename(columns={'index':'county', 'county':'total'}),\n",
        "                 how='left')\n",
        "\n",
        "#calculate what % all tracts is 95% or more Latino in Texas\n",
        "temp['maj_Latino_pct'] = (temp['maj_Latino']*100) / temp['total']\n",
        "\n",
        "print(\n",
        "    \"Total majority (90%) latino tracts in Texas:\", sum(temp['maj_Latino']),\n",
        "    '\\nMajority Latino as % of all Texas tracts:', (sum(temp['maj_Latino'])*100) / sum(temp['total']),\n",
        "    \"\\n\\n\",temp)"
      ],
      "execution_count": null,
      "outputs": []
    },
    {
      "cell_type": "code",
      "metadata": {
        "id": "lIeJxHYjih5N",
        "colab_type": "code",
        "colab": {}
      },
      "source": [
        "display(\n",
        "    \"maj Latino\",\n",
        "    npr.loc[(npr.State == 'Texas') & (npr.latinoBins == '90_100')].groupby('county').describe(),\n",
        "    'all Texas',\n",
        "    pd.DataFrame(npr.loc[(npr.State == 'Texas')]).groupby(by='county').describe())"
      ],
      "execution_count": null,
      "outputs": []
    },
    {
      "cell_type": "code",
      "metadata": {
        "id": "O7P9W87w_YCQ",
        "colab_type": "code",
        "colab": {}
      },
      "source": [
        "npr['asianBins'] = pd.cut(npr['asian_pct'], bins=[0, 10, 25, 33, 50, 75, 90, 100],\n",
        "                               labels=['0_10', '10_25', '25_33', '33_50', '50_75', '75_90', '90_100'],\n",
        "                            precision=0)\n",
        "npr.groupby('asianBins').describe()"
      ],
      "execution_count": null,
      "outputs": []
    },
    {
      "cell_type": "code",
      "metadata": {
        "id": "cjvI2xogCPOd",
        "colab_type": "code",
        "colab": {}
      },
      "source": [
        "npr['blackBins'] = pd.cut(npr['black_pct'], bins=[0, 10, 25, 33, 50, 75, 90, 100],\n",
        "                               labels=['0_10', '10_25', '25_33', '33_50', '50_75', '75_90', '90_100'],\n",
        "                            precision=0)\n",
        "npr.groupby('blackBins').describe()"
      ],
      "execution_count": null,
      "outputs": []
    },
    {
      "cell_type": "code",
      "metadata": {
        "id": "sxRje9lECP7L",
        "colab_type": "code",
        "colab": {}
      },
      "source": [
        "npr['whiteBins'] = pd.cut(npr['white_pct'], bins=[0, 10, 25, 33, 50, 75, 90, 100],\n",
        "                               labels=['0_10', '10_25', '25_33', '33_50', '50_75', '75_90', '90_100'],\n",
        "                            precision=0)\n",
        "npr.groupby('whiteBins').describe()"
      ],
      "execution_count": null,
      "outputs": []
    },
    {
      "cell_type": "code",
      "metadata": {
        "id": "ddlG4FxuCQt9",
        "colab_type": "code",
        "colab": {}
      },
      "source": [
        "npr['nativeBins'] = pd.cut(npr['native_pct'], bins=[0, 10, 25, 33, 50, 75, 90, 100],\n",
        "                               labels=['0_10', '10_25', '25_33', '33_50', '50_75', '75_90', '90_100'],\n",
        "                            precision=0)\n",
        "npr.groupby('nativeBins').describe()"
      ],
      "execution_count": null,
      "outputs": []
    },
    {
      "cell_type": "markdown",
      "metadata": {
        "id": "2tN9xyjpHg9t",
        "colab_type": "text"
      },
      "source": [
        "### Region Analysis"
      ]
    },
    {
      "cell_type": "code",
      "metadata": {
        "id": "lw5MX70aPJI5",
        "colab_type": "code",
        "colab": {}
      },
      "source": [
        "# Regional descriptions\n",
        "display(npr.groupby('Region').describe().round(2))"
      ],
      "execution_count": null,
      "outputs": []
    },
    {
      "cell_type": "markdown",
      "metadata": {
        "id": "20EAdPcYkW1T",
        "colab_type": "text"
      },
      "source": [
        "### Politics"
      ]
    },
    {
      "cell_type": "code",
      "metadata": {
        "id": "rfki9lUhkVy_",
        "colab_type": "code",
        "colab": {}
      },
      "source": [
        "pd.set_option('display.max_columns', None)\n",
        "npr.groupby('party').describe()"
      ],
      "execution_count": null,
      "outputs": []
    },
    {
      "cell_type": "code",
      "metadata": {
        "id": "_EclrDyZwCkm",
        "colab_type": "code",
        "colab": {}
      },
      "source": [
        "print(\"drop:\\n\", big_drop.head(1000).party.value_counts(),\n",
        "        \"\\n\\ngain:\\n\", big_gain.party.value_counts())"
      ],
      "execution_count": null,
      "outputs": []
    },
    {
      "cell_type": "markdown",
      "metadata": {
        "id": "kmLScMTr4oZQ",
        "colab_type": "text"
      },
      "source": [
        "### Tribal tracts"
      ]
    },
    {
      "cell_type": "code",
      "metadata": {
        "id": "kSdZysHS4oZR",
        "colab_type": "code",
        "colab": {}
      },
      "source": [
        "# create df with response rates in tribal tracts\n",
        "tribal = tracts2020[tracts2020['Geo_Type'].str.contains(\"Tribal\")]\n",
        "tribal.describe()"
      ],
      "execution_count": null,
      "outputs": []
    },
    {
      "cell_type": "code",
      "metadata": {
        "id": "7oVcFRIn4oZT",
        "colab_type": "code",
        "colab": {}
      },
      "source": [
        "### tribal areas and tracts stats\n",
        "\n",
        "#mean non internet response\n",
        "print(\"Average % non-int response tribal:\", \n",
        "      tribal.mean(axis=0)['tract_not_int_pct'], \"%\")"
      ],
      "execution_count": null,
      "outputs": []
    },
    {
      "cell_type": "code",
      "metadata": {
        "id": "Euvyx-gL4oZY",
        "colab_type": "code",
        "colab": {}
      },
      "source": [
        "# mean overall response rate\n",
        "print(\"Tribal average response rate:\",\n",
        "      tribal.mean(axis=0)['2020_tract_rate'], \"%\")"
      ],
      "execution_count": null,
      "outputs": []
    },
    {
      "cell_type": "markdown",
      "metadata": {
        "id": "WAjhY7qa-UCO",
        "colab_type": "text"
      },
      "source": [
        "### Internet Usage"
      ]
    },
    {
      "cell_type": "markdown",
      "metadata": {
        "id": "nbOu9mByHce0",
        "colab_type": "text"
      },
      "source": [
        "Internet usage is only available for 2020 rates"
      ]
    },
    {
      "cell_type": "code",
      "metadata": {
        "id": "m7DBXHjYM-Ch",
        "colab_type": "code",
        "colab": {}
      },
      "source": [
        "### Percent of response rate not from internet\n",
        "\n",
        "print(\n",
        "    \"The average state response rate to the census NOT conducted online:\",\n",
        "    states2020[states2020.State != 'Puerto Rico'].mean(axis=0)['state_not_int_pct'])\n",
        "\n",
        "# average non internet response rate\n",
        "#states2020[states2020.State != 'Puerto Rico'].groupby(by='State').mean().sort_values(\n",
        "#    by='state_not_int_pct', ascending=False).merge(state_ranks, on='State')"
      ],
      "execution_count": null,
      "outputs": []
    },
    {
      "cell_type": "markdown",
      "metadata": {
        "id": "S5b3R3834oZb",
        "colab_type": "text"
      },
      "source": [
        "### Tracts with 0 overall response rate"
      ]
    },
    {
      "cell_type": "code",
      "metadata": {
        "id": "eukXYcJx4oZb",
        "colab_type": "code",
        "colab": {}
      },
      "source": [
        "## Tracts with 0 cumulative response rate\n",
        "zeros = npr[npr['2020_tract_rate'] == 0]\n",
        "\n",
        "\n",
        "\n",
        "print(\"Number of tracts with 0 cumulative response rate:\", len(zeros), \n",
        "      \"\\nNumber tracts with 0 change:\", len(npr[npr['10_20_tract_difference'] == 0]))\n",
        "\n",
        "#return data frame with each tract with 0 2020 response rate\n",
        "zeros.sort_values(by='State')"
      ],
      "execution_count": null,
      "outputs": []
    },
    {
      "cell_type": "markdown",
      "metadata": {
        "id": "CPam9g6s9bn1",
        "colab_type": "text"
      },
      "source": [
        "### Graphs"
      ]
    },
    {
      "cell_type": "code",
      "metadata": {
        "id": "8aKCZVNxTmVe",
        "colab_type": "code",
        "colab": {}
      },
      "source": [
        "#make graphs\n",
        "import matplotlib.pyplot as plt \n",
        "import matplotlib.cbook as cbook"
      ],
      "execution_count": null,
      "outputs": []
    },
    {
      "cell_type": "code",
      "metadata": {
        "id": "31a5STYXSGN-",
        "colab_type": "code",
        "colab": {}
      },
      "source": [
        "# bin response rates\n",
        "npr['rateBins'] = pd.cut(npr['10_20_tract_difference'],\n",
        "                         bins=[-100, -50, 0, 50, 100],\n",
        "                         labels=['-100_50', '-50_0', '0_50', '50_100'],\n",
        "                            precision=0)\n",
        "npr.groupby('rateBins').describe()"
      ],
      "execution_count": null,
      "outputs": []
    },
    {
      "cell_type": "code",
      "metadata": {
        "id": "sq5u6kCpVJam",
        "colab_type": "code",
        "colab": {}
      },
      "source": [
        "# native % vs rate bins\n",
        "\n",
        "temp = npr[['State','10_20_tract_difference', 'nativeBins']]\n",
        "temp['10_20_tract_difference'] = temp['10_20_tract_difference']\n",
        "\n",
        "temp = temp.groupby('nativeBins').mean()\n",
        "x = temp.index\n",
        "y = temp['10_20_tract_difference']\n",
        "\n",
        "#create mean line\n",
        "#y_mean = [np.mean(y)]*len(x)\n",
        "#fig,ax = plt.subplots()\n",
        "\n",
        "# plotting the points  \n",
        "plt.plot(x, y)\n",
        "\n",
        "# Plot the average line\n",
        "#mean_line = ax.plot(x,y_mean, label='Mean', linewidth=1, linestyle='--')\n",
        "\n",
        "#change y axis limits\n",
        "plt.ylim([-50,1])\n",
        "\n",
        "# naming the x axis \n",
        "plt.xlabel('% Native') \n",
        "# naming the y axis \n",
        "plt.ylabel('%Response Change') \n",
        "# giving a title to my graph \n",
        "plt.title('% Native Compared to % Tract Response Rate Change')\n",
        "# Make a legend\n",
        "legend = ax.legend(loc='upper right')\n",
        "\n",
        "#plt.savefig('/content/drive/Shared drives/Shared Items/census-responses/data/no_comp_change_npr.png',\n",
        "#            bbox_inches='tight')\n",
        "\n",
        "# function to show the plot \n",
        "plt.show()\n"
      ],
      "execution_count": null,
      "outputs": []
    },
    {
      "cell_type": "code",
      "metadata": {
        "id": "QbyJ9BBQYOpQ",
        "colab_type": "code",
        "colab": {}
      },
      "source": [
        "# latino % vs rate bins\n",
        "\n",
        "temp = npr[['State','10_20_tract_difference', 'rateBins', 'latino_pct']]\n",
        "temp['10_20_tract_difference'] = temp['10_20_tract_difference']\n",
        "\n",
        "temp = temp.groupby('rateBins').mean()\n",
        "x = temp.index\n",
        "y = temp['latino_pct']\n",
        "\n",
        "# plotting the points  \n",
        "plt.plot(x, y)\n",
        "\n",
        "#change y axis limits\n",
        "plt.ylim([10,30])\n",
        "\n",
        "# naming the x axis \n",
        "plt.xlabel('%Response Change') \n",
        "# naming the y axis \n",
        "plt.ylabel('Avg % Latino') \n",
        "# giving a title to my graph \n",
        "plt.title('% Tract Response Rate Change vs % Latino')\n",
        "# Make a legend\n",
        "legend = ax.legend(loc='upper right')\n",
        "\n",
        "#plt.savefig('/content/drive/Shared drives/Shared Items/census-responses/data/no_comp_change_npr.png',\n",
        "#            bbox_inches='tight')\n",
        "\n",
        "# function to show the plot \n",
        "plt.gca().coord_flip()\n",
        "plt.show()\n"
      ],
      "execution_count": null,
      "outputs": []
    },
    {
      "cell_type": "code",
      "metadata": {
        "id": "YT_tyxhyNbqP",
        "colab_type": "code",
        "colab": {}
      },
      "source": [
        "## comp vs tract change\n",
        "\n",
        "x = npr.no_int_pct\n",
        "y = npr['10_20_tract_difference'] / 100\n",
        "\n",
        "#create mean line\n",
        "y_mean = [np.mean(y)]*len(x)\n",
        "fig,ax = plt.subplots()\n",
        "\n",
        "# plotting the points  \n",
        "plt.plot(x, y, marker='o', linewidth=0, markersize=0.7, alpha=0.05) \n",
        "\n",
        "# Plot the average line\n",
        "mean_line = ax.plot(x,y_mean, label='Mean', linewidth=1, linestyle='--')\n",
        "\n",
        "#change y axis limits\n",
        "plt.ylim([-1,1])\n",
        "\n",
        "# naming the x axis \n",
        "plt.xlabel('% No Computers') \n",
        "# naming the y axis \n",
        "plt.ylabel('Response Change') \n",
        "# giving a title to my graph \n",
        "plt.title('% No Computers Compared to Tract Response Rate Change')\n",
        "# Make a legend\n",
        "legend = ax.legend(loc='upper right')\n",
        "\n",
        "plt.savefig('/content/drive/Shared drives/Shared Items/census-responses/data/no_comp_change_npr.png',\n",
        "            bbox_inches='tight')\n",
        "\n",
        "# function to show the plot \n",
        "plt.show() \n"
      ],
      "execution_count": null,
      "outputs": []
    },
    {
      "cell_type": "code",
      "metadata": {
        "id": "sNmGqplLxa3d",
        "colab_type": "code",
        "colab": {}
      },
      "source": [
        "## latino vs tract change\n",
        "\n",
        "x = npr.latino_pct\n",
        "y = npr['10_20_tract_difference'] / 100\n",
        "\n",
        "#create mean line\n",
        "y_mean = [np.mean(y)]*len(x)\n",
        "fig,ax = plt.subplots()\n",
        "\n",
        "# plotting the points  \n",
        "plt.plot(x, y, marker='o', linewidth=0, markersize=0.7, alpha=0.05) \n",
        "\n",
        "# Plot the average line\n",
        "mean_line = ax.plot(x,y_mean, label='Mean', linewidth=1, linestyle='--')\n",
        "\n",
        "#change y axis limits\n",
        "plt.ylim([-1,1])\n",
        "\n",
        "# Make a legend\n",
        "legend = ax.legend(loc='upper right')\n",
        "\n",
        "# naming the x axis \n",
        "plt.xlabel('% Latino') \n",
        "# naming the y axis \n",
        "plt.ylabel('Response Change') \n",
        "# giving a title to my graph \n",
        "plt.title('% Latino Compared to Tract Response Rate Change') \n",
        "\n",
        "#plt.savefig('/content/drive/Shared drives/Shared Items/census-responses/data/latino_change_npr.png',\n",
        "#            bbox_inches='tight')\n",
        "\n",
        "# function to show the plot \n",
        "plt.show() \n"
      ],
      "execution_count": null,
      "outputs": []
    },
    {
      "cell_type": "code",
      "metadata": {
        "id": "g9r-x72H9h8E",
        "colab_type": "code",
        "colab": {}
      },
      "source": [
        "#% black compared to reponse rate change\n",
        "x = npr.black_pct\n",
        "y = npr['10_20_tract_difference'] /100\n",
        "\n",
        "#create mean line\n",
        "y_mean = [np.mean(y)]*len(x)\n",
        "fig,ax = plt.subplots()\n",
        "\n",
        "# plotting the points  \n",
        "plt.plot(x, y, marker='o', linewidth=0, markersize=1, alpha=0.2) \n",
        "\n",
        "# Plot the average line\n",
        "mean_line = ax.plot(x,y_mean, label='Mean', linewidth=1, linestyle='--')\n",
        "\n",
        "#change y axis limits\n",
        "plt.ylim([-1,1])\n",
        "\n",
        "# naming the x axis \n",
        "plt.xlabel('% Black') \n",
        "# naming the y axis \n",
        "plt.ylabel('Response Change') \n",
        "# Make a legend\n",
        "legend = ax.legend(loc='upper right')\n",
        "# giving a title to my graph \n",
        "plt.title('% Black Compared to Tract Response Rate Change') \n",
        "\n",
        "plt.savefig('/content/drive/Shared drives/Shared Items/census-responses/data/black_change_nopr.png',\n",
        "            bbox_inches='tight')\n",
        "\n",
        "# function to show the plot \n",
        "plt.show() \n"
      ],
      "execution_count": null,
      "outputs": []
    },
    {
      "cell_type": "code",
      "metadata": {
        "id": "2R_sfSI10W1p",
        "colab_type": "code",
        "colab": {}
      },
      "source": [
        "#average response change per share latino pop\n",
        "\n",
        "temp = npr[['State','10_20_tract_difference', 'latinoBins']]\n",
        "temp['10_20_tract_difference'] = temp['10_20_tract_difference']\n",
        "\n",
        "temp = temp.groupby('latinoBins').mean()\n",
        "x = temp.index\n",
        "y = temp['10_20_tract_difference'] \n",
        "\n",
        "# plotting the points  \n",
        "plt.plot(x, y) \n",
        "\n",
        "#change y axis limits\n",
        "plt.ylim([-30,1])\n",
        "\n",
        "# naming the x axis \n",
        "plt.xlabel('% Latino') \n",
        "# naming the y axis \n",
        "plt.ylabel('Response % Change') \n",
        "#add legend\n",
        "#plt.legend(loc=2)\n",
        "# giving a title to my graph \n",
        "plt.title('% Population Latino v Tract % Change Response Rate') \n",
        "\n",
        "plt.savefig('/content/drive/Shared drives/Shared Items/census-responses/data/latinotemp_change_nopr.png',\n",
        "            bbox_inches='tight')\n",
        "\n",
        "# function to show the plot \n",
        "plt.show() \n"
      ],
      "execution_count": null,
      "outputs": []
    },
    {
      "cell_type": "code",
      "metadata": {
        "id": "MiPG9PWeF9Sr",
        "colab_type": "code",
        "colab": {}
      },
      "source": [
        "npr.columns"
      ],
      "execution_count": null,
      "outputs": []
    },
    {
      "cell_type": "code",
      "metadata": {
        "id": "299pNn8rFyJZ",
        "colab_type": "code",
        "colab": {}
      },
      "source": [
        "income and age\n",
        "\n",
        "#average response change per share latino pop\n",
        "\n",
        "temp = npr[['State','10_20_tract_difference', 'agenp']]\n",
        "temp['10_20_tract_difference'] = temp['10_20_tract_difference']\n",
        "\n",
        "temp = temp.groupby('latinoBins').mean()\n",
        "x = temp.index\n",
        "y = temp['10_20_tract_difference'] \n",
        "\n",
        "# plotting the points  \n",
        "plt.plot(x, y) \n",
        "\n",
        "#change y axis limits\n",
        "plt.ylim([-30,1])\n",
        "\n",
        "# naming the x axis \n",
        "plt.xlabel('% Latino') \n",
        "# naming the y axis \n",
        "plt.ylabel('Response % Change') \n",
        "#add legend\n",
        "#plt.legend(loc=2)\n",
        "# giving a title to my graph \n",
        "plt.title('% Population Latino v Tract % Change Response Rate') \n",
        "\n",
        "plt.savefig('/content/drive/Shared drives/Shared Items/census-responses/data/latinotemp_change_nopr.png',\n",
        "            bbox_inches='tight')\n",
        "\n",
        "# function to show the plot \n",
        "plt.show() \n"
      ],
      "execution_count": null,
      "outputs": []
    },
    {
      "cell_type": "code",
      "metadata": {
        "id": "RFNA1Ix-FzkK",
        "colab_type": "code",
        "colab": {}
      },
      "source": [
        ""
      ],
      "execution_count": null,
      "outputs": []
    },
    {
      "cell_type": "markdown",
      "metadata": {
        "id": "yuG9IMvlwcHv",
        "colab_type": "text"
      },
      "source": [
        "### National Comparative Rankings 2010 vs 2020"
      ]
    },
    {
      "cell_type": "code",
      "metadata": {
        "id": "LBtQ-tkD4oaJ",
        "colab_type": "code",
        "colab": {}
      },
      "source": [
        "# average difference by region\n",
        "states.groupby('Region').mean().sort_values(by='10_20_state_difference', ascending=False)"
      ],
      "execution_count": null,
      "outputs": []
    },
    {
      "cell_type": "code",
      "metadata": {
        "id": "db386fTQ4iiP",
        "colab_type": "code",
        "colab": {}
      },
      "source": [
        "#assign ranks to states based on comparative response rate\n",
        "states['2020_rank'] = states['2020_state_rate'].rank(method='max', ascending=False)\n",
        "states['2010_rank'] = states['2010_state_rate'].rank(method='max', ascending=False)\n",
        "\n",
        "#pull ranks into separate dataframe\n",
        "state_ranks = states[['State', '2020_rank', '2010_rank']].sort_values(by='2020_rank')\n",
        "\n",
        "#show change in rank from 2010 to 2020\n",
        "#negative number means a state has a lower 2020 response rate and has gone down in rankings\n",
        "state_ranks['rank_change'] = state_ranks['2010_rank'] - state_ranks['2020_rank']\n",
        "#state_ranks.sort_values(by='rank_change', ascending=True)\n",
        "\n",
        "#see how many states only changed 2 or fewer positions\n",
        "#small_change = state_ranks[state_ranks.rank_change.between(-2, 2, inclusive=True)].sort_values(by='rank_change')\n",
        "#small_change\n",
        "#16 states have stayed ~similar in the rankings, and this seems to impact\n",
        "#states with both high and low response rates\n",
        "#small_change.mean(axis=0)['2020_rank']"
      ],
      "execution_count": null,
      "outputs": []
    },
    {
      "cell_type": "markdown",
      "metadata": {
        "id": "TPFHo4nO4oaU",
        "colab_type": "text"
      },
      "source": [
        "## Regressions"
      ]
    },
    {
      "cell_type": "code",
      "metadata": {
        "id": "QFIjVbe4FKWn",
        "colab_type": "code",
        "colab": {}
      },
      "source": [
        "#drop all na,inf, str values for regression\n",
        "temp = df.replace([np.inf, -np.inf], np.nan).dropna().drop(\n",
        "    columns=['Geo_Name','county','State', 'Region', 'party', 'FIPS'])\n",
        "\n",
        "#normalize data\n",
        "def normalize(dataset):\n",
        "    dataNorm=((dataset-dataset.min())/(dataset.max()-dataset.min()))\n",
        "    dataNorm[\"10_20_tract_difference\"]=dataset[\"10_20_tract_difference\"]\n",
        "    return dataNorm\n",
        "  \n",
        "dfNorm=normalize(temp)\n",
        "\n",
        "#reattach state to filter out pr\n",
        "dfNorm['State'] = pd.Series(df.State)"
      ],
      "execution_count": 137,
      "outputs": []
    },
    {
      "cell_type": "markdown",
      "metadata": {
        "colab_type": "text",
        "id": "KzNrLEp-Tb0c"
      },
      "source": [
        "### % Change Without Puerto Rico"
      ]
    },
    {
      "cell_type": "code",
      "metadata": {
        "id": "lzi3Aktx1DK3",
        "colab_type": "code",
        "colab": {
          "base_uri": "https://localhost:8080/",
          "height": 1000
        },
        "outputId": "ff7539aa-13cf-426a-bbfd-37956fafba43"
      },
      "source": [
        "nprNorm = dfNorm[dfNorm.State != 'Puerto Rico']\n",
        "\n",
        "for i in nprNorm.columns:\n",
        "  display(nprNorm[[i]].hist())"
      ],
      "execution_count": 138,
      "outputs": [
        {
          "output_type": "display_data",
          "data": {
            "text/plain": [
              "array([[<matplotlib.axes._subplots.AxesSubplot object at 0x7fa666fb0da0>]],\n",
              "      dtype=object)"
            ]
          },
          "metadata": {
            "tags": []
          }
        },
        {
          "output_type": "display_data",
          "data": {
            "text/plain": [
              "array([[<matplotlib.axes._subplots.AxesSubplot object at 0x7fa6670a5cf8>]],\n",
              "      dtype=object)"
            ]
          },
          "metadata": {
            "tags": []
          }
        },
        {
          "output_type": "display_data",
          "data": {
            "text/plain": [
              "array([[<matplotlib.axes._subplots.AxesSubplot object at 0x7fa6670980f0>]],\n",
              "      dtype=object)"
            ]
          },
          "metadata": {
            "tags": []
          }
        },
        {
          "output_type": "display_data",
          "data": {
            "text/plain": [
              "array([[<matplotlib.axes._subplots.AxesSubplot object at 0x7fa66708e4a8>]],\n",
              "      dtype=object)"
            ]
          },
          "metadata": {
            "tags": []
          }
        },
        {
          "output_type": "display_data",
          "data": {
            "text/plain": [
              "array([[<matplotlib.axes._subplots.AxesSubplot object at 0x7fa643e094a8>]],\n",
              "      dtype=object)"
            ]
          },
          "metadata": {
            "tags": []
          }
        },
        {
          "output_type": "display_data",
          "data": {
            "text/plain": [
              "array([[<matplotlib.axes._subplots.AxesSubplot object at 0x7fa667123cc0>]],\n",
              "      dtype=object)"
            ]
          },
          "metadata": {
            "tags": []
          }
        },
        {
          "output_type": "display_data",
          "data": {
            "text/plain": [
              "array([[<matplotlib.axes._subplots.AxesSubplot object at 0x7fa66710bd68>]],\n",
              "      dtype=object)"
            ]
          },
          "metadata": {
            "tags": []
          }
        },
        {
          "output_type": "display_data",
          "data": {
            "text/plain": [
              "array([[<matplotlib.axes._subplots.AxesSubplot object at 0x7fa6670f7eb8>]],\n",
              "      dtype=object)"
            ]
          },
          "metadata": {
            "tags": []
          }
        },
        {
          "output_type": "display_data",
          "data": {
            "text/plain": [
              "array([[<matplotlib.axes._subplots.AxesSubplot object at 0x7fa667207f98>]],\n",
              "      dtype=object)"
            ]
          },
          "metadata": {
            "tags": []
          }
        },
        {
          "output_type": "display_data",
          "data": {
            "text/plain": [
              "array([[<matplotlib.axes._subplots.AxesSubplot object at 0x7fa6671ee3c8>]],\n",
              "      dtype=object)"
            ]
          },
          "metadata": {
            "tags": []
          }
        },
        {
          "output_type": "display_data",
          "data": {
            "text/plain": [
              "array([[<matplotlib.axes._subplots.AxesSubplot object at 0x7fa667261748>]],\n",
              "      dtype=object)"
            ]
          },
          "metadata": {
            "tags": []
          }
        },
        {
          "output_type": "display_data",
          "data": {
            "text/plain": [
              "array([[<matplotlib.axes._subplots.AxesSubplot object at 0x7fa6672fcc18>]],\n",
              "      dtype=object)"
            ]
          },
          "metadata": {
            "tags": []
          }
        },
        {
          "output_type": "display_data",
          "data": {
            "text/plain": [
              "array([[<matplotlib.axes._subplots.AxesSubplot object at 0x7fa667469cc0>]],\n",
              "      dtype=object)"
            ]
          },
          "metadata": {
            "tags": []
          }
        },
        {
          "output_type": "display_data",
          "data": {
            "text/plain": [
              "array([[<matplotlib.axes._subplots.AxesSubplot object at 0x7fa666fafac8>]],\n",
              "      dtype=object)"
            ]
          },
          "metadata": {
            "tags": []
          }
        },
        {
          "output_type": "display_data",
          "data": {
            "text/plain": [
              "array([[<matplotlib.axes._subplots.AxesSubplot object at 0x7fa6671ff518>]],\n",
              "      dtype=object)"
            ]
          },
          "metadata": {
            "tags": []
          }
        },
        {
          "output_type": "display_data",
          "data": {
            "text/plain": [
              "array([[<matplotlib.axes._subplots.AxesSubplot object at 0x7fa65a9e37b8>]],\n",
              "      dtype=object)"
            ]
          },
          "metadata": {
            "tags": []
          }
        },
        {
          "output_type": "display_data",
          "data": {
            "text/plain": [
              "array([[<matplotlib.axes._subplots.AxesSubplot object at 0x7fa6674dccc0>]],\n",
              "      dtype=object)"
            ]
          },
          "metadata": {
            "tags": []
          }
        },
        {
          "output_type": "display_data",
          "data": {
            "text/plain": [
              "array([[<matplotlib.axes._subplots.AxesSubplot object at 0x7fa6674c7eb8>]],\n",
              "      dtype=object)"
            ]
          },
          "metadata": {
            "tags": []
          }
        },
        {
          "output_type": "display_data",
          "data": {
            "text/plain": [
              "array([[<matplotlib.axes._subplots.AxesSubplot object at 0x7fa6674b4198>]],\n",
              "      dtype=object)"
            ]
          },
          "metadata": {
            "tags": []
          }
        },
        {
          "output_type": "display_data",
          "data": {
            "text/plain": [
              "array([[<matplotlib.axes._subplots.AxesSubplot object at 0x7fa667529278>]],\n",
              "      dtype=object)"
            ]
          },
          "metadata": {
            "tags": []
          }
        },
        {
          "output_type": "stream",
          "text": [
            "/usr/local/lib/python3.6/dist-packages/pandas/plotting/_matplotlib/tools.py:184: RuntimeWarning: More than 20 figures have been opened. Figures created through the pyplot interface (`matplotlib.pyplot.figure`) are retained until explicitly closed and may consume too much memory. (To control this warning, see the rcParam `figure.max_open_warning`).\n",
            "  fig = plt.figure(**fig_kw)\n"
          ],
          "name": "stderr"
        },
        {
          "output_type": "display_data",
          "data": {
            "text/plain": [
              "array([[<matplotlib.axes._subplots.AxesSubplot object at 0x7fa667512630>]],\n",
              "      dtype=object)"
            ]
          },
          "metadata": {
            "tags": []
          }
        },
        {
          "output_type": "display_data",
          "data": {
            "text/plain": [
              "array([[<matplotlib.axes._subplots.AxesSubplot object at 0x7fa667505278>]],\n",
              "      dtype=object)"
            ]
          },
          "metadata": {
            "tags": []
          }
        },
        {
          "output_type": "display_data",
          "data": {
            "text/plain": [
              "array([[<matplotlib.axes._subplots.AxesSubplot object at 0x7fa6674f4438>]],\n",
              "      dtype=object)"
            ]
          },
          "metadata": {
            "tags": []
          }
        },
        {
          "output_type": "display_data",
          "data": {
            "text/plain": [
              "array([[<matplotlib.axes._subplots.AxesSubplot object at 0x7fa667561588>]],\n",
              "      dtype=object)"
            ]
          },
          "metadata": {
            "tags": []
          }
        },
        {
          "output_type": "display_data",
          "data": {
            "text/plain": [
              "array([[<matplotlib.axes._subplots.AxesSubplot object at 0x7fa6676553c8>]],\n",
              "      dtype=object)"
            ]
          },
          "metadata": {
            "tags": []
          }
        },
        {
          "output_type": "display_data",
          "data": {
            "text/plain": [
              "array([[<matplotlib.axes._subplots.AxesSubplot object at 0x7fa66764b240>]],\n",
              "      dtype=object)"
            ]
          },
          "metadata": {
            "tags": []
          }
        },
        {
          "output_type": "display_data",
          "data": {
            "text/plain": [
              "array([[<matplotlib.axes._subplots.AxesSubplot object at 0x7fa66763fe48>]],\n",
              "      dtype=object)"
            ]
          },
          "metadata": {
            "tags": []
          }
        },
        {
          "output_type": "display_data",
          "data": {
            "text/plain": [
              "array([[<matplotlib.axes._subplots.AxesSubplot object at 0x7fa65aabe908>]],\n",
              "      dtype=object)"
            ]
          },
          "metadata": {
            "tags": []
          }
        },
        {
          "output_type": "display_data",
          "data": {
            "text/plain": [
              "array([[<matplotlib.axes._subplots.AxesSubplot object at 0x7fa66a812c50>]],\n",
              "      dtype=object)"
            ]
          },
          "metadata": {
            "tags": []
          }
        },
        {
          "output_type": "display_data",
          "data": {
            "text/plain": [
              "array([[<matplotlib.axes._subplots.AxesSubplot object at 0x7fa658f835f8>]],\n",
              "      dtype=object)"
            ]
          },
          "metadata": {
            "tags": []
          }
        },
        {
          "output_type": "error",
          "ename": "ValueError",
          "evalue": "ignored",
          "traceback": [
            "\u001b[0;31m---------------------------------------------------------------------------\u001b[0m",
            "\u001b[0;31mValueError\u001b[0m                                Traceback (most recent call last)",
            "\u001b[0;32m<ipython-input-138-389309b8d4bb>\u001b[0m in \u001b[0;36m<module>\u001b[0;34m()\u001b[0m\n\u001b[1;32m      2\u001b[0m \u001b[0;34m\u001b[0m\u001b[0m\n\u001b[1;32m      3\u001b[0m \u001b[0;32mfor\u001b[0m \u001b[0mi\u001b[0m \u001b[0;32min\u001b[0m \u001b[0mnprNorm\u001b[0m\u001b[0;34m.\u001b[0m\u001b[0mcolumns\u001b[0m\u001b[0;34m:\u001b[0m\u001b[0;34m\u001b[0m\u001b[0;34m\u001b[0m\u001b[0m\n\u001b[0;32m----> 4\u001b[0;31m   \u001b[0mdisplay\u001b[0m\u001b[0;34m(\u001b[0m\u001b[0mnprNorm\u001b[0m\u001b[0;34m[\u001b[0m\u001b[0;34m[\u001b[0m\u001b[0mi\u001b[0m\u001b[0;34m]\u001b[0m\u001b[0;34m]\u001b[0m\u001b[0;34m.\u001b[0m\u001b[0mhist\u001b[0m\u001b[0;34m(\u001b[0m\u001b[0;34m)\u001b[0m\u001b[0;34m)\u001b[0m\u001b[0;34m\u001b[0m\u001b[0;34m\u001b[0m\u001b[0m\n\u001b[0m",
            "\u001b[0;32m/usr/local/lib/python3.6/dist-packages/pandas/plotting/_core.py\u001b[0m in \u001b[0;36mhist_frame\u001b[0;34m(data, column, by, grid, xlabelsize, xrot, ylabelsize, yrot, ax, sharex, sharey, figsize, layout, bins, backend, **kwargs)\u001b[0m\n\u001b[1;32m    206\u001b[0m         \u001b[0mlayout\u001b[0m\u001b[0;34m=\u001b[0m\u001b[0mlayout\u001b[0m\u001b[0;34m,\u001b[0m\u001b[0;34m\u001b[0m\u001b[0;34m\u001b[0m\u001b[0m\n\u001b[1;32m    207\u001b[0m         \u001b[0mbins\u001b[0m\u001b[0;34m=\u001b[0m\u001b[0mbins\u001b[0m\u001b[0;34m,\u001b[0m\u001b[0;34m\u001b[0m\u001b[0;34m\u001b[0m\u001b[0m\n\u001b[0;32m--> 208\u001b[0;31m         \u001b[0;34m**\u001b[0m\u001b[0mkwargs\u001b[0m\u001b[0;34m,\u001b[0m\u001b[0;34m\u001b[0m\u001b[0;34m\u001b[0m\u001b[0m\n\u001b[0m\u001b[1;32m    209\u001b[0m     )\n\u001b[1;32m    210\u001b[0m \u001b[0;34m\u001b[0m\u001b[0m\n",
            "\u001b[0;32m/usr/local/lib/python3.6/dist-packages/pandas/plotting/_matplotlib/hist.py\u001b[0m in \u001b[0;36mhist_frame\u001b[0;34m(data, column, by, grid, xlabelsize, xrot, ylabelsize, yrot, ax, sharex, sharey, figsize, layout, bins, **kwds)\u001b[0m\n\u001b[1;32m    387\u001b[0m \u001b[0;34m\u001b[0m\u001b[0m\n\u001b[1;32m    388\u001b[0m     \u001b[0;32mif\u001b[0m \u001b[0mnaxes\u001b[0m \u001b[0;34m==\u001b[0m \u001b[0;36m0\u001b[0m\u001b[0;34m:\u001b[0m\u001b[0;34m\u001b[0m\u001b[0;34m\u001b[0m\u001b[0m\n\u001b[0;32m--> 389\u001b[0;31m         \u001b[0;32mraise\u001b[0m \u001b[0mValueError\u001b[0m\u001b[0;34m(\u001b[0m\u001b[0;34m\"hist method requires numerical columns, nothing to plot.\"\u001b[0m\u001b[0;34m)\u001b[0m\u001b[0;34m\u001b[0m\u001b[0;34m\u001b[0m\u001b[0m\n\u001b[0m\u001b[1;32m    390\u001b[0m \u001b[0;34m\u001b[0m\u001b[0m\n\u001b[1;32m    391\u001b[0m     fig, axes = _subplots(\n",
            "\u001b[0;31mValueError\u001b[0m: hist method requires numerical columns, nothing to plot."
          ]
        },
        {
          "output_type": "display_data",
          "data": {
            "image/png": "[encoded data removed]",
            "text/plain": [
              "<Figure size 432x288 with 1 Axes>"
            ]
          },
          "metadata": {
            "tags": [],
            "needs_background": "light"
          }
        },
        {
          "output_type": "display_data",
          "data": {
            "image/png": "[encoded data removed]",
            "text/plain": [
              "<Figure size 432x288 with 1 Axes>"
            ]
          },
          "metadata": {
            "tags": [],
            "needs_background": "light"
          }
        },
        {
          "output_type": "display_data",
          "data": {
            "image/png": "[encoded data removed]",
            "text/plain": [
              "<Figure size 432x288 with 1 Axes>"
            ]
          },
          "metadata": {
            "tags": [],
            "needs_background": "light"
          }
        },
        {
          "output_type": "display_data",
          "data": {
            "image/png": "[encoded data removed]",
            "text/plain": [
              "<Figure size 432x288 with 1 Axes>"
            ]
          },
          "metadata": {
            "tags": [],
            "needs_background": "light"
          }
        },
        {
          "output_type": "display_data",
          "data": {
            "image/png": "[encoded data removed]",
            "text/plain": [
              "<Figure size 432x288 with 1 Axes>"
            ]
          },
          "metadata": {
            "tags": [],
            "needs_background": "light"
          }
        },
        {
          "output_type": "display_data",
          "data": {
            "image/png": "[encoded data removed]",
            "text/plain": [
              "<Figure size 432x288 with 1 Axes>"
            ]
          },
          "metadata": {
            "tags": [],
            "needs_background": "light"
          }
        },
        {
          "output_type": "display_data",
          "data": {
            "image/png": "[encoded data removed]",
            "text/plain": [
              "<Figure size 432x288 with 1 Axes>"
            ]
          },
          "metadata": {
            "tags": [],
            "needs_background": "light"
          }
        },
        {
          "output_type": "display_data",
          "data": {
            "image/png": "[encoded data removed]",
            "text/plain": [
              "<Figure size 432x288 with 1 Axes>"
            ]
          },
          "metadata": {
            "tags": [],
            "needs_background": "light"
          }
        },
        {
          "output_type": "display_data",
          "data": {
            "image/png": "[encoded data removed]",
            "text/plain": [
              "<Figure size 432x288 with 1 Axes>"
            ]
          },
          "metadata": {
            "tags": [],
            "needs_background": "light"
          }
        },
        {
          "output_type": "display_data",
          "data": {
            "image/png": "[encoded data removed]",
            "text/plain": [
              "<Figure size 432x288 with 1 Axes>"
            ]
          },
          "metadata": {
            "tags": [],
            "needs_background": "light"
          }
        },
        {
          "output_type": "display_data",
          "data": {
            "image/png": "[encoded data removed]",
            "text/plain": [
              "<Figure size 432x288 with 1 Axes>"
            ]
          },
          "metadata": {
            "tags": [],
            "needs_background": "light"
          }
        },
        {
          "output_type": "display_data",
          "data": {
            "image/png": "[encoded data removed]",
            "text/plain": [
              "<Figure size 432x288 with 1 Axes>"
            ]
          },
          "metadata": {
            "tags": [],
            "needs_background": "light"
          }
        },
        {
          "output_type": "display_data",
          "data": {
            "image/png": "[encoded data removed]",
            "text/plain": [
              "<Figure size 432x288 with 1 Axes>"
            ]
          },
          "metadata": {
            "tags": [],
            "needs_background": "light"
          }
        },
        {
          "output_type": "display_data",
          "data": {
            "image/png": "[encoded data removed]",
            "text/plain": [
              "<Figure size 432x288 with 1 Axes>"
            ]
          },
          "metadata": {
            "tags": [],
            "needs_background": "light"
          }
        },
        {
          "output_type": "display_data",
          "data": {
            "image/png": "[encoded data removed]",
            "text/plain": [
              "<Figure size 432x288 with 1 Axes>"
            ]
          },
          "metadata": {
            "tags": [],
            "needs_background": "light"
          }
        },
        {
          "output_type": "display_data",
          "data": {
            "image/png": "[encoded data removed]",
            "text/plain": [
              "<Figure size 432x288 with 1 Axes>"
            ]
          },
          "metadata": {
            "tags": [],
            "needs_background": "light"
          }
        },
        {
          "output_type": "display_data",
          "data": {
            "image/png": "[encoded data removed]",
            "text/plain": [
              "<Figure size 432x288 with 1 Axes>"
            ]
          },
          "metadata": {
            "tags": [],
            "needs_background": "light"
          }
        },
        {
          "output_type": "display_data",
          "data": {
            "image/png": "[encoded data removed]",
            "text/plain": [
              "<Figure size 432x288 with 1 Axes>"
            ]
          },
          "metadata": {
            "tags": [],
            "needs_background": "light"
          }
        },
        {
          "output_type": "display_data",
          "data": {
            "image/png": "[encoded data removed]",
            "text/plain": [
              "<Figure size 432x288 with 1 Axes>"
            ]
          },
          "metadata": {
            "tags": [],
            "needs_background": "light"
          }
        },
        {
          "output_type": "display_data",
          "data": {
            "image/png": "[encoded data removed]",
            "text/plain": [
              "<Figure size 432x288 with 1 Axes>"
            ]
          },
          "metadata": {
            "tags": [],
            "needs_background": "light"
          }
        },
        {
          "output_type": "display_data",
          "data": {
            "image/png": "[encoded data removed]",
            "text/plain": [
              "<Figure size 432x288 with 1 Axes>"
            ]
          },
          "metadata": {
            "tags": [],
            "needs_background": "light"
          }
        },
        {
          "output_type": "display_data",
          "data": {
            "image/png": "[encoded data removed]",
            "text/plain": [
              "<Figure size 432x288 with 1 Axes>"
            ]
          },
          "metadata": {
            "tags": [],
            "needs_background": "light"
          }
        },
        {
          "output_type": "display_data",
          "data": {
            "image/png": "[encoded data removed]",
            "text/plain": [
              "<Figure size 432x288 with 1 Axes>"
            ]
          },
          "metadata": {
            "tags": [],
            "needs_background": "light"
          }
        },
        {
          "output_type": "display_data",
          "data": {
            "image/png": "[encoded data removed]",
            "text/plain": [
              "<Figure size 432x288 with 1 Axes>"
            ]
          },
          "metadata": {
            "tags": [],
            "needs_background": "light"
          }
        },
        {
          "output_type": "display_data",
          "data": {
            "image/png": "[encoded data removed]",
            "text/plain": [
              "<Figure size 432x288 with 1 Axes>"
            ]
          },
          "metadata": {
            "tags": [],
            "needs_background": "light"
          }
        },
        {
          "output_type": "display_data",
          "data": {
            "image/png": "[encoded data removed]",
            "text/plain": [
              "<Figure size 432x288 with 1 Axes>"
            ]
          },
          "metadata": {
            "tags": [],
            "needs_background": "light"
          }
        },
        {
          "output_type": "display_data",
          "data": {
            "image/png": "[encoded data removed]",
            "text/plain": [
              "<Figure size 432x288 with 1 Axes>"
            ]
          },
          "metadata": {
            "tags": [],
            "needs_background": "light"
          }
        },
        {
          "output_type": "display_data",
          "data": {
            "image/png": "[encoded data removed]",
            "text/plain": [
              "<Figure size 432x288 with 1 Axes>"
            ]
          },
          "metadata": {
            "tags": [],
            "needs_background": "light"
          }
        },
        {
          "output_type": "display_data",
          "data": {
            "image/png": "[encoded data removed]",
            "text/plain": [
              "<Figure size 432x288 with 1 Axes>"
            ]
          },
          "metadata": {
            "tags": [],
            "needs_background": "light"
          }
        },
        {
          "output_type": "display_data",
          "data": {
            "image/png": "[encoded data removed]",
            "text/plain": [
              "<Figure size 432x288 with 1 Axes>"
            ]
          },
          "metadata": {
            "tags": [],
            "needs_background": "light"
          }
        }
      ]
    },
    {
      "cell_type": "markdown",
      "metadata": {
        "colab_type": "text",
        "id": "_uiZUBimTb0e"
      },
      "source": [
        "#### 2020 regressions"
      ]
    },
    {
      "cell_type": "code",
      "metadata": {
        "colab_type": "code",
        "id": "EhCFhC_-Tb0f",
        "colab": {
          "base_uri": "https://localhost:8080/",
          "height": 901
        },
        "outputId": "a8ef09a1-4109-430f-aa11-432703cd33e1"
      },
      "source": [
        "### 2020 Multi-regression\n",
        "\n",
        "import statsmodels.api as sm\n",
        "\n",
        "#put all variables for predicting 2020 rates in dataframe\n",
        "X = nprNorm[['2010_tract_rate', '2010_state_rate',\n",
        " 'total_population', 'median_age', 'white_pct', 'black_pct', 'native_pct', \n",
        " 'asian_pct', 'pacific_pct', 'other_pct', 'two_pct', 'latino_pct', \n",
        " 'notLatino_pct', 'house_units', 'occupied_pct', 'vacant_pct', 'owner_pct', \n",
        " 'renter_pct', 'no_telephone_pct',\n",
        " 'median_value', 'rent_more_35_pct', 'median_income', 'no_int_pct']]\n",
        "\n",
        "#what we want to predict - 2020 response rates - in dataframe\n",
        "y = nprNorm[[\"10_20_tract_difference\"]]\n",
        "\n",
        "#build model and print summary\n",
        "print(sm.OLS(y, X).fit().summary())"
      ],
      "execution_count": 139,
      "outputs": [
        {
          "output_type": "stream",
          "text": [
            "                                   OLS Regression Results                                  \n",
            "===========================================================================================\n",
            "Dep. Variable:     10_20_tract_difference   R-squared (uncentered):                   0.029\n",
            "Model:                                OLS   Adj. R-squared (uncentered):              0.029\n",
            "Method:                     Least Squares   F-statistic:                              129.6\n",
            "Date:                    Tue, 11 Aug 2020   Prob (F-statistic):                        0.00\n",
            "Time:                            15:20:32   Log-Likelihood:                     -5.4808e+05\n",
            "No. Observations:                   98303   AIC:                                  1.096e+06\n",
            "Df Residuals:                       98280   BIC:                                  1.096e+06\n",
            "Df Model:                              23                                                  \n",
            "Covariance Type:                nonrobust                                                  \n",
            "====================================================================================\n",
            "                       coef    std err          t      P>|t|      [0.025      0.975]\n",
            "------------------------------------------------------------------------------------\n",
            "2010_tract_rate    -98.2652      2.791    -35.210      0.000    -103.735     -92.795\n",
            "2010_state_rate      9.6750      1.081      8.951      0.000       7.556      11.794\n",
            "total_population   -30.2644     15.387     -1.967      0.049     -60.423      -0.106\n",
            "median_age          17.0283      2.849      5.977      0.000      11.444      22.613\n",
            "white_pct          204.9047    308.749      0.664      0.507    -400.239     810.048\n",
            "black_pct          200.9274    308.750      0.651      0.515    -404.219     806.074\n",
            "native_pct         173.3162    298.936      0.580      0.562    -412.595     759.228\n",
            "asian_pct          188.2230    288.385      0.653      0.514    -377.008     753.454\n",
            "pacific_pct        219.0106    188.574      1.161      0.245    -150.593     588.614\n",
            "other_pct          173.5862    259.372      0.669      0.503    -334.780     681.953\n",
            "two_pct             97.5183    154.101      0.633      0.527    -204.517     399.554\n",
            "latino_pct        -588.1258   6951.590     -0.085      0.933   -1.42e+04     1.3e+04\n",
            "notLatino_pct     -579.4383   6951.595     -0.083      0.934   -1.42e+04     1.3e+04\n",
            "house_units         42.5351     14.383      2.957      0.003      14.344      70.726\n",
            "occupied_pct      -937.5219   5999.421     -0.156      0.876   -1.27e+04    1.08e+04\n",
            "vacant_pct       -1019.7231   5999.447     -0.170      0.865   -1.28e+04    1.07e+04\n",
            "owner_pct         1377.0048   5555.724      0.248      0.804   -9512.149    1.23e+04\n",
            "renter_pct        1367.3662   5555.717      0.246      0.806   -9521.774    1.23e+04\n",
            "no_telephone_pct     4.3849      6.104      0.718      0.473      -7.578      16.348\n",
            "median_value       -11.8072      3.390     -3.483      0.000     -18.452      -5.162\n",
            "rent_more_35_pct    -0.4259      1.465     -0.291      0.771      -3.298       2.446\n",
            "median_income       19.2163      3.631      5.293      0.000      12.100      26.332\n",
            "no_int_pct         -27.7781      2.527    -10.992      0.000     -32.731     -22.825\n",
            "==============================================================================\n",
            "Omnibus:                   517890.555   Durbin-Watson:                   1.914\n",
            "Prob(Omnibus):                  0.000   Jarque-Bera (JB):   23372515385484.988\n",
            "Skew:                         260.340   Prob(JB):                         0.00\n",
            "Kurtosis:                   75540.854   Cond. No.                     1.17e+05\n",
            "==============================================================================\n",
            "\n",
            "Warnings:\n",
            "[1] Standard Errors assume that the covariance matrix of the errors is correctly specified.\n",
            "[2] The condition number is large, 1.17e+05. This might indicate that there are\n",
            "strong multicollinearity or other numerical problems.\n"
          ],
          "name": "stdout"
        }
      ]
    },
    {
      "cell_type": "code",
      "metadata": {
        "id": "8y-gvY_KGQi7",
        "colab_type": "code",
        "colab": {
          "base_uri": "https://localhost:8080/",
          "height": 1000
        },
        "outputId": "979e62ed-4bba-440e-bfe2-47b5f1253dc8"
      },
      "source": [
        "### 2020 linear regressions for each variable\n",
        "pd.set_option('display.max_columns', None)\n",
        "temp = nprNorm[[\"10_20_tract_difference\", '2010_tract_rate', '2010_state_rate',\n",
        " 'total_population', 'median_age', 'white_pct', 'black_pct', 'native_pct', \n",
        " 'asian_pct', 'pacific_pct', 'other_pct', 'two_pct', 'latino_pct', \n",
        " 'notLatino_pct', 'house_units', 'occupied_pct', 'vacant_pct', 'owner_pct', \n",
        " 'renter_pct', 'no_telephone_pct', 'median_value', 'rent_more_35_pct', \n",
        " 'median_income', 'no_int_pct']]\n",
        "\n",
        "fit_d = {}  # This will hold all of the fit results and summaries\n",
        "for col in [x for x in temp.columns if x != '10_20_tract_difference']:\n",
        "    Y = temp['10_20_tract_difference']\n",
        "  \n",
        "    X = temp[col]\n",
        "    X = sm.add_constant(X)  # Add a constant to the fit\n",
        "\n",
        "    fit_d[col] = sm.OLS(Y,X).fit()\n",
        "    print(fit_d[col].summary().tables[1])"
      ],
      "execution_count": 140,
      "outputs": [
        {
          "output_type": "stream",
          "text": [
            "===================================================================================\n",
            "                      coef    std err          t      P>|t|      [0.025      0.975]\n",
            "-----------------------------------------------------------------------------------\n",
            "const               2.9445      1.291      2.281      0.023       0.414       5.475\n",
            "2010_tract_rate   -13.6234      1.875     -7.264      0.000     -17.299      -9.948\n",
            "===================================================================================\n",
            "===================================================================================\n",
            "                      coef    std err          t      P>|t|      [0.025      0.975]\n",
            "-----------------------------------------------------------------------------------\n",
            "const             -10.1036      0.593    -17.033      0.000     -11.266      -8.941\n",
            "2010_state_rate     6.8912      1.012      6.812      0.000       4.908       8.874\n",
            "===================================================================================\n",
            "====================================================================================\n",
            "                       coef    std err          t      P>|t|      [0.025      0.975]\n",
            "------------------------------------------------------------------------------------\n",
            "const               -9.3925      0.401    -23.409      0.000     -10.179      -8.606\n",
            "total_population    43.8146      4.903      8.937      0.000      34.205      53.424\n",
            "====================================================================================\n",
            "==============================================================================\n",
            "                 coef    std err          t      P>|t|      [0.025      0.975]\n",
            "------------------------------------------------------------------------------\n",
            "const        -11.1532      0.761    -14.651      0.000     -12.645      -9.661\n",
            "median_age    12.6302      1.913      6.603      0.000       8.881      16.379\n",
            "==============================================================================\n",
            "==============================================================================\n",
            "                 coef    std err          t      P>|t|      [0.025      0.975]\n",
            "------------------------------------------------------------------------------\n",
            "const        -11.1376      0.659    -16.890      0.000     -12.430      -9.845\n",
            "white_pct      6.5493      0.851      7.700      0.000       4.882       8.216\n",
            "==============================================================================\n",
            "==============================================================================\n",
            "                 coef    std err          t      P>|t|      [0.025      0.975]\n",
            "------------------------------------------------------------------------------\n",
            "const         -5.1497      0.243    -21.209      0.000      -5.626      -4.674\n",
            "black_pct     -8.9026      0.988     -9.015      0.000     -10.838      -6.967\n",
            "==============================================================================\n",
            "==============================================================================\n",
            "                 coef    std err          t      P>|t|      [0.025      0.975]\n",
            "------------------------------------------------------------------------------\n",
            "const         -6.0308      0.213    -28.285      0.000      -6.449      -5.613\n",
            "native_pct   -37.4059      7.424     -5.038      0.000     -51.957     -22.855\n",
            "==============================================================================\n",
            "==============================================================================\n",
            "                 coef    std err          t      P>|t|      [0.025      0.975]\n",
            "------------------------------------------------------------------------------\n",
            "const         -6.8607      0.234    -29.358      0.000      -7.319      -6.403\n",
            "asian_pct     10.3970      2.108      4.932      0.000       6.265      14.529\n",
            "==============================================================================\n",
            "===============================================================================\n",
            "                  coef    std err          t      P>|t|      [0.025      0.975]\n",
            "-------------------------------------------------------------------------------\n",
            "const          -6.5624      0.208    -31.512      0.000      -6.971      -6.154\n",
            "pacific_pct    89.3459     11.755      7.601      0.000      66.306     112.385\n",
            "===============================================================================\n",
            "==============================================================================\n",
            "                 coef    std err          t      P>|t|      [0.025      0.975]\n",
            "------------------------------------------------------------------------------\n",
            "const         -5.6768      0.234    -24.303      0.000      -6.135      -5.219\n",
            "other_pct    -12.4031      2.156     -5.753      0.000     -16.629      -8.178\n",
            "==============================================================================\n",
            "==============================================================================\n",
            "                 coef    std err          t      P>|t|      [0.025      0.975]\n",
            "------------------------------------------------------------------------------\n",
            "const         -6.8981      0.298    -23.155      0.000      -7.482      -6.314\n",
            "two_pct        9.2863      3.424      2.712      0.007       2.576      15.997\n",
            "==============================================================================\n",
            "==============================================================================\n",
            "                 coef    std err          t      P>|t|      [0.025      0.975]\n",
            "------------------------------------------------------------------------------\n",
            "const         -4.8504      0.260    -18.683      0.000      -5.359      -4.342\n",
            "latino_pct    -9.2175      0.998     -9.233      0.000     -11.174      -7.261\n",
            "==============================================================================\n",
            "=================================================================================\n",
            "                    coef    std err          t      P>|t|      [0.025      0.975]\n",
            "---------------------------------------------------------------------------------\n",
            "const           -14.0679      0.865    -16.270      0.000     -15.763     -12.373\n",
            "notLatino_pct     9.2175      0.998      9.233      0.000       7.261      11.174\n",
            "=================================================================================\n",
            "===============================================================================\n",
            "                  coef    std err          t      P>|t|      [0.025      0.975]\n",
            "-------------------------------------------------------------------------------\n",
            "const          -9.1809      0.430    -21.342      0.000     -10.024      -8.338\n",
            "house_units    36.4430      4.802      7.589      0.000      27.031      45.855\n",
            "===============================================================================\n",
            "================================================================================\n",
            "                   coef    std err          t      P>|t|      [0.025      0.975]\n",
            "--------------------------------------------------------------------------------\n",
            "const          -31.6944      1.721    -18.421      0.000     -35.067     -28.322\n",
            "occupied_pct    28.8496      1.942     14.858      0.000      25.044      32.655\n",
            "================================================================================\n",
            "==============================================================================\n",
            "                 coef    std err          t      P>|t|      [0.025      0.975]\n",
            "------------------------------------------------------------------------------\n",
            "const         -2.8447      0.311     -9.146      0.000      -3.454      -2.235\n",
            "vacant_pct   -28.8497      1.942    -14.858      0.000     -32.655     -25.044\n",
            "==============================================================================\n",
            "==============================================================================\n",
            "                 coef    std err          t      P>|t|      [0.025      0.975]\n",
            "------------------------------------------------------------------------------\n",
            "const        -13.4050      0.641    -20.916      0.000     -14.661     -12.149\n",
            "owner_pct     11.0071      0.942     11.682      0.000       9.160      12.854\n",
            "==============================================================================\n",
            "==============================================================================\n",
            "                 coef    std err          t      P>|t|      [0.025      0.975]\n",
            "------------------------------------------------------------------------------\n",
            "const         -2.3979      0.393     -6.098      0.000      -3.169      -1.627\n",
            "renter_pct   -11.0071      0.942    -11.682      0.000     -12.854      -9.160\n",
            "==============================================================================\n",
            "====================================================================================\n",
            "                       coef    std err          t      P>|t|      [0.025      0.975]\n",
            "------------------------------------------------------------------------------------\n",
            "const               -4.3732      0.300    -14.576      0.000      -4.961      -3.785\n",
            "no_telephone_pct   -49.6190      5.586     -8.882      0.000     -60.568     -38.670\n",
            "====================================================================================\n",
            "================================================================================\n",
            "                   coef    std err          t      P>|t|      [0.025      0.975]\n",
            "--------------------------------------------------------------------------------\n",
            "const           -8.4254      0.312    -27.016      0.000      -9.037      -7.814\n",
            "median_value    17.2129      1.911      9.007      0.000      13.467      20.959\n",
            "================================================================================\n",
            "====================================================================================\n",
            "                       coef    std err          t      P>|t|      [0.025      0.975]\n",
            "------------------------------------------------------------------------------------\n",
            "const               -2.4297      0.564     -4.310      0.000      -3.535      -1.325\n",
            "rent_more_35_pct    -9.9531      1.345     -7.400      0.000     -12.589      -7.317\n",
            "====================================================================================\n",
            "=================================================================================\n",
            "                    coef    std err          t      P>|t|      [0.025      0.975]\n",
            "---------------------------------------------------------------------------------\n",
            "const           -13.6665      0.453    -30.155      0.000     -14.555     -12.778\n",
            "median_income    29.6618      1.630     18.200      0.000      26.468      32.856\n",
            "=================================================================================\n",
            "==============================================================================\n",
            "                 coef    std err          t      P>|t|      [0.025      0.975]\n",
            "------------------------------------------------------------------------------\n",
            "const          0.8104      0.375      2.160      0.031       0.075       1.546\n",
            "no_int_pct   -37.0382      1.633    -22.677      0.000     -40.239     -33.837\n",
            "==============================================================================\n"
          ],
          "name": "stdout"
        }
      ]
    },
    {
      "cell_type": "code",
      "metadata": {
        "colab_type": "code",
        "id": "vCTDdLGsTb02",
        "colab": {}
      },
      "source": [
        "### 2020 edited multi-regressions\n",
        "#Edited = Run regressions with fewer variables\n",
        "\n",
        "#put all variables for predicting 2020 rates in dataframe\n",
        "X = nprNorm[['white_pct', 'black_pct', 'native_pct', 'asian_pct', \n",
        "                      'latino_pct', 'vacant_pct', 'renter_pct', \n",
        "                      'no_telephone_pct', 'median_value', 'rent_more_35_pct',\n",
        "                      'median_income', 'no_int_pct']]\n",
        "\n",
        "#what we want to predict - 2020 response rates - in dataframe\n",
        "y = nprNorm[[\"2020_tract_rate\"]]\n",
        "\n",
        "#build and fit the multi-regression model\n",
        "print(sm.OLS(y, X).fit().summary())"
      ],
      "execution_count": null,
      "outputs": []
    },
    {
      "cell_type": "markdown",
      "metadata": {
        "colab_type": "text",
        "id": "x2hR0Op6Tb0v"
      },
      "source": [
        "#### 2010 Regressions"
      ]
    },
    {
      "cell_type": "code",
      "metadata": {
        "colab_type": "code",
        "id": "wJGS3MLrTb0v",
        "colab": {}
      },
      "source": [
        "### 2010 multi regression\n",
        "\n",
        "#put all variables for predicting 2010 rates in dataframe\n",
        "X = nprNorm[['total_population', 'median_age', 'white_pct', \n",
        "                     'black_pct', 'native_pct', 'asian_pct', 'pacific_pct',\n",
        "                     'other_pct', 'two_pct', 'latino_pct', 'notLatino_pct',\n",
        "                     'house_units', 'occupied_pct', 'vacant_pct', 'renter_pct',\n",
        "                     'no_telephone_pct', 'median_value', 'rent_more_35_pct',\n",
        "                     'median_income', 'no_int_pct']]\n",
        "\n",
        "#what we want to predict - 2010 response rates - in separate dataframe\n",
        "y = nprNorm[[\"2010_tract_rate\"]]\n",
        "\n",
        "#create model and print summary table\n",
        "#print(sm.OLS(y, X).fit().summary())"
      ],
      "execution_count": null,
      "outputs": []
    },
    {
      "cell_type": "code",
      "metadata": {
        "colab_type": "code",
        "id": "KnnpJJdATb0y",
        "colab": {}
      },
      "source": [
        "### 2010 linear regression for each variable\n",
        "\n",
        "temp = nprNorm[['2010_tract_rate','total_population', 'median_age', 'white_pct', \n",
        "              'black_pct', 'native_pct',  'asian_pct','pacific_pct','other_pct',\n",
        "              'two_pct', 'latino_pct',  'notLatino_pct', 'house_units', \n",
        "              'occupied_pct', 'vacant_pct', 'owner_pct',  'renter_pct', \n",
        "              'no_telephone_pct', 'median_value', 'rent_more_35_pct', \n",
        "              'median_income', 'no_int_pct']]\n",
        "\n",
        "fit_d = {}  # This will hold all of the fit results and summaries\n",
        "for col in [x for x in temp.columns if x != '2010_tract_rate']:\n",
        "    Y = temp['2010_tract_rate']\n",
        "    \n",
        "    X = temp[col]\n",
        "    X = sm.add_constant(X)  # Add a constant to the fit\n",
        "\n",
        "    fit_d[col] = sm.OLS(Y,X).fit()\n",
        "    print(fit_d[col].summary().tables[1])"
      ],
      "execution_count": null,
      "outputs": []
    },
    {
      "cell_type": "markdown",
      "metadata": {
        "id": "CfVDv7agtnz_",
        "colab_type": "text"
      },
      "source": [
        "### Puerto Rico"
      ]
    },
    {
      "cell_type": "code",
      "metadata": {
        "id": "E_1AaDVLtr9x",
        "colab_type": "code",
        "colab": {}
      },
      "source": [
        "#create df with just puerto rico\n",
        "pr = df[df['State'] == 'Puerto Rico']"
      ],
      "execution_count": 141,
      "outputs": []
    },
    {
      "cell_type": "code",
      "metadata": {
        "id": "oebn2TmpHhCx",
        "colab_type": "code",
        "colab": {}
      },
      "source": [
        "pr.tocsv('/content/drive/Shared drives/Shared Items/census-responses/data/puerto_rico.csv')"
      ],
      "execution_count": 145,
      "outputs": []
    },
    {
      "cell_type": "markdown",
      "metadata": {
        "colab_type": "text",
        "id": "tYdF-C1cu1y8"
      },
      "source": [
        "#### 2020 regressions"
      ]
    },
    {
      "cell_type": "code",
      "metadata": {
        "colab_type": "code",
        "id": "RlidAAwwu1y-",
        "colab": {}
      },
      "source": [
        "### 2020 Multi-regression\n",
        "\n",
        "import statsmodels.api as sm\n",
        "\n",
        "#put all variables for predicting 2020 rates in dataframe\n",
        "X = pr[['2010_tract_rate', 'total_population', 'median_age', \n",
        "                  'white_pct', 'black_pct', 'native_pct', 'asian_pct',\n",
        "                  'pacific_pct', 'other_pct', 'two_pct', 'latino_pct',  \n",
        "                  'notLatino_pct', 'house_units', 'occupied_pct', 'vacant_pct',\n",
        "                  'owner_pct','renter_pct', 'no_telephone_pct', 'median_value',\n",
        "                  'rent_more_35_pct', 'median_income', 'no_int_pct']]\n",
        "\n",
        "#what we want to predict - 2020 response rates - in dataframe\n",
        "y = pr[[\"10_20_tract_difference\"]]\n",
        "\n",
        "#build model and print summary\n",
        "print(sm.OLS(y, X).fit().summary())"
      ],
      "execution_count": null,
      "outputs": []
    },
    {
      "cell_type": "code",
      "metadata": {
        "colab_type": "code",
        "id": "Cvkw34rku1zA",
        "colab": {}
      },
      "source": [
        "### 2020 linear regressions for each variable\n",
        "\n",
        "temp = pr[['10_20_tract_difference', 'white_pct', 'black_pct', 'native_pct', \n",
        "              'asian_pct', 'latino_pct', 'vacant_pct', 'renter_pct', \n",
        "              'no_telephone_pct', 'median_value', 'rent_more_35_pct', \n",
        "              'median_income', 'no_int_pct']]\n",
        "\n",
        "fit_d = {}  # This will hold all of the fit results and summaries\n",
        "for col in [x for x in temp.columns if x != '10_20_tract_difference']:\n",
        "    Y = temp['10_20_tract_difference']\n",
        "    \n",
        "    X = temp[col]\n",
        "    X = sm.add_constant(X)  # Add a constant to the fit\n",
        "\n",
        "    fit_d[col] = sm.OLS(Y,X).fit()\n",
        "    print(fit_d[col].summary().tables[1])"
      ],
      "execution_count": null,
      "outputs": []
    },
    {
      "cell_type": "code",
      "metadata": {
        "colab_type": "code",
        "id": "WAFrD4JRu1zQ",
        "colab": {}
      },
      "source": [
        "### 2020 edited linear regressions\n",
        "# Edited = Run regressions with fewer variables\n",
        "\n",
        "temp = pr[[\"10_20_tract_difference\", 'white_pct', 'black_pct', 'native_pct', \n",
        "              'asian_pct','pacific_pct','latino_pct', 'vacant_pct','renter_pct',\n",
        "              'no_telephone_pct','median_value','rent_more_35_pct',\n",
        "              'median_income','no_int_pct']]\n",
        "\n",
        "fit_d = {}  # This will hold all of the fit results and summaries\n",
        "for col in [x for x in temp.columns if x != '10_20_tract_difference']:\n",
        "    Y = temp['10_20_tract_difference']\n",
        "   \n",
        "    X = temp[col]\n",
        "    X = sm.add_constant(X)  # Add a constant to the fit\n",
        "\n",
        "    fit_d[col] = sm.OLS(Y,X).fit()\n",
        "    print(fit_d[col].summary().tables[1])"
      ],
      "execution_count": null,
      "outputs": []
    },
    {
      "cell_type": "markdown",
      "metadata": {
        "colab_type": "text",
        "id": "eBcoXR_Iu1zG"
      },
      "source": [
        "#### 2010 Regressions"
      ]
    },
    {
      "cell_type": "code",
      "metadata": {
        "colab_type": "code",
        "id": "ZRFQpznKu1zG",
        "colab": {}
      },
      "source": [
        "### 2010 multi regression\n",
        "\n",
        "#put all variables for predicting 2010 rates in dataframe\n",
        "X = pr[['total_population', 'median_age',\n",
        "                  'white_pct', 'black_pct', 'native_pct', 'asian_pct',\n",
        "                  'pacific_pct', 'other_pct', 'two_pct', 'latino_pct', \n",
        "                  'notLatino_pct', 'house_units', 'occupied_pct', 'vacant_pct',\n",
        "                  'owner_pct','renter_pct', 'no_telephone_pct', 'median_value',\n",
        "                  'rent_more_35_pct', 'median_income', 'no_int_pct']]\n",
        "\n",
        "#what we want to predict - 2010 response rates - in separate dataframe\n",
        "y = pr[[\"2010_tract_rate\"]]\n",
        "\n",
        "#create model and print summary table\n",
        "print(sm.OLS(y, X).fit().summary())"
      ],
      "execution_count": null,
      "outputs": []
    },
    {
      "cell_type": "code",
      "metadata": {
        "colab_type": "code",
        "id": "6CS4y7X_u1zI",
        "colab": {}
      },
      "source": [
        "### 2010 linear regression for each variable\n",
        "\n",
        "temp = pr[['2010_tract_rate','total_population', 'median_age','white_pct', \n",
        "           'black_pct', 'native_pct', 'asian_pct', 'pacific_pct', 'other_pct', \n",
        "           'two_pct','latino_pct','notLatino_pct','house_units', 'occupied_pct', \n",
        "           'vacant_pct', 'owner_pct','renter_pct', 'no_telephone_pct', \n",
        "           'median_value', 'rent_more_35_pct', 'median_income', 'no_int_pct']]\n",
        "\n",
        "fit_d = {}  # This will hold all of the fit results and summaries\n",
        "for col in [x for x in temp.columns if x != '2010_tract_rate']:\n",
        "    Y = temp['2010_tract_rate']\n",
        "    \n",
        "    X = temp[col]\n",
        "    X = sm.add_constant(X)  # Add a constant to the fit\n",
        "\n",
        "    fit_d[col] = sm.OLS(Y,X).fit()\n",
        "    print(fit_d[col].summary().tables[1])"
      ],
      "execution_count": null,
      "outputs": []
    },
    {
      "cell_type": "markdown",
      "metadata": {
        "id": "vzE4WVpiaSpn",
        "colab_type": "text"
      },
      "source": [
        "# Scrap Code"
      ]
    },
    {
      "cell_type": "markdown",
      "metadata": {
        "colab_type": "text",
        "id": "c-CJJdG_GhOe"
      },
      "source": [
        "## Analysis with Puerto Rico"
      ]
    },
    {
      "cell_type": "markdown",
      "metadata": {
        "colab_type": "text",
        "id": "Db0NdfahGhOq"
      },
      "source": [
        "### 2010-2020 Changes"
      ]
    },
    {
      "cell_type": "code",
      "metadata": {
        "id": "5em2TuJQWaLw",
        "colab_type": "code",
        "colab": {
          "base_uri": "https://localhost:8080/",
          "height": 1000
        },
        "outputId": "7700eb65-92da-4e58-f893-077495ec2cea"
      },
      "source": [
        "display(states.sort_values(by='10_20_state_difference'))"
      ],
      "execution_count": 59,
      "outputs": [
        {
          "output_type": "display_data",
          "data": {
            "text/html": [
              "<div>\n",
              "<style scoped>\n",
              "    .dataframe tbody tr th:only-of-type {\n",
              "        vertical-align: middle;\n",
              "    }\n",
              "\n",
              "    .dataframe tbody tr th {\n",
              "        vertical-align: top;\n",
              "    }\n",
              "\n",
              "    .dataframe thead th {\n",
              "        text-align: right;\n",
              "    }\n",
              "</style>\n",
              "<table border=\"1\" class=\"dataframe\">\n",
              "  <thead>\n",
              "    <tr style=\"text-align: right;\">\n",
              "      <th></th>\n",
              "      <th>GEO_ID</th>\n",
              "      <th>State</th>\n",
              "      <th>Region</th>\n",
              "      <th>2020_state_rate</th>\n",
              "      <th>2010_state_rate</th>\n",
              "      <th>2000_state_rate</th>\n",
              "      <th>10_20_state_difference</th>\n",
              "    </tr>\n",
              "  </thead>\n",
              "  <tbody>\n",
              "    <tr>\n",
              "      <th>51</th>\n",
              "      <td>0400000US72</td>\n",
              "      <td>Puerto Rico</td>\n",
              "      <td>Puerto Rico</td>\n",
              "      <td>28.8</td>\n",
              "      <td>54.0</td>\n",
              "      <td>54.0</td>\n",
              "      <td>-46.666667</td>\n",
              "    </tr>\n",
              "    <tr>\n",
              "      <th>40</th>\n",
              "      <td>0400000US45</td>\n",
              "      <td>South Carolina</td>\n",
              "      <td>South</td>\n",
              "      <td>57.5</td>\n",
              "      <td>75.0</td>\n",
              "      <td>68.0</td>\n",
              "      <td>-23.333333</td>\n",
              "    </tr>\n",
              "    <tr>\n",
              "      <th>1</th>\n",
              "      <td>0400000US02</td>\n",
              "      <td>Alaska</td>\n",
              "      <td>West</td>\n",
              "      <td>50.0</td>\n",
              "      <td>64.0</td>\n",
              "      <td>67.0</td>\n",
              "      <td>-21.875000</td>\n",
              "    </tr>\n",
              "    <tr>\n",
              "      <th>33</th>\n",
              "      <td>0400000US37</td>\n",
              "      <td>North Carolina</td>\n",
              "      <td>South</td>\n",
              "      <td>59.4</td>\n",
              "      <td>76.0</td>\n",
              "      <td>69.0</td>\n",
              "      <td>-21.842105</td>\n",
              "    </tr>\n",
              "    <tr>\n",
              "      <th>9</th>\n",
              "      <td>0400000US12</td>\n",
              "      <td>Florida</td>\n",
              "      <td>South</td>\n",
              "      <td>60.2</td>\n",
              "      <td>74.0</td>\n",
              "      <td>71.0</td>\n",
              "      <td>-18.648649</td>\n",
              "    </tr>\n",
              "    <tr>\n",
              "      <th>19</th>\n",
              "      <td>0400000US23</td>\n",
              "      <td>Maine</td>\n",
              "      <td>Northeast</td>\n",
              "      <td>55.6</td>\n",
              "      <td>68.0</td>\n",
              "      <td>67.0</td>\n",
              "      <td>-18.235294</td>\n",
              "    </tr>\n",
              "    <tr>\n",
              "      <th>10</th>\n",
              "      <td>0400000US13</td>\n",
              "      <td>Georgia</td>\n",
              "      <td>South</td>\n",
              "      <td>59.0</td>\n",
              "      <td>72.0</td>\n",
              "      <td>72.0</td>\n",
              "      <td>-18.055556</td>\n",
              "    </tr>\n",
              "    <tr>\n",
              "      <th>43</th>\n",
              "      <td>0400000US48</td>\n",
              "      <td>Texas</td>\n",
              "      <td>South</td>\n",
              "      <td>58.3</td>\n",
              "      <td>71.0</td>\n",
              "      <td>70.0</td>\n",
              "      <td>-17.887324</td>\n",
              "    </tr>\n",
              "    <tr>\n",
              "      <th>31</th>\n",
              "      <td>0400000US35</td>\n",
              "      <td>New Mexico</td>\n",
              "      <td>West</td>\n",
              "      <td>53.5</td>\n",
              "      <td>65.0</td>\n",
              "      <td>68.0</td>\n",
              "      <td>-17.692308</td>\n",
              "    </tr>\n",
              "    <tr>\n",
              "      <th>42</th>\n",
              "      <td>0400000US47</td>\n",
              "      <td>Tennessee</td>\n",
              "      <td>South</td>\n",
              "      <td>62.6</td>\n",
              "      <td>76.0</td>\n",
              "      <td>72.0</td>\n",
              "      <td>-17.631579</td>\n",
              "    </tr>\n",
              "    <tr>\n",
              "      <th>45</th>\n",
              "      <td>0400000US50</td>\n",
              "      <td>Vermont</td>\n",
              "      <td>Northeast</td>\n",
              "      <td>56.9</td>\n",
              "      <td>69.0</td>\n",
              "      <td>68.0</td>\n",
              "      <td>-17.536232</td>\n",
              "    </tr>\n",
              "    <tr>\n",
              "      <th>8</th>\n",
              "      <td>0400000US11</td>\n",
              "      <td>District of Columbia</td>\n",
              "      <td>South</td>\n",
              "      <td>59.7</td>\n",
              "      <td>72.0</td>\n",
              "      <td>69.0</td>\n",
              "      <td>-17.083333</td>\n",
              "    </tr>\n",
              "    <tr>\n",
              "      <th>50</th>\n",
              "      <td>0400000US56</td>\n",
              "      <td>Wyoming</td>\n",
              "      <td>West</td>\n",
              "      <td>57.6</td>\n",
              "      <td>69.0</td>\n",
              "      <td>75.0</td>\n",
              "      <td>-16.521739</td>\n",
              "    </tr>\n",
              "    <tr>\n",
              "      <th>39</th>\n",
              "      <td>0400000US44</td>\n",
              "      <td>Rhode Island</td>\n",
              "      <td>Northeast</td>\n",
              "      <td>61.0</td>\n",
              "      <td>73.0</td>\n",
              "      <td>73.0</td>\n",
              "      <td>-16.438356</td>\n",
              "    </tr>\n",
              "    <tr>\n",
              "      <th>26</th>\n",
              "      <td>0400000US30</td>\n",
              "      <td>Montana</td>\n",
              "      <td>West</td>\n",
              "      <td>56.9</td>\n",
              "      <td>68.0</td>\n",
              "      <td>72.0</td>\n",
              "      <td>-16.323529</td>\n",
              "    </tr>\n",
              "    <tr>\n",
              "      <th>3</th>\n",
              "      <td>0400000US05</td>\n",
              "      <td>Arkansas</td>\n",
              "      <td>South</td>\n",
              "      <td>57.9</td>\n",
              "      <td>69.0</td>\n",
              "      <td>70.0</td>\n",
              "      <td>-16.086957</td>\n",
              "    </tr>\n",
              "    <tr>\n",
              "      <th>24</th>\n",
              "      <td>0400000US28</td>\n",
              "      <td>Mississippi</td>\n",
              "      <td>South</td>\n",
              "      <td>58.0</td>\n",
              "      <td>69.0</td>\n",
              "      <td>70.0</td>\n",
              "      <td>-15.942029</td>\n",
              "    </tr>\n",
              "    <tr>\n",
              "      <th>0</th>\n",
              "      <td>0400000US01</td>\n",
              "      <td>Alabama</td>\n",
              "      <td>South</td>\n",
              "      <td>60.8</td>\n",
              "      <td>72.0</td>\n",
              "      <td>68.0</td>\n",
              "      <td>-15.555556</td>\n",
              "    </tr>\n",
              "    <tr>\n",
              "      <th>48</th>\n",
              "      <td>0400000US54</td>\n",
              "      <td>West Virginia</td>\n",
              "      <td>South</td>\n",
              "      <td>54.9</td>\n",
              "      <td>65.0</td>\n",
              "      <td>68.0</td>\n",
              "      <td>-15.538462</td>\n",
              "    </tr>\n",
              "    <tr>\n",
              "      <th>7</th>\n",
              "      <td>0400000US10</td>\n",
              "      <td>Delaware</td>\n",
              "      <td>South</td>\n",
              "      <td>60.9</td>\n",
              "      <td>72.0</td>\n",
              "      <td>71.0</td>\n",
              "      <td>-15.416667</td>\n",
              "    </tr>\n",
              "    <tr>\n",
              "      <th>41</th>\n",
              "      <td>0400000US46</td>\n",
              "      <td>South Dakota</td>\n",
              "      <td>Midwest</td>\n",
              "      <td>64.4</td>\n",
              "      <td>76.0</td>\n",
              "      <td>80.0</td>\n",
              "      <td>-15.263158</td>\n",
              "    </tr>\n",
              "    <tr>\n",
              "      <th>34</th>\n",
              "      <td>0400000US38</td>\n",
              "      <td>North Dakota</td>\n",
              "      <td>Midwest</td>\n",
              "      <td>62.8</td>\n",
              "      <td>74.0</td>\n",
              "      <td>78.0</td>\n",
              "      <td>-15.135135</td>\n",
              "    </tr>\n",
              "    <tr>\n",
              "      <th>49</th>\n",
              "      <td>0400000US55</td>\n",
              "      <td>Wisconsin</td>\n",
              "      <td>Midwest</td>\n",
              "      <td>69.8</td>\n",
              "      <td>82.0</td>\n",
              "      <td>85.0</td>\n",
              "      <td>-14.878049</td>\n",
              "    </tr>\n",
              "    <tr>\n",
              "      <th>36</th>\n",
              "      <td>0400000US40</td>\n",
              "      <td>Oklahoma</td>\n",
              "      <td>South</td>\n",
              "      <td>57.9</td>\n",
              "      <td>68.0</td>\n",
              "      <td>71.0</td>\n",
              "      <td>-14.852941</td>\n",
              "    </tr>\n",
              "    <tr>\n",
              "      <th>14</th>\n",
              "      <td>0400000US18</td>\n",
              "      <td>Indiana</td>\n",
              "      <td>Midwest</td>\n",
              "      <td>67.6</td>\n",
              "      <td>79.0</td>\n",
              "      <td>79.0</td>\n",
              "      <td>-14.430380</td>\n",
              "    </tr>\n",
              "    <tr>\n",
              "      <th>32</th>\n",
              "      <td>0400000US36</td>\n",
              "      <td>New York</td>\n",
              "      <td>Northeast</td>\n",
              "      <td>59.1</td>\n",
              "      <td>69.0</td>\n",
              "      <td>69.0</td>\n",
              "      <td>-14.347826</td>\n",
              "    </tr>\n",
              "    <tr>\n",
              "      <th>25</th>\n",
              "      <td>0400000US29</td>\n",
              "      <td>Missouri</td>\n",
              "      <td>Midwest</td>\n",
              "      <td>63.4</td>\n",
              "      <td>74.0</td>\n",
              "      <td>76.0</td>\n",
              "      <td>-14.324324</td>\n",
              "    </tr>\n",
              "    <tr>\n",
              "      <th>17</th>\n",
              "      <td>0400000US21</td>\n",
              "      <td>Kentucky</td>\n",
              "      <td>South</td>\n",
              "      <td>66.1</td>\n",
              "      <td>77.0</td>\n",
              "      <td>72.0</td>\n",
              "      <td>-14.155844</td>\n",
              "    </tr>\n",
              "    <tr>\n",
              "      <th>38</th>\n",
              "      <td>0400000US42</td>\n",
              "      <td>Pennsylvania</td>\n",
              "      <td>Northeast</td>\n",
              "      <td>66.3</td>\n",
              "      <td>77.0</td>\n",
              "      <td>78.0</td>\n",
              "      <td>-13.896104</td>\n",
              "    </tr>\n",
              "    <tr>\n",
              "      <th>29</th>\n",
              "      <td>0400000US33</td>\n",
              "      <td>New Hampshire</td>\n",
              "      <td>Northeast</td>\n",
              "      <td>63.2</td>\n",
              "      <td>73.0</td>\n",
              "      <td>74.0</td>\n",
              "      <td>-13.424658</td>\n",
              "    </tr>\n",
              "    <tr>\n",
              "      <th>37</th>\n",
              "      <td>0400000US41</td>\n",
              "      <td>Oregon</td>\n",
              "      <td>West</td>\n",
              "      <td>65.8</td>\n",
              "      <td>76.0</td>\n",
              "      <td>77.0</td>\n",
              "      <td>-13.421053</td>\n",
              "    </tr>\n",
              "    <tr>\n",
              "      <th>35</th>\n",
              "      <td>0400000US39</td>\n",
              "      <td>Ohio</td>\n",
              "      <td>Midwest</td>\n",
              "      <td>67.6</td>\n",
              "      <td>78.0</td>\n",
              "      <td>79.0</td>\n",
              "      <td>-13.333333</td>\n",
              "    </tr>\n",
              "    <tr>\n",
              "      <th>2</th>\n",
              "      <td>0400000US04</td>\n",
              "      <td>Arizona</td>\n",
              "      <td>West</td>\n",
              "      <td>60.0</td>\n",
              "      <td>69.0</td>\n",
              "      <td>70.0</td>\n",
              "      <td>-13.043478</td>\n",
              "    </tr>\n",
              "    <tr>\n",
              "      <th>46</th>\n",
              "      <td>0400000US51</td>\n",
              "      <td>Virginia</td>\n",
              "      <td>South</td>\n",
              "      <td>68.0</td>\n",
              "      <td>78.0</td>\n",
              "      <td>76.0</td>\n",
              "      <td>-12.820513</td>\n",
              "    </tr>\n",
              "    <tr>\n",
              "      <th>21</th>\n",
              "      <td>0400000US25</td>\n",
              "      <td>Massachusetts</td>\n",
              "      <td>Northeast</td>\n",
              "      <td>65.5</td>\n",
              "      <td>75.0</td>\n",
              "      <td>76.0</td>\n",
              "      <td>-12.666667</td>\n",
              "    </tr>\n",
              "    <tr>\n",
              "      <th>15</th>\n",
              "      <td>0400000US19</td>\n",
              "      <td>Iowa</td>\n",
              "      <td>Midwest</td>\n",
              "      <td>69.0</td>\n",
              "      <td>79.0</td>\n",
              "      <td>82.0</td>\n",
              "      <td>-12.658228</td>\n",
              "    </tr>\n",
              "    <tr>\n",
              "      <th>28</th>\n",
              "      <td>0400000US32</td>\n",
              "      <td>Nevada</td>\n",
              "      <td>West</td>\n",
              "      <td>62.4</td>\n",
              "      <td>71.0</td>\n",
              "      <td>71.0</td>\n",
              "      <td>-12.112676</td>\n",
              "    </tr>\n",
              "    <tr>\n",
              "      <th>30</th>\n",
              "      <td>0400000US34</td>\n",
              "      <td>New Jersey</td>\n",
              "      <td>Northeast</td>\n",
              "      <td>65.2</td>\n",
              "      <td>74.0</td>\n",
              "      <td>76.0</td>\n",
              "      <td>-11.891892</td>\n",
              "    </tr>\n",
              "    <tr>\n",
              "      <th>11</th>\n",
              "      <td>0400000US15</td>\n",
              "      <td>Hawaii</td>\n",
              "      <td>West</td>\n",
              "      <td>60.0</td>\n",
              "      <td>68.0</td>\n",
              "      <td>66.0</td>\n",
              "      <td>-11.764706</td>\n",
              "    </tr>\n",
              "    <tr>\n",
              "      <th>18</th>\n",
              "      <td>0400000US22</td>\n",
              "      <td>Louisiana</td>\n",
              "      <td>South</td>\n",
              "      <td>57.4</td>\n",
              "      <td>65.0</td>\n",
              "      <td>68.0</td>\n",
              "      <td>-11.692308</td>\n",
              "    </tr>\n",
              "    <tr>\n",
              "      <th>6</th>\n",
              "      <td>0400000US09</td>\n",
              "      <td>Connecticut</td>\n",
              "      <td>Northeast</td>\n",
              "      <td>67.2</td>\n",
              "      <td>76.0</td>\n",
              "      <td>78.0</td>\n",
              "      <td>-11.578947</td>\n",
              "    </tr>\n",
              "    <tr>\n",
              "      <th>22</th>\n",
              "      <td>0400000US26</td>\n",
              "      <td>Michigan</td>\n",
              "      <td>Midwest</td>\n",
              "      <td>69.0</td>\n",
              "      <td>78.0</td>\n",
              "      <td>79.0</td>\n",
              "      <td>-11.538462</td>\n",
              "    </tr>\n",
              "    <tr>\n",
              "      <th>16</th>\n",
              "      <td>0400000US20</td>\n",
              "      <td>Kansas</td>\n",
              "      <td>Midwest</td>\n",
              "      <td>67.3</td>\n",
              "      <td>76.0</td>\n",
              "      <td>78.0</td>\n",
              "      <td>-11.447368</td>\n",
              "    </tr>\n",
              "    <tr>\n",
              "      <th>4</th>\n",
              "      <td>0400000US06</td>\n",
              "      <td>California</td>\n",
              "      <td>West</td>\n",
              "      <td>64.7</td>\n",
              "      <td>73.0</td>\n",
              "      <td>76.0</td>\n",
              "      <td>-11.369863</td>\n",
              "    </tr>\n",
              "    <tr>\n",
              "      <th>20</th>\n",
              "      <td>0400000US24</td>\n",
              "      <td>Maryland</td>\n",
              "      <td>South</td>\n",
              "      <td>67.5</td>\n",
              "      <td>76.0</td>\n",
              "      <td>76.0</td>\n",
              "      <td>-11.184211</td>\n",
              "    </tr>\n",
              "    <tr>\n",
              "      <th>12</th>\n",
              "      <td>0400000US16</td>\n",
              "      <td>Idaho</td>\n",
              "      <td>West</td>\n",
              "      <td>67.8</td>\n",
              "      <td>76.0</td>\n",
              "      <td>77.0</td>\n",
              "      <td>-10.789474</td>\n",
              "    </tr>\n",
              "    <tr>\n",
              "      <th>23</th>\n",
              "      <td>0400000US27</td>\n",
              "      <td>Minnesota</td>\n",
              "      <td>Midwest</td>\n",
              "      <td>72.5</td>\n",
              "      <td>81.0</td>\n",
              "      <td>81.0</td>\n",
              "      <td>-10.493827</td>\n",
              "    </tr>\n",
              "    <tr>\n",
              "      <th>27</th>\n",
              "      <td>0400000US31</td>\n",
              "      <td>Nebraska</td>\n",
              "      <td>Midwest</td>\n",
              "      <td>69.0</td>\n",
              "      <td>77.0</td>\n",
              "      <td>81.0</td>\n",
              "      <td>-10.389610</td>\n",
              "    </tr>\n",
              "    <tr>\n",
              "      <th>13</th>\n",
              "      <td>0400000US17</td>\n",
              "      <td>Illinois</td>\n",
              "      <td>Midwest</td>\n",
              "      <td>68.2</td>\n",
              "      <td>76.0</td>\n",
              "      <td>76.0</td>\n",
              "      <td>-10.263158</td>\n",
              "    </tr>\n",
              "    <tr>\n",
              "      <th>44</th>\n",
              "      <td>0400000US49</td>\n",
              "      <td>Utah</td>\n",
              "      <td>West</td>\n",
              "      <td>67.5</td>\n",
              "      <td>75.0</td>\n",
              "      <td>74.0</td>\n",
              "      <td>-10.000000</td>\n",
              "    </tr>\n",
              "    <tr>\n",
              "      <th>47</th>\n",
              "      <td>0400000US53</td>\n",
              "      <td>Washington</td>\n",
              "      <td>West</td>\n",
              "      <td>69.2</td>\n",
              "      <td>76.0</td>\n",
              "      <td>75.0</td>\n",
              "      <td>-8.947368</td>\n",
              "    </tr>\n",
              "    <tr>\n",
              "      <th>5</th>\n",
              "      <td>0400000US08</td>\n",
              "      <td>Colorado</td>\n",
              "      <td>West</td>\n",
              "      <td>66.6</td>\n",
              "      <td>72.0</td>\n",
              "      <td>75.0</td>\n",
              "      <td>-7.500000</td>\n",
              "    </tr>\n",
              "  </tbody>\n",
              "</table>\n",
              "</div>"
            ],
            "text/plain": [
              "         GEO_ID                 State  ... 2000_state_rate  10_20_state_difference\n",
              "51  0400000US72           Puerto Rico  ...            54.0              -46.666667\n",
              "40  0400000US45        South Carolina  ...            68.0              -23.333333\n",
              "1   0400000US02                Alaska  ...            67.0              -21.875000\n",
              "33  0400000US37        North Carolina  ...            69.0              -21.842105\n",
              "9   0400000US12               Florida  ...            71.0              -18.648649\n",
              "19  0400000US23                 Maine  ...            67.0              -18.235294\n",
              "10  0400000US13               Georgia  ...            72.0              -18.055556\n",
              "43  0400000US48                 Texas  ...            70.0              -17.887324\n",
              "31  0400000US35            New Mexico  ...            68.0              -17.692308\n",
              "42  0400000US47             Tennessee  ...            72.0              -17.631579\n",
              "45  0400000US50               Vermont  ...            68.0              -17.536232\n",
              "8   0400000US11  District of Columbia  ...            69.0              -17.083333\n",
              "50  0400000US56               Wyoming  ...            75.0              -16.521739\n",
              "39  0400000US44          Rhode Island  ...            73.0              -16.438356\n",
              "26  0400000US30               Montana  ...            72.0              -16.323529\n",
              "3   0400000US05              Arkansas  ...            70.0              -16.086957\n",
              "24  0400000US28           Mississippi  ...            70.0              -15.942029\n",
              "0   0400000US01               Alabama  ...            68.0              -15.555556\n",
              "48  0400000US54         West Virginia  ...            68.0              -15.538462\n",
              "7   0400000US10              Delaware  ...            71.0              -15.416667\n",
              "41  0400000US46          South Dakota  ...            80.0              -15.263158\n",
              "34  0400000US38          North Dakota  ...            78.0              -15.135135\n",
              "49  0400000US55             Wisconsin  ...            85.0              -14.878049\n",
              "36  0400000US40              Oklahoma  ...            71.0              -14.852941\n",
              "14  0400000US18               Indiana  ...            79.0              -14.430380\n",
              "32  0400000US36              New York  ...            69.0              -14.347826\n",
              "25  0400000US29              Missouri  ...            76.0              -14.324324\n",
              "17  0400000US21              Kentucky  ...            72.0              -14.155844\n",
              "38  0400000US42          Pennsylvania  ...            78.0              -13.896104\n",
              "29  0400000US33         New Hampshire  ...            74.0              -13.424658\n",
              "37  0400000US41                Oregon  ...            77.0              -13.421053\n",
              "35  0400000US39                  Ohio  ...            79.0              -13.333333\n",
              "2   0400000US04               Arizona  ...            70.0              -13.043478\n",
              "46  0400000US51              Virginia  ...            76.0              -12.820513\n",
              "21  0400000US25         Massachusetts  ...            76.0              -12.666667\n",
              "15  0400000US19                  Iowa  ...            82.0              -12.658228\n",
              "28  0400000US32                Nevada  ...            71.0              -12.112676\n",
              "30  0400000US34            New Jersey  ...            76.0              -11.891892\n",
              "11  0400000US15                Hawaii  ...            66.0              -11.764706\n",
              "18  0400000US22             Louisiana  ...            68.0              -11.692308\n",
              "6   0400000US09           Connecticut  ...            78.0              -11.578947\n",
              "22  0400000US26              Michigan  ...            79.0              -11.538462\n",
              "16  0400000US20                Kansas  ...            78.0              -11.447368\n",
              "4   0400000US06            California  ...            76.0              -11.369863\n",
              "20  0400000US24              Maryland  ...            76.0              -11.184211\n",
              "12  0400000US16                 Idaho  ...            77.0              -10.789474\n",
              "23  0400000US27             Minnesota  ...            81.0              -10.493827\n",
              "27  0400000US31              Nebraska  ...            81.0              -10.389610\n",
              "13  0400000US17              Illinois  ...            76.0              -10.263158\n",
              "44  0400000US49                  Utah  ...            74.0              -10.000000\n",
              "47  0400000US53            Washington  ...            75.0               -8.947368\n",
              "5   0400000US08              Colorado  ...            75.0               -7.500000\n",
              "\n",
              "[52 rows x 7 columns]"
            ]
          },
          "metadata": {
            "tags": []
          }
        }
      ]
    },
    {
      "cell_type": "code",
      "metadata": {
        "id": "wa9eTPMXV0XJ",
        "colab_type": "code",
        "colab": {
          "base_uri": "https://localhost:8080/",
          "height": 1000
        },
        "outputId": "4aec0a8b-0752-4571-8bee-518a51494979"
      },
      "source": [
        "display(states.sort_values(by='2020_state_rate'))"
      ],
      "execution_count": 58,
      "outputs": [
        {
          "output_type": "display_data",
          "data": {
            "text/html": [
              "<div>\n",
              "<style scoped>\n",
              "    .dataframe tbody tr th:only-of-type {\n",
              "        vertical-align: middle;\n",
              "    }\n",
              "\n",
              "    .dataframe tbody tr th {\n",
              "        vertical-align: top;\n",
              "    }\n",
              "\n",
              "    .dataframe thead th {\n",
              "        text-align: right;\n",
              "    }\n",
              "</style>\n",
              "<table border=\"1\" class=\"dataframe\">\n",
              "  <thead>\n",
              "    <tr style=\"text-align: right;\">\n",
              "      <th></th>\n",
              "      <th>GEO_ID</th>\n",
              "      <th>State</th>\n",
              "      <th>Region</th>\n",
              "      <th>2020_state_rate</th>\n",
              "      <th>2010_state_rate</th>\n",
              "      <th>2000_state_rate</th>\n",
              "      <th>10_20_state_difference</th>\n",
              "    </tr>\n",
              "  </thead>\n",
              "  <tbody>\n",
              "    <tr>\n",
              "      <th>51</th>\n",
              "      <td>0400000US72</td>\n",
              "      <td>Puerto Rico</td>\n",
              "      <td>Puerto Rico</td>\n",
              "      <td>28.8</td>\n",
              "      <td>54.0</td>\n",
              "      <td>54.0</td>\n",
              "      <td>-46.666667</td>\n",
              "    </tr>\n",
              "    <tr>\n",
              "      <th>1</th>\n",
              "      <td>0400000US02</td>\n",
              "      <td>Alaska</td>\n",
              "      <td>West</td>\n",
              "      <td>50.0</td>\n",
              "      <td>64.0</td>\n",
              "      <td>67.0</td>\n",
              "      <td>-21.875000</td>\n",
              "    </tr>\n",
              "    <tr>\n",
              "      <th>31</th>\n",
              "      <td>0400000US35</td>\n",
              "      <td>New Mexico</td>\n",
              "      <td>West</td>\n",
              "      <td>53.5</td>\n",
              "      <td>65.0</td>\n",
              "      <td>68.0</td>\n",
              "      <td>-17.692308</td>\n",
              "    </tr>\n",
              "    <tr>\n",
              "      <th>48</th>\n",
              "      <td>0400000US54</td>\n",
              "      <td>West Virginia</td>\n",
              "      <td>South</td>\n",
              "      <td>54.9</td>\n",
              "      <td>65.0</td>\n",
              "      <td>68.0</td>\n",
              "      <td>-15.538462</td>\n",
              "    </tr>\n",
              "    <tr>\n",
              "      <th>19</th>\n",
              "      <td>0400000US23</td>\n",
              "      <td>Maine</td>\n",
              "      <td>Northeast</td>\n",
              "      <td>55.6</td>\n",
              "      <td>68.0</td>\n",
              "      <td>67.0</td>\n",
              "      <td>-18.235294</td>\n",
              "    </tr>\n",
              "    <tr>\n",
              "      <th>45</th>\n",
              "      <td>0400000US50</td>\n",
              "      <td>Vermont</td>\n",
              "      <td>Northeast</td>\n",
              "      <td>56.9</td>\n",
              "      <td>69.0</td>\n",
              "      <td>68.0</td>\n",
              "      <td>-17.536232</td>\n",
              "    </tr>\n",
              "    <tr>\n",
              "      <th>26</th>\n",
              "      <td>0400000US30</td>\n",
              "      <td>Montana</td>\n",
              "      <td>West</td>\n",
              "      <td>56.9</td>\n",
              "      <td>68.0</td>\n",
              "      <td>72.0</td>\n",
              "      <td>-16.323529</td>\n",
              "    </tr>\n",
              "    <tr>\n",
              "      <th>18</th>\n",
              "      <td>0400000US22</td>\n",
              "      <td>Louisiana</td>\n",
              "      <td>South</td>\n",
              "      <td>57.4</td>\n",
              "      <td>65.0</td>\n",
              "      <td>68.0</td>\n",
              "      <td>-11.692308</td>\n",
              "    </tr>\n",
              "    <tr>\n",
              "      <th>40</th>\n",
              "      <td>0400000US45</td>\n",
              "      <td>South Carolina</td>\n",
              "      <td>South</td>\n",
              "      <td>57.5</td>\n",
              "      <td>75.0</td>\n",
              "      <td>68.0</td>\n",
              "      <td>-23.333333</td>\n",
              "    </tr>\n",
              "    <tr>\n",
              "      <th>50</th>\n",
              "      <td>0400000US56</td>\n",
              "      <td>Wyoming</td>\n",
              "      <td>West</td>\n",
              "      <td>57.6</td>\n",
              "      <td>69.0</td>\n",
              "      <td>75.0</td>\n",
              "      <td>-16.521739</td>\n",
              "    </tr>\n",
              "    <tr>\n",
              "      <th>3</th>\n",
              "      <td>0400000US05</td>\n",
              "      <td>Arkansas</td>\n",
              "      <td>South</td>\n",
              "      <td>57.9</td>\n",
              "      <td>69.0</td>\n",
              "      <td>70.0</td>\n",
              "      <td>-16.086957</td>\n",
              "    </tr>\n",
              "    <tr>\n",
              "      <th>36</th>\n",
              "      <td>0400000US40</td>\n",
              "      <td>Oklahoma</td>\n",
              "      <td>South</td>\n",
              "      <td>57.9</td>\n",
              "      <td>68.0</td>\n",
              "      <td>71.0</td>\n",
              "      <td>-14.852941</td>\n",
              "    </tr>\n",
              "    <tr>\n",
              "      <th>24</th>\n",
              "      <td>0400000US28</td>\n",
              "      <td>Mississippi</td>\n",
              "      <td>South</td>\n",
              "      <td>58.0</td>\n",
              "      <td>69.0</td>\n",
              "      <td>70.0</td>\n",
              "      <td>-15.942029</td>\n",
              "    </tr>\n",
              "    <tr>\n",
              "      <th>43</th>\n",
              "      <td>0400000US48</td>\n",
              "      <td>Texas</td>\n",
              "      <td>South</td>\n",
              "      <td>58.3</td>\n",
              "      <td>71.0</td>\n",
              "      <td>70.0</td>\n",
              "      <td>-17.887324</td>\n",
              "    </tr>\n",
              "    <tr>\n",
              "      <th>10</th>\n",
              "      <td>0400000US13</td>\n",
              "      <td>Georgia</td>\n",
              "      <td>South</td>\n",
              "      <td>59.0</td>\n",
              "      <td>72.0</td>\n",
              "      <td>72.0</td>\n",
              "      <td>-18.055556</td>\n",
              "    </tr>\n",
              "    <tr>\n",
              "      <th>32</th>\n",
              "      <td>0400000US36</td>\n",
              "      <td>New York</td>\n",
              "      <td>Northeast</td>\n",
              "      <td>59.1</td>\n",
              "      <td>69.0</td>\n",
              "      <td>69.0</td>\n",
              "      <td>-14.347826</td>\n",
              "    </tr>\n",
              "    <tr>\n",
              "      <th>33</th>\n",
              "      <td>0400000US37</td>\n",
              "      <td>North Carolina</td>\n",
              "      <td>South</td>\n",
              "      <td>59.4</td>\n",
              "      <td>76.0</td>\n",
              "      <td>69.0</td>\n",
              "      <td>-21.842105</td>\n",
              "    </tr>\n",
              "    <tr>\n",
              "      <th>8</th>\n",
              "      <td>0400000US11</td>\n",
              "      <td>District of Columbia</td>\n",
              "      <td>South</td>\n",
              "      <td>59.7</td>\n",
              "      <td>72.0</td>\n",
              "      <td>69.0</td>\n",
              "      <td>-17.083333</td>\n",
              "    </tr>\n",
              "    <tr>\n",
              "      <th>2</th>\n",
              "      <td>0400000US04</td>\n",
              "      <td>Arizona</td>\n",
              "      <td>West</td>\n",
              "      <td>60.0</td>\n",
              "      <td>69.0</td>\n",
              "      <td>70.0</td>\n",
              "      <td>-13.043478</td>\n",
              "    </tr>\n",
              "    <tr>\n",
              "      <th>11</th>\n",
              "      <td>0400000US15</td>\n",
              "      <td>Hawaii</td>\n",
              "      <td>West</td>\n",
              "      <td>60.0</td>\n",
              "      <td>68.0</td>\n",
              "      <td>66.0</td>\n",
              "      <td>-11.764706</td>\n",
              "    </tr>\n",
              "    <tr>\n",
              "      <th>9</th>\n",
              "      <td>0400000US12</td>\n",
              "      <td>Florida</td>\n",
              "      <td>South</td>\n",
              "      <td>60.2</td>\n",
              "      <td>74.0</td>\n",
              "      <td>71.0</td>\n",
              "      <td>-18.648649</td>\n",
              "    </tr>\n",
              "    <tr>\n",
              "      <th>0</th>\n",
              "      <td>0400000US01</td>\n",
              "      <td>Alabama</td>\n",
              "      <td>South</td>\n",
              "      <td>60.8</td>\n",
              "      <td>72.0</td>\n",
              "      <td>68.0</td>\n",
              "      <td>-15.555556</td>\n",
              "    </tr>\n",
              "    <tr>\n",
              "      <th>7</th>\n",
              "      <td>0400000US10</td>\n",
              "      <td>Delaware</td>\n",
              "      <td>South</td>\n",
              "      <td>60.9</td>\n",
              "      <td>72.0</td>\n",
              "      <td>71.0</td>\n",
              "      <td>-15.416667</td>\n",
              "    </tr>\n",
              "    <tr>\n",
              "      <th>39</th>\n",
              "      <td>0400000US44</td>\n",
              "      <td>Rhode Island</td>\n",
              "      <td>Northeast</td>\n",
              "      <td>61.0</td>\n",
              "      <td>73.0</td>\n",
              "      <td>73.0</td>\n",
              "      <td>-16.438356</td>\n",
              "    </tr>\n",
              "    <tr>\n",
              "      <th>28</th>\n",
              "      <td>0400000US32</td>\n",
              "      <td>Nevada</td>\n",
              "      <td>West</td>\n",
              "      <td>62.4</td>\n",
              "      <td>71.0</td>\n",
              "      <td>71.0</td>\n",
              "      <td>-12.112676</td>\n",
              "    </tr>\n",
              "    <tr>\n",
              "      <th>42</th>\n",
              "      <td>0400000US47</td>\n",
              "      <td>Tennessee</td>\n",
              "      <td>South</td>\n",
              "      <td>62.6</td>\n",
              "      <td>76.0</td>\n",
              "      <td>72.0</td>\n",
              "      <td>-17.631579</td>\n",
              "    </tr>\n",
              "    <tr>\n",
              "      <th>34</th>\n",
              "      <td>0400000US38</td>\n",
              "      <td>North Dakota</td>\n",
              "      <td>Midwest</td>\n",
              "      <td>62.8</td>\n",
              "      <td>74.0</td>\n",
              "      <td>78.0</td>\n",
              "      <td>-15.135135</td>\n",
              "    </tr>\n",
              "    <tr>\n",
              "      <th>29</th>\n",
              "      <td>0400000US33</td>\n",
              "      <td>New Hampshire</td>\n",
              "      <td>Northeast</td>\n",
              "      <td>63.2</td>\n",
              "      <td>73.0</td>\n",
              "      <td>74.0</td>\n",
              "      <td>-13.424658</td>\n",
              "    </tr>\n",
              "    <tr>\n",
              "      <th>25</th>\n",
              "      <td>0400000US29</td>\n",
              "      <td>Missouri</td>\n",
              "      <td>Midwest</td>\n",
              "      <td>63.4</td>\n",
              "      <td>74.0</td>\n",
              "      <td>76.0</td>\n",
              "      <td>-14.324324</td>\n",
              "    </tr>\n",
              "    <tr>\n",
              "      <th>41</th>\n",
              "      <td>0400000US46</td>\n",
              "      <td>South Dakota</td>\n",
              "      <td>Midwest</td>\n",
              "      <td>64.4</td>\n",
              "      <td>76.0</td>\n",
              "      <td>80.0</td>\n",
              "      <td>-15.263158</td>\n",
              "    </tr>\n",
              "    <tr>\n",
              "      <th>4</th>\n",
              "      <td>0400000US06</td>\n",
              "      <td>California</td>\n",
              "      <td>West</td>\n",
              "      <td>64.7</td>\n",
              "      <td>73.0</td>\n",
              "      <td>76.0</td>\n",
              "      <td>-11.369863</td>\n",
              "    </tr>\n",
              "    <tr>\n",
              "      <th>30</th>\n",
              "      <td>0400000US34</td>\n",
              "      <td>New Jersey</td>\n",
              "      <td>Northeast</td>\n",
              "      <td>65.2</td>\n",
              "      <td>74.0</td>\n",
              "      <td>76.0</td>\n",
              "      <td>-11.891892</td>\n",
              "    </tr>\n",
              "    <tr>\n",
              "      <th>21</th>\n",
              "      <td>0400000US25</td>\n",
              "      <td>Massachusetts</td>\n",
              "      <td>Northeast</td>\n",
              "      <td>65.5</td>\n",
              "      <td>75.0</td>\n",
              "      <td>76.0</td>\n",
              "      <td>-12.666667</td>\n",
              "    </tr>\n",
              "    <tr>\n",
              "      <th>37</th>\n",
              "      <td>0400000US41</td>\n",
              "      <td>Oregon</td>\n",
              "      <td>West</td>\n",
              "      <td>65.8</td>\n",
              "      <td>76.0</td>\n",
              "      <td>77.0</td>\n",
              "      <td>-13.421053</td>\n",
              "    </tr>\n",
              "    <tr>\n",
              "      <th>17</th>\n",
              "      <td>0400000US21</td>\n",
              "      <td>Kentucky</td>\n",
              "      <td>South</td>\n",
              "      <td>66.1</td>\n",
              "      <td>77.0</td>\n",
              "      <td>72.0</td>\n",
              "      <td>-14.155844</td>\n",
              "    </tr>\n",
              "    <tr>\n",
              "      <th>38</th>\n",
              "      <td>0400000US42</td>\n",
              "      <td>Pennsylvania</td>\n",
              "      <td>Northeast</td>\n",
              "      <td>66.3</td>\n",
              "      <td>77.0</td>\n",
              "      <td>78.0</td>\n",
              "      <td>-13.896104</td>\n",
              "    </tr>\n",
              "    <tr>\n",
              "      <th>5</th>\n",
              "      <td>0400000US08</td>\n",
              "      <td>Colorado</td>\n",
              "      <td>West</td>\n",
              "      <td>66.6</td>\n",
              "      <td>72.0</td>\n",
              "      <td>75.0</td>\n",
              "      <td>-7.500000</td>\n",
              "    </tr>\n",
              "    <tr>\n",
              "      <th>6</th>\n",
              "      <td>0400000US09</td>\n",
              "      <td>Connecticut</td>\n",
              "      <td>Northeast</td>\n",
              "      <td>67.2</td>\n",
              "      <td>76.0</td>\n",
              "      <td>78.0</td>\n",
              "      <td>-11.578947</td>\n",
              "    </tr>\n",
              "    <tr>\n",
              "      <th>16</th>\n",
              "      <td>0400000US20</td>\n",
              "      <td>Kansas</td>\n",
              "      <td>Midwest</td>\n",
              "      <td>67.3</td>\n",
              "      <td>76.0</td>\n",
              "      <td>78.0</td>\n",
              "      <td>-11.447368</td>\n",
              "    </tr>\n",
              "    <tr>\n",
              "      <th>44</th>\n",
              "      <td>0400000US49</td>\n",
              "      <td>Utah</td>\n",
              "      <td>West</td>\n",
              "      <td>67.5</td>\n",
              "      <td>75.0</td>\n",
              "      <td>74.0</td>\n",
              "      <td>-10.000000</td>\n",
              "    </tr>\n",
              "    <tr>\n",
              "      <th>20</th>\n",
              "      <td>0400000US24</td>\n",
              "      <td>Maryland</td>\n",
              "      <td>South</td>\n",
              "      <td>67.5</td>\n",
              "      <td>76.0</td>\n",
              "      <td>76.0</td>\n",
              "      <td>-11.184211</td>\n",
              "    </tr>\n",
              "    <tr>\n",
              "      <th>35</th>\n",
              "      <td>0400000US39</td>\n",
              "      <td>Ohio</td>\n",
              "      <td>Midwest</td>\n",
              "      <td>67.6</td>\n",
              "      <td>78.0</td>\n",
              "      <td>79.0</td>\n",
              "      <td>-13.333333</td>\n",
              "    </tr>\n",
              "    <tr>\n",
              "      <th>14</th>\n",
              "      <td>0400000US18</td>\n",
              "      <td>Indiana</td>\n",
              "      <td>Midwest</td>\n",
              "      <td>67.6</td>\n",
              "      <td>79.0</td>\n",
              "      <td>79.0</td>\n",
              "      <td>-14.430380</td>\n",
              "    </tr>\n",
              "    <tr>\n",
              "      <th>12</th>\n",
              "      <td>0400000US16</td>\n",
              "      <td>Idaho</td>\n",
              "      <td>West</td>\n",
              "      <td>67.8</td>\n",
              "      <td>76.0</td>\n",
              "      <td>77.0</td>\n",
              "      <td>-10.789474</td>\n",
              "    </tr>\n",
              "    <tr>\n",
              "      <th>46</th>\n",
              "      <td>0400000US51</td>\n",
              "      <td>Virginia</td>\n",
              "      <td>South</td>\n",
              "      <td>68.0</td>\n",
              "      <td>78.0</td>\n",
              "      <td>76.0</td>\n",
              "      <td>-12.820513</td>\n",
              "    </tr>\n",
              "    <tr>\n",
              "      <th>13</th>\n",
              "      <td>0400000US17</td>\n",
              "      <td>Illinois</td>\n",
              "      <td>Midwest</td>\n",
              "      <td>68.2</td>\n",
              "      <td>76.0</td>\n",
              "      <td>76.0</td>\n",
              "      <td>-10.263158</td>\n",
              "    </tr>\n",
              "    <tr>\n",
              "      <th>15</th>\n",
              "      <td>0400000US19</td>\n",
              "      <td>Iowa</td>\n",
              "      <td>Midwest</td>\n",
              "      <td>69.0</td>\n",
              "      <td>79.0</td>\n",
              "      <td>82.0</td>\n",
              "      <td>-12.658228</td>\n",
              "    </tr>\n",
              "    <tr>\n",
              "      <th>27</th>\n",
              "      <td>0400000US31</td>\n",
              "      <td>Nebraska</td>\n",
              "      <td>Midwest</td>\n",
              "      <td>69.0</td>\n",
              "      <td>77.0</td>\n",
              "      <td>81.0</td>\n",
              "      <td>-10.389610</td>\n",
              "    </tr>\n",
              "    <tr>\n",
              "      <th>22</th>\n",
              "      <td>0400000US26</td>\n",
              "      <td>Michigan</td>\n",
              "      <td>Midwest</td>\n",
              "      <td>69.0</td>\n",
              "      <td>78.0</td>\n",
              "      <td>79.0</td>\n",
              "      <td>-11.538462</td>\n",
              "    </tr>\n",
              "    <tr>\n",
              "      <th>47</th>\n",
              "      <td>0400000US53</td>\n",
              "      <td>Washington</td>\n",
              "      <td>West</td>\n",
              "      <td>69.2</td>\n",
              "      <td>76.0</td>\n",
              "      <td>75.0</td>\n",
              "      <td>-8.947368</td>\n",
              "    </tr>\n",
              "    <tr>\n",
              "      <th>49</th>\n",
              "      <td>0400000US55</td>\n",
              "      <td>Wisconsin</td>\n",
              "      <td>Midwest</td>\n",
              "      <td>69.8</td>\n",
              "      <td>82.0</td>\n",
              "      <td>85.0</td>\n",
              "      <td>-14.878049</td>\n",
              "    </tr>\n",
              "    <tr>\n",
              "      <th>23</th>\n",
              "      <td>0400000US27</td>\n",
              "      <td>Minnesota</td>\n",
              "      <td>Midwest</td>\n",
              "      <td>72.5</td>\n",
              "      <td>81.0</td>\n",
              "      <td>81.0</td>\n",
              "      <td>-10.493827</td>\n",
              "    </tr>\n",
              "  </tbody>\n",
              "</table>\n",
              "</div>"
            ],
            "text/plain": [
              "         GEO_ID                 State  ... 2000_state_rate  10_20_state_difference\n",
              "51  0400000US72           Puerto Rico  ...            54.0              -46.666667\n",
              "1   0400000US02                Alaska  ...            67.0              -21.875000\n",
              "31  0400000US35            New Mexico  ...            68.0              -17.692308\n",
              "48  0400000US54         West Virginia  ...            68.0              -15.538462\n",
              "19  0400000US23                 Maine  ...            67.0              -18.235294\n",
              "45  0400000US50               Vermont  ...            68.0              -17.536232\n",
              "26  0400000US30               Montana  ...            72.0              -16.323529\n",
              "18  0400000US22             Louisiana  ...            68.0              -11.692308\n",
              "40  0400000US45        South Carolina  ...            68.0              -23.333333\n",
              "50  0400000US56               Wyoming  ...            75.0              -16.521739\n",
              "3   0400000US05              Arkansas  ...            70.0              -16.086957\n",
              "36  0400000US40              Oklahoma  ...            71.0              -14.852941\n",
              "24  0400000US28           Mississippi  ...            70.0              -15.942029\n",
              "43  0400000US48                 Texas  ...            70.0              -17.887324\n",
              "10  0400000US13               Georgia  ...            72.0              -18.055556\n",
              "32  0400000US36              New York  ...            69.0              -14.347826\n",
              "33  0400000US37        North Carolina  ...            69.0              -21.842105\n",
              "8   0400000US11  District of Columbia  ...            69.0              -17.083333\n",
              "2   0400000US04               Arizona  ...            70.0              -13.043478\n",
              "11  0400000US15                Hawaii  ...            66.0              -11.764706\n",
              "9   0400000US12               Florida  ...            71.0              -18.648649\n",
              "0   0400000US01               Alabama  ...            68.0              -15.555556\n",
              "7   0400000US10              Delaware  ...            71.0              -15.416667\n",
              "39  0400000US44          Rhode Island  ...            73.0              -16.438356\n",
              "28  0400000US32                Nevada  ...            71.0              -12.112676\n",
              "42  0400000US47             Tennessee  ...            72.0              -17.631579\n",
              "34  0400000US38          North Dakota  ...            78.0              -15.135135\n",
              "29  0400000US33         New Hampshire  ...            74.0              -13.424658\n",
              "25  0400000US29              Missouri  ...            76.0              -14.324324\n",
              "41  0400000US46          South Dakota  ...            80.0              -15.263158\n",
              "4   0400000US06            California  ...            76.0              -11.369863\n",
              "30  0400000US34            New Jersey  ...            76.0              -11.891892\n",
              "21  0400000US25         Massachusetts  ...            76.0              -12.666667\n",
              "37  0400000US41                Oregon  ...            77.0              -13.421053\n",
              "17  0400000US21              Kentucky  ...            72.0              -14.155844\n",
              "38  0400000US42          Pennsylvania  ...            78.0              -13.896104\n",
              "5   0400000US08              Colorado  ...            75.0               -7.500000\n",
              "6   0400000US09           Connecticut  ...            78.0              -11.578947\n",
              "16  0400000US20                Kansas  ...            78.0              -11.447368\n",
              "44  0400000US49                  Utah  ...            74.0              -10.000000\n",
              "20  0400000US24              Maryland  ...            76.0              -11.184211\n",
              "35  0400000US39                  Ohio  ...            79.0              -13.333333\n",
              "14  0400000US18               Indiana  ...            79.0              -14.430380\n",
              "12  0400000US16                 Idaho  ...            77.0              -10.789474\n",
              "46  0400000US51              Virginia  ...            76.0              -12.820513\n",
              "13  0400000US17              Illinois  ...            76.0              -10.263158\n",
              "15  0400000US19                  Iowa  ...            82.0              -12.658228\n",
              "27  0400000US31              Nebraska  ...            81.0              -10.389610\n",
              "22  0400000US26              Michigan  ...            79.0              -11.538462\n",
              "47  0400000US53            Washington  ...            75.0               -8.947368\n",
              "49  0400000US55             Wisconsin  ...            85.0              -14.878049\n",
              "23  0400000US27             Minnesota  ...            81.0              -10.493827\n",
              "\n",
              "[52 rows x 7 columns]"
            ]
          },
          "metadata": {
            "tags": []
          }
        }
      ]
    },
    {
      "cell_type": "code",
      "metadata": {
        "id": "Q_Nmi1qnOdBp",
        "colab_type": "code",
        "colab": {}
      },
      "source": [
        "temp = df[df['State']=='Puerto Rico'].sort_values(by='2020_tract_rate', ascending=False)\n",
        "\n",
        "print(\"# Puerto Rico Tracts with 2020 response rate greater than 2010:\",\n",
        "      len(temp[temp['2020_tract_rate'] >= temp['2010_tract_rate']]), \n",
        "      \"\\n\\n\", temp[temp['2020_tract_rate'] >= temp['2010_tract_rate']].sort_values(by='2020_tract_rate', ascending=False))\n"
      ],
      "execution_count": null,
      "outputs": []
    },
    {
      "cell_type": "code",
      "metadata": {
        "colab_type": "code",
        "id": "qUdQSt4KGhOq",
        "colab": {
          "base_uri": "https://localhost:8080/",
          "height": 1000
        },
        "outputId": "32eec089-7687-4c46-e480-d6d7cab1b91f"
      },
      "source": [
        "#how many tracts have lower response rate than in 2010\n",
        "lower = df.loc[(df['2020_tract_rate'] < df['2010_tract_rate']\n",
        "            ) & (df['10_20_tract_difference'] != -1)].sort_values(\n",
        "        by='10_20_tract_difference', ascending=True)\n",
        "            \n",
        "#see what percent of state tracts have lower response\n",
        "temp = pd.merge(pd.DataFrame(lower['State'].value_counts()).reset_index().rename(columns={'index':'state', 'State':'count_lower'}),\n",
        "    pd.DataFrame(df['State'].value_counts()).reset_index().rename(columns={'index':'state', 'State':'count'}),\n",
        "    on=['state'])\n",
        "\n",
        "temp['lower_percent'] = (temp['count_lower']*100) / temp['count']\n",
        "\n",
        "print(\n",
        "    \"Total lower tracts:\", sum(temp['count_lower']),\n",
        "    '\\nLowers as % of all tracts:', \n",
        "    (sum(temp['count_lower'])*100) / sum(temp['count']), \"\\n\",\n",
        "    len(lower), \"of\", len(df), \"total tracts, or\", len(lower)*100/len(df), \"% have lower \\nresponse rates in 2020 than 2010\\n\",\n",
        "    \"\\n\",temp.sort_values(by=\"lower_percent\"), \"\\n\\n\",)"
      ],
      "execution_count": 60,
      "outputs": [
        {
          "output_type": "stream",
          "text": [
            "Total lower tracts: 74947 \n",
            "Lowers as % of all tracts: 72.38458566737492 \n",
            " 74947 of 103540 total tracts, or 72.38458566737492 % have lower \n",
            "response rates in 2020 than 2010\n",
            " \n",
            "                    state  count_lower  count  lower_percent\n",
            "31            Washington          918   2404      38.186356\n",
            "45                 Idaho          245    567      43.209877\n",
            "49         New Hampshire          192    409      46.943765\n",
            "14              Michigan         1569   3340      46.976048\n",
            "38                Nevada          452    890      50.786517\n",
            "36                  Utah          530    991      53.481332\n",
            "24               Arizona         1148   2079      55.218855\n",
            "29              Colorado          968   1732      55.889145\n",
            "33                Oregon          741   1309      56.608098\n",
            "28              Kentucky          970   1585      61.198738\n",
            "19             Minnesota         1235   2015      61.290323\n",
            "12              Virginia         1573   2510      62.669323\n",
            "23         Massachusetts         1186   1867      63.524371\n",
            "0             California         7246  11308      64.078528\n",
            "18             Wisconsin         1269   1975      64.253165\n",
            "50               Vermont          153    233      65.665236\n",
            "48          South Dakota          199    296      67.229730\n",
            "13            New Jersey         1569   2296      68.336237\n",
            "7                   Ohio         2590   3778      68.554791\n",
            "3                Florida         4311   6141      70.200293\n",
            "20              Maryland         1228   1746      70.332188\n",
            "51                Alaska          144    200      72.000000\n",
            "41                 Maine          318    433      73.441109\n",
            "5               Illinois         3118   4215      73.973903\n",
            "37              Nebraska          484    654      74.006116\n",
            "8                Georgia         2469   3325      74.255639\n",
            "35            New Mexico          600    803      74.719801\n",
            "17               Alabama         1298   1734      74.855825\n",
            "30           Connecticut          936   1218      76.847291\n",
            "11               Indiana         1669   2157      77.375985\n",
            "40               Montana          357    446      80.044843\n",
            "9               Missouri         1852   2287      80.979449\n",
            "32                Kansas          881   1085      81.198157\n",
            "44          North Dakota          268    327      81.957187\n",
            "34         West Virginia          701    847      82.762692\n",
            "22              Oklahoma         1224   1477      82.870684\n",
            "15             Louisiana         1523   1833      83.087834\n",
            "43              Delaware          297    357      83.193277\n",
            "4           Pennsylvania         3258   3912      83.282209\n",
            "2               New York         5042   6025      83.684647\n",
            "39                Hawaii          372    442      84.162896\n",
            "1                  Texas         6933   8192      84.631348\n",
            "27           Mississippi          989   1158      85.405872\n",
            "42          Rhode Island          314    366      85.792350\n",
            "46               Wyoming          214    249      85.943775\n",
            "6         North Carolina         2634   2995      87.946578\n",
            "10             Tennessee         1776   2011      88.314272\n",
            "47  District of Columbia          202    227      88.986784\n",
            "26              Arkansas         1029   1147      89.712293\n",
            "25                  Iowa         1086   1184      91.722973\n",
            "16        South Carolina         1440   1536      93.750000\n",
            "21           Puerto Rico         1227   1227     100.000000 \n",
            "\n",
            "\n"
          ],
          "name": "stdout"
        }
      ]
    },
    {
      "cell_type": "code",
      "metadata": {
        "colab_type": "code",
        "id": "qFPMR7ysGhOs",
        "colab": {}
      },
      "source": [
        "#tracts with 2020 response rate > 2010\n",
        "higher = df.loc[(df['2020_tract_rate'] > df['2010_tract_rate']\n",
        "            ) & (df['2010_tract_rate'] != 0)].sort_values(\n",
        "        by='10_20_tract_difference', ascending=True)\n",
        "            \n",
        "temp = pd.merge(pd.DataFrame(higher['State'].value_counts()).reset_index().rename(columns={'index':'state', 'State':'count_higher'}),\n",
        "                pd.DataFrame(df['State'].value_counts()).reset_index().rename(columns={'index':'state', 'State':'count'}),\n",
        "                on=['state'])\n",
        "\n",
        "temp['higher_percent'] = (temp['count_higher']*100) / temp['count']\n",
        "\n",
        "print(\n",
        "    \"Total higher tracts:\", sum(temp['count_higher']),\n",
        "    '\\nHighers as % of all tracts:', \n",
        "    (sum(temp['count_higher'])*100) / sum(temp['count']), \"\\n\",\n",
        "    len(higher), \"of\", len(df), \"total tracts, or\", len(higher)*100/len(df), \n",
        "    \"% have higher \\nresponse rates in 2020 than 2010\\n\\n\",\n",
        "    temp.sort_values(by=\"higher_percent\"), \"\\n\\n\")"
      ],
      "execution_count": null,
      "outputs": []
    },
    {
      "cell_type": "code",
      "metadata": {
        "colab_type": "code",
        "id": "LP4k_cH0GhOt",
        "colab": {}
      },
      "source": [
        "# some stats on tracts with lower and higher rates\n",
        "display(lower.describe())\n",
        "display(df.describe())\n",
        "display(higher.describe())\n",
        "print('Higher rates vote:\\n', higher.party.value_counts(),\n",
        "      '\\n\\nDf rates vote:\\n', df.party.value_counts(),\n",
        "      '\\n\\nLower rates vote:\\n', lower.party.value_counts())"
      ],
      "execution_count": null,
      "outputs": []
    },
    {
      "cell_type": "code",
      "metadata": {
        "id": "05uTu0dMD3k1",
        "colab_type": "code",
        "colab": {
          "base_uri": "https://localhost:8080/",
          "height": 720
        },
        "outputId": "00cd2b99-f298-419f-e6ee-5ba3f3ba72b8"
      },
      "source": [
        "#lowest tract rates\n",
        "lowest = df.sort_values(by='2020_tract_rate').head(1000)\n",
        "print(\"1000 lowest tracts comprise\", len(lowest) *100 / len(df), \"off all tracts\")\n",
        "display(lowest.Region.value_counts(),\n",
        "        lowest.describe(),\n",
        "        df.describe())"
      ],
      "execution_count": 46,
      "outputs": [
        {
          "output_type": "stream",
          "text": [
            "1000 lowest tracts comprise 0.9658103148541627 off all tracts\n"
          ],
          "name": "stdout"
        },
        {
          "output_type": "display_data",
          "data": {
            "text/plain": [
              "West           349\n",
              "South          252\n",
              "Puerto Rico    225\n",
              "Northeast      115\n",
              "Midwest         59\n",
              "Name: Region, dtype: int64"
            ]
          },
          "metadata": {
            "tags": []
          }
        },
        {
          "output_type": "display_data",
          "data": {
            "text/html": [
              "<div>\n",
              "<style scoped>\n",
              "    .dataframe tbody tr th:only-of-type {\n",
              "        vertical-align: middle;\n",
              "    }\n",
              "\n",
              "    .dataframe tbody tr th {\n",
              "        vertical-align: top;\n",
              "    }\n",
              "\n",
              "    .dataframe thead th {\n",
              "        text-align: right;\n",
              "    }\n",
              "</style>\n",
              "<table border=\"1\" class=\"dataframe\">\n",
              "  <thead>\n",
              "    <tr style=\"text-align: right;\">\n",
              "      <th></th>\n",
              "      <th>2020_tract_rate</th>\n",
              "      <th>2010_tract_rate</th>\n",
              "      <th>10_20_tract_difference</th>\n",
              "      <th>2020_tract_st_diff</th>\n",
              "      <th>2020_state_rate</th>\n",
              "      <th>2010_state_rate</th>\n",
              "      <th>10_20_state_difference</th>\n",
              "      <th>total_population</th>\n",
              "      <th>median_age</th>\n",
              "      <th>white_pct</th>\n",
              "      <th>black_pct</th>\n",
              "      <th>native_pct</th>\n",
              "      <th>asian_pct</th>\n",
              "      <th>pacific_pct</th>\n",
              "      <th>other_pct</th>\n",
              "      <th>two_pct</th>\n",
              "      <th>latino_pct</th>\n",
              "      <th>notLatino_pct</th>\n",
              "      <th>house_units</th>\n",
              "      <th>occupied_pct</th>\n",
              "      <th>vacant_pct</th>\n",
              "      <th>owner_pct</th>\n",
              "      <th>renter_pct</th>\n",
              "      <th>no_telephone_pct</th>\n",
              "      <th>median_value</th>\n",
              "      <th>rent_more_35_pct</th>\n",
              "      <th>median_income</th>\n",
              "      <th>no_int_pct</th>\n",
              "      <th>FIPS</th>\n",
              "      <th>candidatevotes</th>\n",
              "      <th>totalvotes</th>\n",
              "    </tr>\n",
              "  </thead>\n",
              "  <tbody>\n",
              "    <tr>\n",
              "      <th>count</th>\n",
              "      <td>1000.000000</td>\n",
              "      <td>841.000000</td>\n",
              "      <td>832.000000</td>\n",
              "      <td>1000.000000</td>\n",
              "      <td>1000.000000</td>\n",
              "      <td>1000.000000</td>\n",
              "      <td>1000.000000</td>\n",
              "      <td>1000.000000</td>\n",
              "      <td>968.000000</td>\n",
              "      <td>973.000000</td>\n",
              "      <td>973.000000</td>\n",
              "      <td>973.000000</td>\n",
              "      <td>973.000000</td>\n",
              "      <td>973.000000</td>\n",
              "      <td>973.000000</td>\n",
              "      <td>973.000000</td>\n",
              "      <td>973.000000</td>\n",
              "      <td>973.000000</td>\n",
              "      <td>1000.000000</td>\n",
              "      <td>971.000000</td>\n",
              "      <td>971.00000</td>\n",
              "      <td>960.000000</td>\n",
              "      <td>960.000000</td>\n",
              "      <td>958.000000</td>\n",
              "      <td>8.480000e+02</td>\n",
              "      <td>932.000000</td>\n",
              "      <td>914.000000</td>\n",
              "      <td>960.000000</td>\n",
              "      <td>761.000000</td>\n",
              "      <td>7.610000e+02</td>\n",
              "      <td>7.610000e+02</td>\n",
              "    </tr>\n",
              "    <tr>\n",
              "      <th>mean</th>\n",
              "      <td>15.556300</td>\n",
              "      <td>37.148751</td>\n",
              "      <td>inf</td>\n",
              "      <td>-38.430500</td>\n",
              "      <td>53.986800</td>\n",
              "      <td>67.885000</td>\n",
              "      <td>-21.962090</td>\n",
              "      <td>3156.714000</td>\n",
              "      <td>41.296901</td>\n",
              "      <td>66.670709</td>\n",
              "      <td>8.436074</td>\n",
              "      <td>10.728983</td>\n",
              "      <td>2.242035</td>\n",
              "      <td>0.169168</td>\n",
              "      <td>8.403083</td>\n",
              "      <td>3.346660</td>\n",
              "      <td>34.868243</td>\n",
              "      <td>65.131757</td>\n",
              "      <td>2181.333000</td>\n",
              "      <td>57.811843</td>\n",
              "      <td>42.18826</td>\n",
              "      <td>60.186146</td>\n",
              "      <td>39.814063</td>\n",
              "      <td>4.444572</td>\n",
              "      <td>2.219939e+05</td>\n",
              "      <td>42.447210</td>\n",
              "      <td>43115.349015</td>\n",
              "      <td>29.295346</td>\n",
              "      <td>26528.939553</td>\n",
              "      <td>1.880923e+05</td>\n",
              "      <td>2.935346e+05</td>\n",
              "    </tr>\n",
              "    <tr>\n",
              "      <th>std</th>\n",
              "      <td>5.374771</td>\n",
              "      <td>18.866900</td>\n",
              "      <td>NaN</td>\n",
              "      <td>16.165837</td>\n",
              "      <td>14.145655</td>\n",
              "      <td>8.204821</td>\n",
              "      <td>13.723196</td>\n",
              "      <td>2274.722872</td>\n",
              "      <td>12.574965</td>\n",
              "      <td>30.606665</td>\n",
              "      <td>14.700019</td>\n",
              "      <td>27.832485</td>\n",
              "      <td>5.751614</td>\n",
              "      <td>0.998865</td>\n",
              "      <td>14.740165</td>\n",
              "      <td>4.692427</td>\n",
              "      <td>39.761001</td>\n",
              "      <td>39.761001</td>\n",
              "      <td>1927.821933</td>\n",
              "      <td>25.395636</td>\n",
              "      <td>25.39549</td>\n",
              "      <td>27.139097</td>\n",
              "      <td>27.139222</td>\n",
              "      <td>6.111776</td>\n",
              "      <td>2.290202e+05</td>\n",
              "      <td>21.246374</td>\n",
              "      <td>27186.104567</td>\n",
              "      <td>21.392454</td>\n",
              "      <td>17053.127568</td>\n",
              "      <td>4.792100e+05</td>\n",
              "      <td>6.840924e+05</td>\n",
              "    </tr>\n",
              "    <tr>\n",
              "      <th>min</th>\n",
              "      <td>0.000000</td>\n",
              "      <td>0.000000</td>\n",
              "      <td>-100.000000</td>\n",
              "      <td>-69.000000</td>\n",
              "      <td>28.800000</td>\n",
              "      <td>54.000000</td>\n",
              "      <td>-46.666667</td>\n",
              "      <td>0.000000</td>\n",
              "      <td>14.000000</td>\n",
              "      <td>0.000000</td>\n",
              "      <td>0.000000</td>\n",
              "      <td>0.000000</td>\n",
              "      <td>0.000000</td>\n",
              "      <td>0.000000</td>\n",
              "      <td>0.000000</td>\n",
              "      <td>0.000000</td>\n",
              "      <td>0.000000</td>\n",
              "      <td>0.000000</td>\n",
              "      <td>0.000000</td>\n",
              "      <td>0.000000</td>\n",
              "      <td>0.00000</td>\n",
              "      <td>0.000000</td>\n",
              "      <td>0.000000</td>\n",
              "      <td>0.000000</td>\n",
              "      <td>1.940000e+04</td>\n",
              "      <td>0.000000</td>\n",
              "      <td>3050.000000</td>\n",
              "      <td>0.000000</td>\n",
              "      <td>1003.000000</td>\n",
              "      <td>5.800000e+01</td>\n",
              "      <td>6.500000e+01</td>\n",
              "    </tr>\n",
              "    <tr>\n",
              "      <th>25%</th>\n",
              "      <td>12.900000</td>\n",
              "      <td>23.700000</td>\n",
              "      <td>-64.782000</td>\n",
              "      <td>-49.000000</td>\n",
              "      <td>53.500000</td>\n",
              "      <td>65.000000</td>\n",
              "      <td>-21.875000</td>\n",
              "      <td>1534.250000</td>\n",
              "      <td>31.825000</td>\n",
              "      <td>49.200000</td>\n",
              "      <td>0.100000</td>\n",
              "      <td>0.000000</td>\n",
              "      <td>0.000000</td>\n",
              "      <td>0.000000</td>\n",
              "      <td>0.100000</td>\n",
              "      <td>0.600000</td>\n",
              "      <td>3.300000</td>\n",
              "      <td>13.700000</td>\n",
              "      <td>949.750000</td>\n",
              "      <td>37.550000</td>\n",
              "      <td>21.50000</td>\n",
              "      <td>46.550000</td>\n",
              "      <td>19.875000</td>\n",
              "      <td>1.100000</td>\n",
              "      <td>8.617500e+04</td>\n",
              "      <td>28.575000</td>\n",
              "      <td>21136.500000</td>\n",
              "      <td>10.826449</td>\n",
              "      <td>6107.000000</td>\n",
              "      <td>9.592000e+03</td>\n",
              "      <td>1.617400e+04</td>\n",
              "    </tr>\n",
              "    <tr>\n",
              "      <th>50%</th>\n",
              "      <td>17.300000</td>\n",
              "      <td>38.800000</td>\n",
              "      <td>-55.113939</td>\n",
              "      <td>-42.800000</td>\n",
              "      <td>59.400000</td>\n",
              "      <td>71.000000</td>\n",
              "      <td>-16.323529</td>\n",
              "      <td>2672.500000</td>\n",
              "      <td>41.400000</td>\n",
              "      <td>76.000000</td>\n",
              "      <td>1.700000</td>\n",
              "      <td>0.200000</td>\n",
              "      <td>0.400000</td>\n",
              "      <td>0.000000</td>\n",
              "      <td>1.800000</td>\n",
              "      <td>2.000000</td>\n",
              "      <td>12.200000</td>\n",
              "      <td>87.800000</td>\n",
              "      <td>1719.000000</td>\n",
              "      <td>63.100000</td>\n",
              "      <td>36.90000</td>\n",
              "      <td>68.300000</td>\n",
              "      <td>31.700000</td>\n",
              "      <td>2.750000</td>\n",
              "      <td>1.347000e+05</td>\n",
              "      <td>41.700000</td>\n",
              "      <td>39542.000000</td>\n",
              "      <td>25.594757</td>\n",
              "      <td>32001.000000</td>\n",
              "      <td>3.240400e+04</td>\n",
              "      <td>5.713500e+04</td>\n",
              "    </tr>\n",
              "    <tr>\n",
              "      <th>75%</th>\n",
              "      <td>19.700000</td>\n",
              "      <td>48.800000</td>\n",
              "      <td>-29.626403</td>\n",
              "      <td>-34.000000</td>\n",
              "      <td>64.700000</td>\n",
              "      <td>74.000000</td>\n",
              "      <td>-12.820513</td>\n",
              "      <td>4438.750000</td>\n",
              "      <td>50.000000</td>\n",
              "      <td>93.000000</td>\n",
              "      <td>10.800000</td>\n",
              "      <td>1.800000</td>\n",
              "      <td>1.800000</td>\n",
              "      <td>0.000000</td>\n",
              "      <td>9.000000</td>\n",
              "      <td>4.400000</td>\n",
              "      <td>86.300000</td>\n",
              "      <td>96.700000</td>\n",
              "      <td>2943.000000</td>\n",
              "      <td>78.500000</td>\n",
              "      <td>62.45000</td>\n",
              "      <td>80.125000</td>\n",
              "      <td>53.450000</td>\n",
              "      <td>5.500000</td>\n",
              "      <td>2.756250e+05</td>\n",
              "      <td>54.825000</td>\n",
              "      <td>57859.500000</td>\n",
              "      <td>43.413634</td>\n",
              "      <td>40091.000000</td>\n",
              "      <td>1.212500e+05</td>\n",
              "      <td>2.015510e+05</td>\n",
              "    </tr>\n",
              "    <tr>\n",
              "      <th>max</th>\n",
              "      <td>21.800000</td>\n",
              "      <td>100.000000</td>\n",
              "      <td>inf</td>\n",
              "      <td>-7.000000</td>\n",
              "      <td>72.500000</td>\n",
              "      <td>82.000000</td>\n",
              "      <td>-7.500000</td>\n",
              "      <td>18703.000000</td>\n",
              "      <td>74.000000</td>\n",
              "      <td>100.000000</td>\n",
              "      <td>100.000000</td>\n",
              "      <td>100.000000</td>\n",
              "      <td>59.900000</td>\n",
              "      <td>25.300000</td>\n",
              "      <td>100.000000</td>\n",
              "      <td>66.700000</td>\n",
              "      <td>100.000000</td>\n",
              "      <td>100.000000</td>\n",
              "      <td>15527.000000</td>\n",
              "      <td>100.000000</td>\n",
              "      <td>100.00000</td>\n",
              "      <td>100.000000</td>\n",
              "      <td>100.000000</td>\n",
              "      <td>63.400000</td>\n",
              "      <td>1.923100e+06</td>\n",
              "      <td>100.000000</td>\n",
              "      <td>237639.000000</td>\n",
              "      <td>100.000000</td>\n",
              "      <td>55125.000000</td>\n",
              "      <td>2.464364e+06</td>\n",
              "      <td>3.434308e+06</td>\n",
              "    </tr>\n",
              "  </tbody>\n",
              "</table>\n",
              "</div>"
            ],
            "text/plain": [
              "       2020_tract_rate  2010_tract_rate  ...  candidatevotes    totalvotes\n",
              "count      1000.000000       841.000000  ...    7.610000e+02  7.610000e+02\n",
              "mean         15.556300        37.148751  ...    1.880923e+05  2.935346e+05\n",
              "std           5.374771        18.866900  ...    4.792100e+05  6.840924e+05\n",
              "min           0.000000         0.000000  ...    5.800000e+01  6.500000e+01\n",
              "25%          12.900000        23.700000  ...    9.592000e+03  1.617400e+04\n",
              "50%          17.300000        38.800000  ...    3.240400e+04  5.713500e+04\n",
              "75%          19.700000        48.800000  ...    1.212500e+05  2.015510e+05\n",
              "max          21.800000       100.000000  ...    2.464364e+06  3.434308e+06\n",
              "\n",
              "[8 rows x 31 columns]"
            ]
          },
          "metadata": {
            "tags": []
          }
        },
        {
          "output_type": "display_data",
          "data": {
            "text/html": [
              "<div>\n",
              "<style scoped>\n",
              "    .dataframe tbody tr th:only-of-type {\n",
              "        vertical-align: middle;\n",
              "    }\n",
              "\n",
              "    .dataframe tbody tr th {\n",
              "        vertical-align: top;\n",
              "    }\n",
              "\n",
              "    .dataframe thead th {\n",
              "        text-align: right;\n",
              "    }\n",
              "</style>\n",
              "<table border=\"1\" class=\"dataframe\">\n",
              "  <thead>\n",
              "    <tr style=\"text-align: right;\">\n",
              "      <th></th>\n",
              "      <th>2020_tract_rate</th>\n",
              "      <th>2010_tract_rate</th>\n",
              "      <th>10_20_tract_difference</th>\n",
              "      <th>2020_tract_st_diff</th>\n",
              "      <th>2020_state_rate</th>\n",
              "      <th>2010_state_rate</th>\n",
              "      <th>10_20_state_difference</th>\n",
              "      <th>total_population</th>\n",
              "      <th>median_age</th>\n",
              "      <th>white_pct</th>\n",
              "      <th>black_pct</th>\n",
              "      <th>native_pct</th>\n",
              "      <th>asian_pct</th>\n",
              "      <th>pacific_pct</th>\n",
              "      <th>other_pct</th>\n",
              "      <th>two_pct</th>\n",
              "      <th>latino_pct</th>\n",
              "      <th>notLatino_pct</th>\n",
              "      <th>house_units</th>\n",
              "      <th>occupied_pct</th>\n",
              "      <th>vacant_pct</th>\n",
              "      <th>owner_pct</th>\n",
              "      <th>renter_pct</th>\n",
              "      <th>no_telephone_pct</th>\n",
              "      <th>median_value</th>\n",
              "      <th>rent_more_35_pct</th>\n",
              "      <th>median_income</th>\n",
              "      <th>no_int_pct</th>\n",
              "      <th>FIPS</th>\n",
              "      <th>candidatevotes</th>\n",
              "      <th>totalvotes</th>\n",
              "    </tr>\n",
              "  </thead>\n",
              "  <tbody>\n",
              "    <tr>\n",
              "      <th>count</th>\n",
              "      <td>103540.000000</td>\n",
              "      <td>102847.000000</td>\n",
              "      <td>1.028380e+05</td>\n",
              "      <td>103540.000000</td>\n",
              "      <td>103540.000000</td>\n",
              "      <td>103540.000000</td>\n",
              "      <td>103540.000000</td>\n",
              "      <td>103540.000000</td>\n",
              "      <td>103321.000000</td>\n",
              "      <td>103336.000000</td>\n",
              "      <td>103336.000000</td>\n",
              "      <td>103336.000000</td>\n",
              "      <td>103336.000000</td>\n",
              "      <td>103336.000000</td>\n",
              "      <td>103336.000000</td>\n",
              "      <td>103336.000000</td>\n",
              "      <td>103336.000000</td>\n",
              "      <td>103336.000000</td>\n",
              "      <td>103540.000000</td>\n",
              "      <td>103294.000000</td>\n",
              "      <td>103294.000000</td>\n",
              "      <td>103270.000000</td>\n",
              "      <td>103270.000000</td>\n",
              "      <td>102398.000000</td>\n",
              "      <td>1.015520e+05</td>\n",
              "      <td>103123.000000</td>\n",
              "      <td>102963.000000</td>\n",
              "      <td>103270.000000</td>\n",
              "      <td>102048.000000</td>\n",
              "      <td>1.020230e+05</td>\n",
              "      <td>1.020480e+05</td>\n",
              "    </tr>\n",
              "    <tr>\n",
              "      <th>mean</th>\n",
              "      <td>62.681958</td>\n",
              "      <td>67.690365</td>\n",
              "      <td>inf</td>\n",
              "      <td>-0.311211</td>\n",
              "      <td>62.993169</td>\n",
              "      <td>73.618041</td>\n",
              "      <td>-14.567829</td>\n",
              "      <td>4949.205833</td>\n",
              "      <td>39.463309</td>\n",
              "      <td>73.245816</td>\n",
              "      <td>13.083205</td>\n",
              "      <td>0.889803</td>\n",
              "      <td>4.900626</td>\n",
              "      <td>0.170504</td>\n",
              "      <td>4.527902</td>\n",
              "      <td>3.181698</td>\n",
              "      <td>17.133094</td>\n",
              "      <td>82.866948</td>\n",
              "      <td>2087.127487</td>\n",
              "      <td>87.810794</td>\n",
              "      <td>12.189295</td>\n",
              "      <td>63.984057</td>\n",
              "      <td>36.016050</td>\n",
              "      <td>2.266941</td>\n",
              "      <td>2.521893e+05</td>\n",
              "      <td>39.182103</td>\n",
              "      <td>64252.382565</td>\n",
              "      <td>17.074833</td>\n",
              "      <td>27781.561912</td>\n",
              "      <td>2.543681e+05</td>\n",
              "      <td>4.000174e+05</td>\n",
              "    </tr>\n",
              "    <tr>\n",
              "      <th>std</th>\n",
              "      <td>14.493412</td>\n",
              "      <td>11.313510</td>\n",
              "      <td>NaN</td>\n",
              "      <td>13.335866</td>\n",
              "      <td>5.743637</td>\n",
              "      <td>4.247514</td>\n",
              "      <td>4.823143</td>\n",
              "      <td>2963.114947</td>\n",
              "      <td>7.819423</td>\n",
              "      <td>24.336115</td>\n",
              "      <td>20.767391</td>\n",
              "      <td>4.403487</td>\n",
              "      <td>9.112682</td>\n",
              "      <td>1.097695</td>\n",
              "      <td>8.458077</td>\n",
              "      <td>3.116841</td>\n",
              "      <td>22.717655</td>\n",
              "      <td>22.717659</td>\n",
              "      <td>1146.099229</td>\n",
              "      <td>10.974492</td>\n",
              "      <td>10.974486</td>\n",
              "      <td>22.449101</td>\n",
              "      <td>22.449104</td>\n",
              "      <td>2.280203</td>\n",
              "      <td>2.144128e+05</td>\n",
              "      <td>15.467814</td>\n",
              "      <td>31698.656049</td>\n",
              "      <td>11.583500</td>\n",
              "      <td>16033.544848</td>\n",
              "      <td>4.530160e+05</td>\n",
              "      <td>6.465683e+05</td>\n",
              "    </tr>\n",
              "    <tr>\n",
              "      <th>min</th>\n",
              "      <td>0.000000</td>\n",
              "      <td>0.000000</td>\n",
              "      <td>-1.000000e+02</td>\n",
              "      <td>-69.000000</td>\n",
              "      <td>28.800000</td>\n",
              "      <td>54.000000</td>\n",
              "      <td>-46.666667</td>\n",
              "      <td>0.000000</td>\n",
              "      <td>5.800000</td>\n",
              "      <td>0.000000</td>\n",
              "      <td>0.000000</td>\n",
              "      <td>0.000000</td>\n",
              "      <td>0.000000</td>\n",
              "      <td>0.000000</td>\n",
              "      <td>0.000000</td>\n",
              "      <td>0.000000</td>\n",
              "      <td>0.000000</td>\n",
              "      <td>0.000000</td>\n",
              "      <td>0.000000</td>\n",
              "      <td>0.000000</td>\n",
              "      <td>0.000000</td>\n",
              "      <td>0.000000</td>\n",
              "      <td>0.000000</td>\n",
              "      <td>0.000000</td>\n",
              "      <td>1.000000e+04</td>\n",
              "      <td>0.000000</td>\n",
              "      <td>3025.000000</td>\n",
              "      <td>0.000000</td>\n",
              "      <td>1001.000000</td>\n",
              "      <td>5.800000e+01</td>\n",
              "      <td>0.000000e+00</td>\n",
              "    </tr>\n",
              "    <tr>\n",
              "      <th>25%</th>\n",
              "      <td>53.600000</td>\n",
              "      <td>61.700000</td>\n",
              "      <td>-1.399358e+01</td>\n",
              "      <td>-8.200000</td>\n",
              "      <td>59.100000</td>\n",
              "      <td>71.000000</td>\n",
              "      <td>-17.631579</td>\n",
              "      <td>3119.000000</td>\n",
              "      <td>34.200000</td>\n",
              "      <td>61.700000</td>\n",
              "      <td>1.000000</td>\n",
              "      <td>0.000000</td>\n",
              "      <td>0.300000</td>\n",
              "      <td>0.000000</td>\n",
              "      <td>0.200000</td>\n",
              "      <td>1.200000</td>\n",
              "      <td>2.800000</td>\n",
              "      <td>79.100000</td>\n",
              "      <td>1360.000000</td>\n",
              "      <td>84.400000</td>\n",
              "      <td>5.100000</td>\n",
              "      <td>50.200000</td>\n",
              "      <td>18.500000</td>\n",
              "      <td>0.800000</td>\n",
              "      <td>1.172000e+05</td>\n",
              "      <td>29.000000</td>\n",
              "      <td>42359.500000</td>\n",
              "      <td>8.201893</td>\n",
              "      <td>12115.000000</td>\n",
              "      <td>2.729400e+04</td>\n",
              "      <td>4.456000e+04</td>\n",
              "    </tr>\n",
              "    <tr>\n",
              "      <th>50%</th>\n",
              "      <td>64.400000</td>\n",
              "      <td>69.200000</td>\n",
              "      <td>-5.792094e+00</td>\n",
              "      <td>1.200000</td>\n",
              "      <td>64.700000</td>\n",
              "      <td>74.000000</td>\n",
              "      <td>-13.896104</td>\n",
              "      <td>4450.000000</td>\n",
              "      <td>39.100000</td>\n",
              "      <td>81.300000</td>\n",
              "      <td>4.200000</td>\n",
              "      <td>0.100000</td>\n",
              "      <td>1.600000</td>\n",
              "      <td>0.000000</td>\n",
              "      <td>1.300000</td>\n",
              "      <td>2.400000</td>\n",
              "      <td>7.600000</td>\n",
              "      <td>92.400000</td>\n",
              "      <td>1898.000000</td>\n",
              "      <td>90.800000</td>\n",
              "      <td>9.200000</td>\n",
              "      <td>69.100000</td>\n",
              "      <td>30.900000</td>\n",
              "      <td>1.800000</td>\n",
              "      <td>1.817000e+05</td>\n",
              "      <td>38.900000</td>\n",
              "      <td>57348.000000</td>\n",
              "      <td>15.015480</td>\n",
              "      <td>27117.000000</td>\n",
              "      <td>1.019440e+05</td>\n",
              "      <td>1.783120e+05</td>\n",
              "    </tr>\n",
              "    <tr>\n",
              "      <th>75%</th>\n",
              "      <td>73.600000</td>\n",
              "      <td>75.500000</td>\n",
              "      <td>4.278076e-01</td>\n",
              "      <td>9.400000</td>\n",
              "      <td>67.500000</td>\n",
              "      <td>76.000000</td>\n",
              "      <td>-11.447368</td>\n",
              "      <td>6132.000000</td>\n",
              "      <td>44.200000</td>\n",
              "      <td>92.100000</td>\n",
              "      <td>14.700000</td>\n",
              "      <td>0.600000</td>\n",
              "      <td>5.200000</td>\n",
              "      <td>0.000000</td>\n",
              "      <td>4.700000</td>\n",
              "      <td>4.300000</td>\n",
              "      <td>20.900000</td>\n",
              "      <td>97.200000</td>\n",
              "      <td>2594.000000</td>\n",
              "      <td>94.900000</td>\n",
              "      <td>15.600000</td>\n",
              "      <td>81.500000</td>\n",
              "      <td>49.800000</td>\n",
              "      <td>3.100000</td>\n",
              "      <td>3.110000e+05</td>\n",
              "      <td>49.100000</td>\n",
              "      <td>78846.000000</td>\n",
              "      <td>23.436323</td>\n",
              "      <td>41071.000000</td>\n",
              "      <td>2.970510e+05</td>\n",
              "      <td>4.402470e+05</td>\n",
              "    </tr>\n",
              "    <tr>\n",
              "      <th>max</th>\n",
              "      <td>98.100000</td>\n",
              "      <td>100.000000</td>\n",
              "      <td>inf</td>\n",
              "      <td>39.100000</td>\n",
              "      <td>72.500000</td>\n",
              "      <td>82.000000</td>\n",
              "      <td>-7.500000</td>\n",
              "      <td>70271.000000</td>\n",
              "      <td>84.500000</td>\n",
              "      <td>100.000000</td>\n",
              "      <td>100.000000</td>\n",
              "      <td>100.000000</td>\n",
              "      <td>93.400000</td>\n",
              "      <td>76.200000</td>\n",
              "      <td>100.000000</td>\n",
              "      <td>66.700000</td>\n",
              "      <td>100.000000</td>\n",
              "      <td>100.000000</td>\n",
              "      <td>26436.000000</td>\n",
              "      <td>100.000000</td>\n",
              "      <td>100.000000</td>\n",
              "      <td>100.000000</td>\n",
              "      <td>100.000000</td>\n",
              "      <td>100.000000</td>\n",
              "      <td>1.995100e+06</td>\n",
              "      <td>100.000000</td>\n",
              "      <td>250000.000000</td>\n",
              "      <td>100.000000</td>\n",
              "      <td>56045.000000</td>\n",
              "      <td>2.464364e+06</td>\n",
              "      <td>3.434308e+06</td>\n",
              "    </tr>\n",
              "  </tbody>\n",
              "</table>\n",
              "</div>"
            ],
            "text/plain": [
              "       2020_tract_rate  2010_tract_rate  ...  candidatevotes    totalvotes\n",
              "count    103540.000000    102847.000000  ...    1.020230e+05  1.020480e+05\n",
              "mean         62.681958        67.690365  ...    2.543681e+05  4.000174e+05\n",
              "std          14.493412        11.313510  ...    4.530160e+05  6.465683e+05\n",
              "min           0.000000         0.000000  ...    5.800000e+01  0.000000e+00\n",
              "25%          53.600000        61.700000  ...    2.729400e+04  4.456000e+04\n",
              "50%          64.400000        69.200000  ...    1.019440e+05  1.783120e+05\n",
              "75%          73.600000        75.500000  ...    2.970510e+05  4.402470e+05\n",
              "max          98.100000       100.000000  ...    2.464364e+06  3.434308e+06\n",
              "\n",
              "[8 rows x 31 columns]"
            ]
          },
          "metadata": {
            "tags": []
          }
        }
      ]
    },
    {
      "cell_type": "code",
      "metadata": {
        "colab_type": "code",
        "id": "EXvkEqz_GhOv",
        "colab": {
          "base_uri": "https://localhost:8080/",
          "height": 989
        },
        "outputId": "e6d80b68-07ef-463c-928d-00e9bff43796"
      },
      "source": [
        "# get info on 1000 tracks with greatest drop in response rate\n",
        "big_drop = df.loc[(\n",
        "    df['10_20_tract_difference'] > -100) & (\n",
        "    df['10_20_tract_difference'] < 0)].sort_values(\n",
        "                  by='10_20_tract_difference', ascending=True).head(1000)\n",
        "  \n",
        "temp = pd.merge(pd.DataFrame(big_drop.Region.head(1000).value_counts()).reset_index().rename(columns={'index':'Region', 'Region':'count_drop'}),\n",
        "    pd.DataFrame(df.Region.value_counts()).reset_index().rename(columns={'index':'Region', 'Region':'count_all'}),\n",
        "        on=['Region'])\n",
        "temp['pct_drop']= temp.count_drop * 100 / temp.count_all\n",
        "\n",
        "print(\"By region:\\n\", temp,\n",
        "      \"\\n\\nBy state:\\n\", big_drop.State.value_counts())"
      ],
      "execution_count": 55,
      "outputs": [
        {
          "output_type": "stream",
          "text": [
            "By region:\n",
            "         Region  count_drop  count_all   pct_drop\n",
            "0  Puerto Rico         552       1227  44.987775\n",
            "1         West         167      23420   0.713066\n",
            "2        South         154      38821   0.396693\n",
            "3    Northeast          81      16759   0.483322\n",
            "4      Midwest          46      23313   0.197315 \n",
            "\n",
            "By state:\n",
            " Puerto Rico       552\n",
            "California         68\n",
            "Texas              65\n",
            "New York           43\n",
            "New Mexico         27\n",
            "Arizona            21\n",
            "Florida            17\n",
            "North Carolina     13\n",
            "Pennsylvania       13\n",
            "South Carolina     13\n",
            "Missouri           11\n",
            "Massachusetts      11\n",
            "West Virginia      11\n",
            "Oregon              9\n",
            "Wisconsin           9\n",
            "Nevada              9\n",
            "Alaska              9\n",
            "Montana             8\n",
            "Michigan            7\n",
            "North Dakota        6\n",
            "Ohio                6\n",
            "Mississippi         6\n",
            "Utah                6\n",
            "Hawaii              5\n",
            "Louisiana           5\n",
            "Maryland            5\n",
            "New Jersey          4\n",
            "Connecticut         4\n",
            "Georgia             4\n",
            "Illinois            3\n",
            "Oklahoma            3\n",
            "Alabama             3\n",
            "Arkansas            3\n",
            "New Hampshire       3\n",
            "Washington          3\n",
            "Virginia            3\n",
            "Wyoming             2\n",
            "Kentucky            2\n",
            "Kansas              2\n",
            "Vermont             2\n",
            "Delaware            1\n",
            "Maine               1\n",
            "Minnesota           1\n",
            "Indiana             1\n",
            "Name: State, dtype: int64\n"
          ],
          "name": "stdout"
        }
      ]
    },
    {
      "cell_type": "code",
      "metadata": {
        "id": "ltsS0euY8G7A",
        "colab_type": "code",
        "colab": {
          "base_uri": "https://localhost:8080/",
          "height": 1000
        },
        "outputId": "f8e10694-302c-4cdf-9c5b-f754ba083bf3"
      },
      "source": [
        "# temp with tracts less than half 2010 rate\n",
        "temp = df.loc[(df['10_20_tract_difference'] > -100) & (df['10_20_tract_difference'] <= -50)]\n",
        "\n",
        "temp1 = pd.merge(pd.DataFrame(temp.Region.value_counts()).reset_index().rename(columns={'index':'Region', 'Region':'count_half'}),\n",
        "    pd.DataFrame(df.Region.value_counts()).reset_index().rename(columns={'index':'Region', 'Region':'count_all'}),\n",
        "        on=['Region'])\n",
        "temp1['pct_half']= temp1.count_half * 100 / temp1.count_all\n",
        "\n",
        "print(len(temp), \"or\", len(temp) / len(df) * 100,\n",
        "      \"% of tracts have a 2020 response rate \\n half or less than half their 2010 rate\\n\\n\",\n",
        "      \"\\n\\nBy region:\\n\", temp1,\n",
        "      \"\\n\\nBy state:\\n\", temp.State.value_counts())"
      ],
      "execution_count": 57,
      "outputs": [
        {
          "output_type": "stream",
          "text": [
            "1176 or 1.1357929302684953 % of tracts have a 2020 response rate \n",
            " half or less than half their 2010 rate\n",
            "\n",
            " \n",
            "\n",
            "By region:\n",
            "         Region  count_half  count_all   pct_half\n",
            "0  Puerto Rico         660       1227  53.789731\n",
            "1         West         195      23420   0.832622\n",
            "2        South         180      38821   0.463667\n",
            "3    Northeast          88      16759   0.525091\n",
            "4      Midwest          53      23313   0.227341 \n",
            "\n",
            "By state:\n",
            " Puerto Rico       660\n",
            "California         80\n",
            "Texas              76\n",
            "New York           46\n",
            "New Mexico         27\n",
            "Arizona            25\n",
            "Florida            19\n",
            "Pennsylvania       16\n",
            "South Carolina     15\n",
            "Missouri           13\n",
            "West Virginia      13\n",
            "Nevada             13\n",
            "North Carolina     13\n",
            "Michigan           11\n",
            "Massachusetts      11\n",
            "Oregon             10\n",
            "Alaska             10\n",
            "Montana            10\n",
            "Wisconsin           9\n",
            "Georgia             8\n",
            "Ohio                7\n",
            "North Dakota        6\n",
            "Mississippi         6\n",
            "Oklahoma            6\n",
            "Louisiana           6\n",
            "Utah                6\n",
            "Hawaii              5\n",
            "New Jersey          5\n",
            "Maryland            5\n",
            "Alabama             4\n",
            "Connecticut         4\n",
            "Wyoming             4\n",
            "Washington          4\n",
            "New Hampshire       3\n",
            "Illinois            3\n",
            "Arkansas            3\n",
            "Virginia            3\n",
            "Kansas              2\n",
            "Vermont             2\n",
            "Kentucky            2\n",
            "Maine               1\n",
            "Delaware            1\n",
            "Minnesota           1\n",
            "Indiana             1\n",
            "Idaho               1\n",
            "Name: State, dtype: int64\n"
          ],
          "name": "stdout"
        }
      ]
    },
    {
      "cell_type": "code",
      "metadata": {
        "colab_type": "code",
        "id": "IPSL7SnFGhOw",
        "colab": {}
      },
      "source": [
        "# biggest increases in response rates\n",
        "# get info on 1000 tracks with greatest gain in response rate\n",
        "big_gain = df.loc[(df['10_20_tract_difference'] > 0) & (\n",
        "    df['2010_tract_rate'] != 0)].sort_values(\n",
        "                  by='10_20_tract_difference', ascending=False).head(1000)\n",
        "print(\"By region:\\n\", big_gain.Region.value_counts(),\n",
        "      \"\\n\\nBy state:\\n\", big_gain.State.value_counts())"
      ],
      "execution_count": null,
      "outputs": []
    },
    {
      "cell_type": "code",
      "metadata": {
        "colab_type": "code",
        "id": "dI88LQHEGhOx",
        "colab": {}
      },
      "source": [
        "# some stats on biggest gains and drops\n",
        "display(big_gain.describe().round(1))\n",
        "display(df.describe().round(1))\n",
        "display(big_drop.describe().round(1))"
      ],
      "execution_count": null,
      "outputs": []
    },
    {
      "cell_type": "code",
      "metadata": {
        "colab_type": "code",
        "id": "_-EFAq6CGhOz",
        "colab": {}
      },
      "source": [
        "#info on drops and gains by party\n",
        "print('Gains vote:\\n', big_gain.party.value_counts(),\n",
        "      '\\n\\nDf vote:\\n', df.party.value_counts(),\n",
        "      '\\n\\nDrops vote:\\n', big_drop.party.value_counts(), \"\\n\\n\")\n",
        "display(big_gain.groupby('party').describe())\n",
        "display(df.groupby('party').describe())\n",
        "display(big_drop.groupby('party').describe().T)"
      ],
      "execution_count": null,
      "outputs": []
    },
    {
      "cell_type": "code",
      "metadata": {
        "colab_type": "code",
        "id": "k3qaTDViGhO0",
        "colab": {}
      },
      "source": [
        "# how many tracts have 2020 rate double their 2010 rate\n",
        "print(len(big_gain[big_gain['10_20_tract_difference'] >= 1]) * 100 / len(df),\n",
        "      \"% of tracts have a 2020 response rate at least double their 2010 rate\")"
      ],
      "execution_count": null,
      "outputs": []
    },
    {
      "cell_type": "code",
      "metadata": {
        "colab_type": "code",
        "id": "dXIj0l_XGhO2",
        "colab": {}
      },
      "source": [
        "#ensure higher and lower contain data except for inf, 0, na 10_20_difference\n",
        "temp=df.drop(lower.index).drop(higher.index)\n",
        "\n",
        "print(len(df), \"\\n\",\n",
        "      len(higher), \"\\n\",\n",
        "      len(lower), \"\\n\",\n",
        "      len(temp), \"\\n\",\n",
        "      len(higher) + len(lower) + len(temp), \"\\n\",\n",
        "      \"0 change:\", len(temp[temp['10_20_tract_difference'] == 0]), \"\\n\\n\",\n",
        "      temp['10_20_tract_difference'].value_counts())"
      ],
      "execution_count": null,
      "outputs": []
    },
    {
      "cell_type": "markdown",
      "metadata": {
        "colab_type": "text",
        "id": "4Ele5Hi_GhO3"
      },
      "source": [
        "### Graphs"
      ]
    },
    {
      "cell_type": "code",
      "metadata": {
        "colab_type": "code",
        "id": "IHgrYRbwGhO3",
        "colab": {}
      },
      "source": [
        "## latino vs tract change\n",
        "\n",
        "# make a graph yay\n",
        "import matplotlib.pyplot as plt \n",
        "import matplotlib.cbook as cbook\n",
        "\n",
        "x = df.latino_pct\n",
        "y = df['10_20_tract_difference'] / 100\n",
        "\n",
        "# plotting the points  \n",
        "plt.plot(x, y, marker='o', linewidth=0, markersize=0.7, alpha=0.05) \n",
        "\n",
        "#change y axis limits\n",
        "plt.ylim([-1,1])\n",
        "\n",
        "# naming the x axis \n",
        "plt.xlabel('% Latino') \n",
        "# naming the y axis \n",
        "plt.ylabel('Response Change') \n",
        "#add legend\n",
        "#plt.legend(loc=2)\n",
        "# giving a title to my graph \n",
        "plt.title('% Latino Compared to Tract Response Rate Change') \n",
        "\n",
        "plt.savefig('/content/drive/Shared drives/Shared Items/census-responses/data/latino_vs_change.png',\n",
        "            bbox_inches='tight')\n",
        "\n",
        "# function to show the plot \n",
        "plt.show() \n"
      ],
      "execution_count": null,
      "outputs": []
    },
    {
      "cell_type": "code",
      "metadata": {
        "colab_type": "code",
        "id": "HQD-cW-5GhO5",
        "colab": {}
      },
      "source": [
        "x = df.black_pct\n",
        "y = df['10_20_tract_difference']\n",
        "\n",
        "# plotting the points  \n",
        "plt.plot(x, y, marker='o', linewidth=0, markersize=0.7, alpha=0.05) \n",
        "\n",
        "#change y axis limits\n",
        "plt.ylim([-1,1])\n",
        "\n",
        "# naming the x axis \n",
        "plt.xlabel('% Black') \n",
        "# naming the y axis \n",
        "plt.ylabel('Response Change') \n",
        "#add legend\n",
        "#plt.legend(loc=2)\n",
        "# giving a title to my graph \n",
        "plt.title('% Black Compared to Tract Response Rate Change') \n",
        "\n",
        "#plt.savefig('/content/drive/Shared drives/Shared Items/census-responses/data/latino_vs_change.png',\n",
        "#            bbox_inches='tight')\n",
        "\n",
        "# function to show the plot \n",
        "plt.show() \n"
      ],
      "execution_count": null,
      "outputs": []
    },
    {
      "cell_type": "markdown",
      "metadata": {
        "colab_type": "text",
        "id": "pgKlM610GhO6"
      },
      "source": [
        "### Race / Ethnicity"
      ]
    },
    {
      "cell_type": "code",
      "metadata": {
        "colab_type": "code",
        "id": "TSx1rIAhGhO6",
        "colab": {}
      },
      "source": [
        "# show all tracts where Latino population 95% or higher by state\n",
        "display(df[df.latino_pct >= 95].State.value_counts())\n",
        "\n",
        "# show all 95 or higher Latino tracts in Texas\n",
        "display(df.loc[(df.State == 'Texas') & (df.latino_pct >= 95)])"
      ],
      "execution_count": null,
      "outputs": []
    },
    {
      "cell_type": "code",
      "metadata": {
        "colab_type": "code",
        "id": "4v1Tao0EGhO8",
        "colab": {}
      },
      "source": [
        "# compare high percentage Latino tracts to total # tracts in county\n",
        "\n",
        "temp = pd.merge(pd.DataFrame(df.loc[(df.State == 'Texas') & (df.latino_pct >= 95)].county.value_counts()).reset_index().rename(columns={'index':'county', 'county':'maj_Latino'}),\n",
        "                 pd.DataFrame(df.loc[(df.State == 'Texas')].county.value_counts()).reset_index().rename(columns={'index':'county', 'county':'total'}),\n",
        "                 how='left')\n",
        "\n",
        "#calculate what % all tracts is 95% or more Latino in Texas\n",
        "temp['maj_Latino_pct'] = (temp['maj_Latino']*100) / temp['total']\n",
        "\n",
        "print(\n",
        "    \"Total majority latino tracts in Texas:\", sum(temp['maj_Latino']),\n",
        "    '\\nMajority Latino as % of all Texas tracts:', (sum(temp['maj_Latino'])*100) / sum(temp['total']),\n",
        "    \"\\n\\n\",temp)"
      ],
      "execution_count": null,
      "outputs": []
    },
    {
      "cell_type": "code",
      "metadata": {
        "colab_type": "code",
        "id": "GamSGe0yGhO9",
        "colab": {}
      },
      "source": [
        "display(\n",
        "    \"maj Latino\",\n",
        "    pd.DataFrame(df.loc[(df.State == 'Texas') & (df.latino_pct >= 95)]).loc[(\n",
        "        (pd.DataFrame(df.loc[(df.State == 'Texas') & (df.latino_pct >= 95)])).groupby(\n",
        "        'county')['county'].transform('size') > 10)].groupby(by='county').describe(),\n",
        "    'all Texas',\n",
        "    pd.DataFrame(df.loc[(df.State == 'Texas')]).groupby(by='county').describe())"
      ],
      "execution_count": null,
      "outputs": []
    },
    {
      "cell_type": "code",
      "metadata": {
        "colab_type": "code",
        "id": "ELhv0FN-GhO-",
        "colab": {}
      },
      "source": [
        "# temp dataframe with mean instead of NA or inf\n",
        "temp = df.replace([np.inf, -np.inf], np.nan).fillna(df.mean())\n",
        "print(min(temp['10_20_tract_difference']), max(temp['10_20_tract_difference']))"
      ],
      "execution_count": null,
      "outputs": []
    },
    {
      "cell_type": "code",
      "metadata": {
        "colab_type": "code",
        "id": "NO5Wn20-GhPA",
        "colab": {}
      },
      "source": [
        "display(\"0%\", temp.loc[(temp.asian_pct == 0)].describe(),\n",
        "\"5%\",temp.loc[(temp.asian_pct <= 5)].describe(),\n",
        "\"25%\",temp.loc[(temp.asian_pct >= 25)].describe(),\n",
        "\"33%\",temp.loc[(temp.asian_pct >= 33)].describe(),\n",
        "\"50%\",temp.loc[(temp.asian_pct >= 50)].describe(),\n",
        "\"66%\",temp.loc[(temp.asian_pct >= 66)].describe(),\n",
        "\"75%\",temp.loc[(temp.asian_pct >= 75)].describe(),\n",
        "\"85%\",temp.loc[(temp.asian_pct >= 85)].describe(),\n",
        "df.describe())"
      ],
      "execution_count": null,
      "outputs": []
    },
    {
      "cell_type": "code",
      "metadata": {
        "colab_type": "code",
        "id": "7ToxalIoGhPB",
        "colab": {}
      },
      "source": [
        "display(df.describe(),\n",
        "        \"0%\", temp.loc[(temp.black_pct == 0)].describe(),\n",
        "\"5%\",temp.loc[(temp.black_pct <= 5)].describe(),\n",
        "\"25%\",temp.loc[(temp.black_pct >= 25)].describe(),\n",
        "\"33%\",temp.loc[(temp.black_pct >= 33)].describe(),\n",
        "\"50%\",temp.loc[(temp.black_pct >= 50)].describe(),\n",
        "\"66%\",temp.loc[(temp.black_pct >= 66)].describe(),\n",
        "\"75%\",temp.loc[(temp.black_pct >= 75)].describe(),\n",
        "\"90%\",temp.loc[(temp.black_pct >= 90)].describe(),\n",
        "\"95%\",temp.loc[(temp.black_pct >= 95)].describe())"
      ],
      "execution_count": null,
      "outputs": []
    },
    {
      "cell_type": "code",
      "metadata": {
        "colab_type": "code",
        "id": "O9WREKIXGhPD",
        "colab": {}
      },
      "source": [
        "display(\"0%\", temp.loc[(temp.white_pct == 0)].describe(),\n",
        "\"5%\",temp.loc[(temp.white_pct <= 5)].describe(),\n",
        "\"25%\",temp.loc[(temp.white_pct >= 25)].describe(),\n",
        "\"33%\",temp.loc[(temp.white_pct >= 33)].describe(),\n",
        "\"50%\",temp.loc[(temp.white_pct >= 50)].describe(),\n",
        "\"66%\",temp.loc[(temp.white_pct >= 66)].describe(),\n",
        "\"75%\",temp.loc[(temp.white_pct >= 75)].describe())"
      ],
      "execution_count": null,
      "outputs": []
    },
    {
      "cell_type": "code",
      "metadata": {
        "colab_type": "code",
        "id": "HA_ov8XGGhPE",
        "colab": {}
      },
      "source": [
        "display(\"0%\", temp.loc[(temp.native_pct == 0)].describe(),\n",
        "\"5%\",temp.loc[(temp.native_pct <= 5)].describe(),\n",
        "\"25%\",temp.loc[(temp.native_pct >= 25)].describe(),\n",
        "\"33%\",temp.loc[(temp.native_pct >= 33)].describe(),\n",
        "\"50%\",temp.loc[(temp.native_pct >= 50)].describe(),\n",
        "\"66%\",temp.loc[(temp.native_pct >= 66)].describe(),\n",
        "\"75%\",temp.loc[(temp.native_pct >= 75)].describe())"
      ],
      "execution_count": null,
      "outputs": []
    },
    {
      "cell_type": "code",
      "metadata": {
        "colab_type": "code",
        "id": "7oJBP9wnGhPG",
        "colab": {}
      },
      "source": [
        "display(\"0%\", temp.loc[(temp.latino_pct == 0)].describe(),\n",
        "\"5%\",temp.loc[(temp.latino_pct <= 5)].describe(),\n",
        "\"25%\",temp.loc[(temp.latino_pct >= 25)].describe(),\n",
        "\"33%\",temp.loc[(temp.latino_pct >= 33)].describe(),\n",
        "\"50%\",temp.loc[(temp.latino_pct >= 50)].describe(),\n",
        "\"66%\",temp.loc[(temp.latino_pct >= 66)].describe(),\n",
        "\"75%\",temp.loc[(temp.latino_pct >= 75)].describe())"
      ],
      "execution_count": null,
      "outputs": []
    },
    {
      "cell_type": "markdown",
      "metadata": {
        "colab_type": "text",
        "id": "kVkjdQenGhPH"
      },
      "source": [
        "### National Comparative Rankings 2010 vs 2020"
      ]
    },
    {
      "cell_type": "code",
      "metadata": {
        "colab_type": "code",
        "id": "RMjkC3qZGhPH",
        "colab": {}
      },
      "source": [
        "# average difference by region\n",
        "states.groupby('Region').mean().sort_values(by='10_20_state_difference', ascending=False)"
      ],
      "execution_count": null,
      "outputs": []
    },
    {
      "cell_type": "code",
      "metadata": {
        "colab_type": "code",
        "id": "bEn7bKpzGhPK",
        "colab": {}
      },
      "source": [
        "#assign ranks to states based on comparative response rate\n",
        "states['2020_rank'] = states['2020_state_rate'].rank(method='max', ascending=False)\n",
        "states['2010_rank'] = states['2010_state_rate'].rank(method='max', ascending=False)\n",
        "\n",
        "#pull ranks into separate dataframe\n",
        "state_ranks = states[['State', '2020_rank', '2010_rank']].sort_values(by='2020_rank')\n",
        "\n",
        "#show change in rank from 2010 to 2020\n",
        "#negative number means a state has a lower 2020 response rate and has gone down in rankings\n",
        "state_ranks['rank_change'] = state_ranks['2010_rank'] - state_ranks['2020_rank']\n",
        "#state_ranks.sort_values(by='rank_change', ascending=True)\n",
        "\n",
        "#see how many states only changed 2 or fewer positions\n",
        "#small_change = state_ranks[state_ranks.rank_change.between(-2, 2, inclusive=True)].sort_values(by='rank_change')\n",
        "#small_change\n",
        "#16 states have stayed ~similar in the rankings, and this seems to impact\n",
        "#states with both high and low response rates\n",
        "#small_change.mean(axis=0)['2020_rank']"
      ],
      "execution_count": null,
      "outputs": []
    },
    {
      "cell_type": "markdown",
      "metadata": {
        "colab_type": "text",
        "id": "WKiaI-X1GhPM"
      },
      "source": [
        "### Internet Usage"
      ]
    },
    {
      "cell_type": "markdown",
      "metadata": {
        "colab_type": "text",
        "id": "ptW-CnMhGhPM"
      },
      "source": [
        "Internet usage is only available for 2020 rates"
      ]
    },
    {
      "cell_type": "code",
      "metadata": {
        "colab_type": "code",
        "id": "3qs36MsNGhPM",
        "colab": {}
      },
      "source": [
        "### Percent of response rate not from internet\n",
        "\n",
        "print(\n",
        "    \"The average state response rate to the census NOT conducted online:\",\n",
        "    states2020.mean(axis=0)['state_not_int_pct'])\n",
        "\n",
        "# average non internet response rate\n",
        "states2020.groupby(by='State').mean().sort_values(\n",
        "    by='state_not_int_pct', ascending=False).merge(state_ranks, on='State')"
      ],
      "execution_count": null,
      "outputs": []
    },
    {
      "cell_type": "code",
      "metadata": {
        "colab_type": "code",
        "id": "NOPkwvyIGhPO",
        "colab": {}
      },
      "source": [
        "### Without Puerto Rico\n",
        "\n",
        "#make non-pr df\n",
        "npr = states2020[states2020['State'] != 'Puerto Rico']\n",
        "\n",
        "# average internet response\n",
        "npr.mean(axis=0)['state_internet']"
      ],
      "execution_count": null,
      "outputs": []
    },
    {
      "cell_type": "code",
      "metadata": {
        "colab_type": "code",
        "id": "ja5AFxPmGhPP",
        "colab": {}
      },
      "source": [
        "# average overall response rate\n",
        "npr.mean(axis=0)['2020_state_rate']"
      ],
      "execution_count": null,
      "outputs": []
    },
    {
      "cell_type": "markdown",
      "metadata": {
        "colab_type": "text",
        "id": "iFEXbe41GhPQ"
      },
      "source": [
        "### Region Analysis"
      ]
    },
    {
      "cell_type": "code",
      "metadata": {
        "colab_type": "code",
        "id": "LYh5mmYFGhPR",
        "colab": {}
      },
      "source": [
        "# average by region\n",
        "# NOTE as tribal tracts are not assigned to a state they do not have a corresponding region and thus are not counted in the regional calculations\n",
        "states.groupby('Region').mean().sort_values(by='2020_state_rate', ascending=False)"
      ],
      "execution_count": null,
      "outputs": []
    },
    {
      "cell_type": "code",
      "metadata": {
        "colab_type": "code",
        "id": "7fXsLoeOGhPS",
        "colab": {}
      },
      "source": [
        "# average difference as of 6/15/20\n",
        "#this can take a while to run so is commented out unless needed\n",
        "#tracts.mean(axis=0)['10_20_tract_difference']"
      ],
      "execution_count": null,
      "outputs": []
    },
    {
      "cell_type": "code",
      "metadata": {
        "colab_type": "code",
        "id": "gvugmJgRGhPT",
        "colab": {}
      },
      "source": [
        "# average difference by region\n",
        "tracts.groupby('Region').mean().sort_values(by='10_20_tract_difference', ascending=False)"
      ],
      "execution_count": null,
      "outputs": []
    },
    {
      "cell_type": "code",
      "metadata": {
        "colab_type": "code",
        "id": "I3yOX8WpGhPU",
        "colab": {}
      },
      "source": [
        "#tract average differences vs state rates\n",
        "tracts.groupby('State').mean().sort_values(by='2020_state_rate', ascending=False)"
      ],
      "execution_count": null,
      "outputs": []
    },
    {
      "cell_type": "markdown",
      "metadata": {
        "colab_type": "text",
        "id": "CUoMOxPPGhPW"
      },
      "source": [
        "### Tribal tracts"
      ]
    },
    {
      "cell_type": "code",
      "metadata": {
        "colab_type": "code",
        "id": "8pCYJgBuGhPW",
        "colab": {}
      },
      "source": [
        "# create df with response rates in tribal tracts\n",
        "tribal = tracts2020[tracts2020['Geo_Type'].str.contains(\"Tribal\")].sort_values(\n",
        "    by='2020_tract_rate', ascending=False)"
      ],
      "execution_count": null,
      "outputs": []
    },
    {
      "cell_type": "code",
      "metadata": {
        "colab_type": "code",
        "id": "ZrUFQMlFGhPX",
        "colab": {}
      },
      "source": [
        "### tribal areas and tracts stats\n",
        "\n",
        "#mean non internet response\n",
        "print(\"Average % non-int response tribal:\", \n",
        "      tribal.mean(axis=0)['tract_not_int_pct'], \"%\")"
      ],
      "execution_count": null,
      "outputs": []
    },
    {
      "cell_type": "code",
      "metadata": {
        "colab_type": "code",
        "id": "PaLAjOIHGhPY",
        "colab": {}
      },
      "source": [
        "# mean overall response rate\n",
        "print(\"Tribal average response rate:\",\n",
        "      tribal.mean(axis=0)['2020_tract_rate'], \"%\")"
      ],
      "execution_count": null,
      "outputs": []
    },
    {
      "cell_type": "markdown",
      "metadata": {
        "colab_type": "text",
        "id": "A0osLXXaGhPZ"
      },
      "source": [
        "### Tracts with 0 overall response rate"
      ]
    },
    {
      "cell_type": "code",
      "metadata": {
        "colab_type": "code",
        "id": "prnQNgLGGhPa",
        "colab": {}
      },
      "source": [
        "## Tracts with 0 cumulative response rate\n",
        "zeros = df[df['2020_tract_rate'] == 0]\n",
        "\n",
        "print(\"Number of tracts with 0 cumulative response rate:\", len(zeros), \"\\n\")\n",
        "\n",
        "#return data frame with each tract with 0 2020 response rate\n",
        "zeros.sort_values(by='State')"
      ],
      "execution_count": null,
      "outputs": []
    },
    {
      "cell_type": "code",
      "metadata": {
        "colab_type": "code",
        "id": "K8K77wgTGhPb",
        "colab": {}
      },
      "source": [
        "#make dataframe of states with # tracts with 0%, number total tracts,\n",
        "#and what % of total tracts are 0\n",
        "temp = pd.merge(pd.DataFrame(zeros['State'].value_counts()),\n",
        "                pd.DataFrame(tracts['State'].value_counts()),\n",
        "                right_index=True, left_index=True).rename(\n",
        "                    columns={\"State_x\": \"0_tracts\", \"State_y\" : \"total_tracts\"})\n",
        "#compute percentage\n",
        "temp['0_percent'] = temp['0_tracts'] * 100 / temp['total_tracts']\n",
        "temp"
      ],
      "execution_count": null,
      "outputs": []
    },
    {
      "cell_type": "markdown",
      "metadata": {
        "id": "Tn2rfAXWrfBe",
        "colab_type": "text"
      },
      "source": [
        "## Regressions With Puerto Rico"
      ]
    },
    {
      "cell_type": "markdown",
      "metadata": {
        "id": "aKBskyL7s-xu",
        "colab_type": "text"
      },
      "source": [
        "### 2020 Regressions"
      ]
    },
    {
      "cell_type": "code",
      "metadata": {
        "colab_type": "code",
        "id": "SHooFoBrrYEc",
        "colab": {}
      },
      "source": [
        "### 2020 Multi-regression\n",
        "\n",
        "import statsmodels.api as sm\n",
        "\n",
        "#put all variables for predicting 2020 rates in dataframe\n",
        "variables20 = reg_df[['2010_tract_rate', '2010_state_rate',\n",
        " 'total_population', 'median_age', 'white_pct', 'black_pct', 'native_pct', \n",
        " 'asian_pct', 'pacific_pct', 'other_pct', 'two_pct', 'latino_pct', \n",
        " 'notLatino_pct', 'house_units', 'occupied_pct', 'vacant_pct', 'owner_pct', \n",
        " 'renter_pct', 'no_telephone_pct',\n",
        " 'median_value', 'rent_more_35_pct', 'median_income', 'no_int_pct']]\n",
        "\n",
        "#what we want to predict - 2020 response rates - in dataframe\n",
        "target20 = reg_df[[\"10_20_tract_difference\"]]\n",
        "\n",
        "#build model and print summary\n",
        "print(sm.OLS(target20, variables20).fit().summary())"
      ],
      "execution_count": null,
      "outputs": []
    },
    {
      "cell_type": "code",
      "metadata": {
        "colab_type": "code",
        "id": "cbIp7LrSrYEg",
        "colab": {}
      },
      "source": [
        "### 2020 linear regressions for each variable\n",
        "\n",
        "from sklearn import linear_model\n",
        "\n",
        "#create list of variable names\n",
        "cols = variables20.columns.tolist()\n",
        "#build linear model\n",
        "regr = linear_model.LinearRegression()\n",
        "#create empty list to store loop results\n",
        "rows = []\n",
        "#loop through each variable\n",
        "for i in cols:\n",
        "    #fit linear model to variable\n",
        "    regr.fit(variables20[[i]], target20)\n",
        "    #save model variable name, intercept, coef and r^2 to list\n",
        "    rows.append([i, regr.intercept_, regr.coef_, regr.score(variables20[[i]], target20)])\n",
        "\n",
        "#turn list into df with these column names\n",
        "linears20 = pd.DataFrame(rows, columns=['variable', 'intercept', 'coefficient', 'r-squared'])\n",
        "\n",
        "#remove square brackets lol\n",
        "linears20['coefficient'] = linears20['coefficient'].str.get(0)\n",
        "linears20['coefficient'] = linears20['coefficient'].str.get(0)\n",
        "linears20['intercept'] = linears20['intercept'].str.get(0)\n",
        "\n",
        "#print df sorted coefs largest --> smallest\n",
        "linears20.sort_values(by='coefficient', ascending=False)"
      ],
      "execution_count": null,
      "outputs": []
    },
    {
      "cell_type": "markdown",
      "metadata": {
        "colab_type": "text",
        "id": "PToZ-lAorYEh"
      },
      "source": [
        "### Normalized 2020 inputs"
      ]
    },
    {
      "cell_type": "code",
      "metadata": {
        "colab_type": "code",
        "id": "R_dZfFsOrYEi",
        "colab": {}
      },
      "source": [
        "### 2020 Multi regression with normalized variables\n",
        "\n",
        "#normalize variable values\n",
        "norm_variables20 = (variables20 - variables20.min()) / (variables20.max() - variables20.min())\n",
        "\n",
        "#build normalized multi-regress model and print summary\n",
        "print(sm.OLS(target20, norm_variables20).fit().summary())"
      ],
      "execution_count": null,
      "outputs": []
    },
    {
      "cell_type": "code",
      "metadata": {
        "colab_type": "code",
        "id": "Fuv49LFwrYEk",
        "colab": {}
      },
      "source": [
        "#2020 normalized linear regressions for each variable\n",
        "\n",
        "# linear regression for each variable 'i'\n",
        "cols = norm_variables20.columns.tolist()\n",
        "# create model\n",
        "norm_regr = linear_model.LinearRegression()\n",
        "#empty list for loop results\n",
        "rows = []\n",
        "#loop through each variable\n",
        "for i in cols:\n",
        "    #fit model to each variable\n",
        "    norm_regr.fit(norm_variables20[[i]], target20)\n",
        "    #add model results to list\n",
        "    rows.append([i, norm_regr.intercept_, norm_regr.coef_, \n",
        "                 norm_regr.score(norm_variables20[[i]], target20)])\n",
        "\n",
        "#turn list into dataframe\n",
        "norm_linears20 = pd.DataFrame(rows, columns=['variable', 'intercept', 'coefficient', 'r-squared'])\n",
        "\n",
        "#remove square brackets\n",
        "norm_linears20['coefficient'] = norm_linears20['coefficient'].str.get(0)\n",
        "norm_linears20['coefficient'] = norm_linears20['coefficient'].str.get(0)\n",
        "norm_linears20['intercept'] = norm_linears20['intercept'].str.get(0)\n",
        "\n",
        "#print df ordered by largest to smallest coef\n",
        "norm_linears20.sort_values(by='coefficient', ascending=False)"
      ],
      "execution_count": null,
      "outputs": []
    },
    {
      "cell_type": "markdown",
      "metadata": {
        "colab_type": "text",
        "id": "ECGhvxrhrYEl"
      },
      "source": [
        "### 2010 Regressions"
      ]
    },
    {
      "cell_type": "code",
      "metadata": {
        "colab_type": "code",
        "id": "QPMtG8ozrYEm",
        "colab": {}
      },
      "source": [
        "### 2010 multi regression\n",
        "\n",
        "#put all variables for predicting 2010 rates in dataframe\n",
        "variables10 = reg_df[['total_population', 'median_age', 'white_pct', \n",
        "                      'black_pct', 'native_pct','asian_pct', 'pacific_pct', \n",
        "                      'other_pct', 'two_pct', 'latino_pct', 'notLatino_pct', \n",
        "                      'house_units', 'occupied_pct', 'vacant_pct', 'renter_pct', \n",
        "                      'no_telephone_pct', 'median_value', 'rent_more_35_pct', \n",
        "                      'median_income', 'no_int_pct']]\n",
        "\n",
        "#what we want to predict - 2010 response rates - in separate dataframe\n",
        "target10 = reg_df[[\"2010_tract_rate\"]]\n",
        "\n",
        "#create model and print summary table\n",
        "print(sm.OLS(target10, variables10).fit().summary())"
      ],
      "execution_count": null,
      "outputs": []
    },
    {
      "cell_type": "code",
      "metadata": {
        "colab_type": "code",
        "id": "v_9tWG5drYEp",
        "colab": {}
      },
      "source": [
        "### 2010 linear regression for each variable\n",
        "\n",
        "#list of variable names\n",
        "cols = variables10.columns.tolist()\n",
        "#build multi-reg model\n",
        "regr = linear_model.LinearRegression()\n",
        "#create empty list for loop results\n",
        "rows = []\n",
        "\n",
        "#loop through variables\n",
        "for i in cols:\n",
        "    #fit a model to the current variable\n",
        "    regr.fit(variables10[[i]], target10)\n",
        "    #save the model's resulting variable name, intercept, coef, and r^2\n",
        "    rows.append([i, regr.intercept_, regr.coef_,\n",
        "                regr.score(variables10[[i]], target10)])\n",
        "\n",
        "#turn list into data frame\n",
        "linears10 = pd.DataFrame(rows, columns=['variable', 'intercept', 'coefficient', 'r-squared'])\n",
        "\n",
        "#remove square brackets\n",
        "linears10['coefficient'] = linears10['coefficient'].str.get(0)\n",
        "linears10['coefficient'] = linears10['coefficient'].str.get(0)\n",
        "linears10['intercept'] = linears10['intercept'].str.get(0)\n",
        "\n",
        "#print data frame ordered coefficient largest --> smallest\n",
        "linears10.sort_values(by='coefficient', ascending=False)"
      ],
      "execution_count": null,
      "outputs": []
    },
    {
      "cell_type": "markdown",
      "metadata": {
        "colab_type": "text",
        "id": "43-byZJzrYEq"
      },
      "source": [
        "### Normalized 2010 Regressions"
      ]
    },
    {
      "cell_type": "code",
      "metadata": {
        "colab_type": "code",
        "id": "S4bR0BjIrYEr",
        "colab": {}
      },
      "source": [
        "### 2010 normalized multi-regression\n",
        "\n",
        "#normalize the variables\n",
        "norm_variables10 = (variables10 - variables10.min()) / (variables10.max() - variables10.min())\n",
        "\n",
        "#build normalized model and print summary\n",
        "print(sm.OLS(target10, norm_variables10).fit().summary())"
      ],
      "execution_count": null,
      "outputs": []
    },
    {
      "cell_type": "code",
      "metadata": {
        "colab_type": "code",
        "id": "ro4o8GDNrYEs",
        "colab": {}
      },
      "source": [
        "###2010 normalized linear regressions for each variable\n",
        "\n",
        "#create list of variable names\n",
        "cols = norm_variables10.columns.tolist()\n",
        "#build the model\n",
        "norm_regr = linear_model.LinearRegression()\n",
        "#create empty list for model results\n",
        "rows = []\n",
        "#cycle through variables\n",
        "for i in cols:\n",
        "    #do the linear regression on the current variable\n",
        "    norm_regr.fit(norm_variables10[[i]], target10)\n",
        "    #add the corresponding variable name, intercept, coefficient and r-squared to the list\n",
        "    rows.append([i, norm_regr.intercept_, norm_regr.coef_,\n",
        "                norm_regr.score(norm_variables10[[i]], target10)])\n",
        "\n",
        "#turn list into data frame with these column names\n",
        "norm_linears10 = pd.DataFrame(rows, columns=['variable', 'intercept', 'coefficient', 'r-squared'])\n",
        "\n",
        "#remove square brackets\n",
        "norm_linears10['coefficient'] = norm_linears10['coefficient'].str.get(0)\n",
        "norm_linears10['coefficient'] = norm_linears10['coefficient'].str.get(0)\n",
        "norm_linears10['intercept'] = norm_linears10['intercept'].str.get(0)\n",
        "\n",
        "#print df sorted by coefficient\n",
        "norm_linears10.sort_values(by='coefficient', ascending=False)"
      ],
      "execution_count": null,
      "outputs": []
    },
    {
      "cell_type": "markdown",
      "metadata": {
        "id": "mXjoZqoZubCg",
        "colab_type": "text"
      },
      "source": [
        "### 2020 Edited Regressions\n",
        "Edited = Run regressions with fewer variables"
      ]
    },
    {
      "cell_type": "code",
      "metadata": {
        "colab_type": "code",
        "id": "co5U07EArYEu",
        "colab": {}
      },
      "source": [
        "### 2020 edited multi-regressions\n",
        "\n",
        "#put all variables for predicting 2020 rates in dataframe\n",
        "variables_ed = reg_df[['white_pct', 'black_pct', 'native_pct', \n",
        " 'latino_pct','vacant_pct', 'renter_pct', \n",
        " 'median_value', 'rent_more_35_pct', 'median_income', 'no_int_pct']]\n",
        "\n",
        "#what we want to predict - 2020 response rates - in dataframe\n",
        "target_ed = reg_df[[\"2020_tract_rate\"]]\n",
        "\n",
        "#build and fit the multi-regression model\n",
        "print(sm.OLS(target_ed, variables_ed).fit().summary())"
      ],
      "execution_count": null,
      "outputs": []
    },
    {
      "cell_type": "code",
      "metadata": {
        "colab_type": "code",
        "id": "Lm1iHnSurYEw",
        "colab": {}
      },
      "source": [
        "### 2020 edited linear regressions\n",
        "\n",
        "#create list of variable names\n",
        "cols = variables_ed.columns.tolist()\n",
        "#build the model\n",
        "regr = linear_model.LinearRegression()\n",
        "#create empty list to append results\n",
        "rows = []\n",
        "\n",
        "#loop through variables\n",
        "for i in cols:\n",
        "    #fit the model\n",
        "    regr.fit(variables_ed[[i]], target_ed)\n",
        "    #put model variable name, intercept, coef and r^2 in list\n",
        "    rows.append([i, regr.intercept_, regr.coef_,\n",
        "                regr.score(variables_ed[[i]], target_ed)])\n",
        "\n",
        "#turn list into data frame with these column names\n",
        "linears_ed = pd.DataFrame(rows, columns=['variable', 'intercept', 'coefficient', 'r-squared'])\n",
        "\n",
        "#remove square brackets\n",
        "linears_ed['coefficient'] = linears_ed['coefficient'].str.get(0)\n",
        "linears_ed['coefficient'] = linears_ed['coefficient'].str.get(0)\n",
        "linears_ed['intercept'] = linears_ed['intercept'].str.get(0)\n",
        "\n",
        "#print df sorted by coefficient largest --> smallest\n",
        "linears_ed.sort_values(by='coefficient', ascending=False)"
      ],
      "execution_count": null,
      "outputs": []
    },
    {
      "cell_type": "code",
      "metadata": {
        "colab_type": "code",
        "id": "Okny5FRDrYEx",
        "colab": {}
      },
      "source": [
        "### normalized 2020 edited variables multi regression\n",
        "\n",
        "#normalize the variables\n",
        "norm_variables_ed = (variables_ed - variables_ed.min()) / (variables_ed.max() - variables_ed.min())\n",
        "\n",
        "#build normalized model and print summary\n",
        "print(sm.OLS(target_ed, norm_variables_ed).fit().summary())"
      ],
      "execution_count": null,
      "outputs": []
    },
    {
      "cell_type": "code",
      "metadata": {
        "colab_type": "code",
        "id": "q0CWXD1KGhOg",
        "colab": {}
      },
      "source": [
        "##see all dfs in memory\n",
        "%whos DataFrame\n",
        "\n",
        "#### Existing DFs:\n",
        "\n",
        "# df: dataframe with all years, states, tracts, demographics\n",
        "\n",
        "# states: 2010 and 2020 state rates\n",
        "# states2010: 2010 State rates\n",
        "# states2020: 2020 State rates\n",
        "\n",
        "# tracts: 2010 and 2020 tract and state rates\n",
        "# tracts2010: 2010 tract rates\n",
        "# tracts2020: 2020 tract rates\n",
        "\n",
        "# all20: 2020 tracts paired with states, includes internet data\n",
        "\n",
        "# merged: all 2020 rates by multiple geo types\n",
        "# no_2010: tracts with a null 2010 response rate value\n",
        "# demo: 2014-2018 ACS information for 2010 census tract boundaries\n",
        "\n",
        "# ignore all dfs with \"temp\" in name "
      ],
      "execution_count": null,
      "outputs": []
    },
    {
      "cell_type": "code",
      "metadata": {
        "colab_type": "code",
        "id": "vyjmUC7FGhOl",
        "colab": {}
      },
      "source": [
        "# get average state rate and see how many are above average\n",
        "temp = states2020['2020_state_rate'] > 63.0\n",
        "\n",
        "print(\n",
        "    \"63.0% is the current nationwide response rate and\",\n",
        "    np.sum(temp),\"states exceed that\\n\",\n",
        "    states2020[temp].State.to_list(), \"\\n\\n\",\n",
        "        states2020[temp].Region.value_counts())"
      ],
      "execution_count": null,
      "outputs": []
    },
    {
      "cell_type": "code",
      "metadata": {
        "colab_type": "code",
        "id": "wXqnoLH4GhOn",
        "colab": {}
      },
      "source": [
        "# get average variables by region\n",
        "#pd.set_option('display.max_rows', None)\n",
        "df.groupby('Region').describe().T.round(1)"
      ],
      "execution_count": null,
      "outputs": []
    },
    {
      "cell_type": "code",
      "metadata": {
        "colab_type": "code",
        "id": "_4-2STcGGhOo",
        "colab": {}
      },
      "source": [
        "#lowest tract rates\n",
        "lowest = df.sort_values(by='2020_tract_rate').head(1000)\n",
        "print(\"1000 lowest tracts comprise\", len(lowest) *100 / len(df), \"off all tracts\")\n",
        "display(lowest.describe())\n",
        "display(df.describe())"
      ],
      "execution_count": null,
      "outputs": []
    }
  ]
}